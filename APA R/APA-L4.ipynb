{
 "cells": [
  {
   "cell_type": "markdown",
   "metadata": {},
   "source": [
    "# APA Laboratori 4 - Sistemes lineals (regularitzats)"
   ]
  },
  {
   "cell_type": "markdown",
   "metadata": {},
   "source": [
    "veiem que les matrius $A·A^T$ i $A^T·A$ són diferents\n",
    "\n",
    " definim $i$"
   ]
  },
  {
   "cell_type": "code",
   "execution_count": 91,
   "metadata": {},
   "outputs": [],
   "source": [
    "i <- sqrt(as.complex(-1))"
   ]
  },
  {
   "cell_type": "markdown",
   "metadata": {},
   "source": [
    "i la matriu"
   ]
  },
  {
   "cell_type": "code",
   "execution_count": 92,
   "metadata": {},
   "outputs": [
    {
     "data": {
      "text/html": [
       "<table>\n",
       "<tbody>\n",
       "\t<tr><td>0+0i</td><td>0+1i</td></tr>\n",
       "\t<tr><td>0+0i</td><td>1+0i</td></tr>\n",
       "</tbody>\n",
       "</table>\n"
      ],
      "text/latex": [
       "\\begin{tabular}{ll}\n",
       "\t 0+0i & 0+1i\\\\\n",
       "\t 0+0i & 1+0i\\\\\n",
       "\\end{tabular}\n"
      ],
      "text/markdown": [
       "\n",
       "| 0+0i | 0+1i | \n",
       "| 0+0i | 1+0i | \n",
       "\n",
       "\n"
      ],
      "text/plain": [
       "     [,1] [,2]\n",
       "[1,] 0+0i 0+1i\n",
       "[2,] 0+0i 1+0i"
      ]
     },
     "metadata": {},
     "output_type": "display_data"
    }
   ],
   "source": [
    "(A <- matrix(c(0,i,0,1),nrow=2,byrow = TRUE))"
   ]
  },
  {
   "cell_type": "markdown",
   "metadata": {},
   "source": [
    "$A\\cdot A^T$ és la matriu (-1 i; i 1)"
   ]
  },
  {
   "cell_type": "code",
   "execution_count": 93,
   "metadata": {},
   "outputs": [
    {
     "data": {
      "text/html": [
       "<table>\n",
       "<tbody>\n",
       "\t<tr><td>-1+0i</td><td>0+1i </td></tr>\n",
       "\t<tr><td> 0+1i</td><td>1+0i </td></tr>\n",
       "</tbody>\n",
       "</table>\n"
      ],
      "text/latex": [
       "\\begin{tabular}{ll}\n",
       "\t -1+0i & 0+1i \\\\\n",
       "\t  0+1i & 1+0i \\\\\n",
       "\\end{tabular}\n"
      ],
      "text/markdown": [
       "\n",
       "| -1+0i | 0+1i  | \n",
       "|  0+1i | 1+0i  | \n",
       "\n",
       "\n"
      ],
      "text/plain": [
       "     [,1]  [,2]\n",
       "[1,] -1+0i 0+1i\n",
       "[2,]  0+1i 1+0i"
      ]
     },
     "metadata": {},
     "output_type": "display_data"
    }
   ],
   "source": [
    "(A %*% t(A))  "
   ]
  },
  {
   "cell_type": "markdown",
   "metadata": {},
   "source": [
    "$A^T \\cdot A$ és la matriu tot zeros"
   ]
  },
  {
   "cell_type": "code",
   "execution_count": 94,
   "metadata": {},
   "outputs": [
    {
     "data": {
      "text/html": [
       "<table>\n",
       "<tbody>\n",
       "\t<tr><td>0+0i</td><td>0+0i</td></tr>\n",
       "\t<tr><td>0+0i</td><td>0+0i</td></tr>\n",
       "</tbody>\n",
       "</table>\n"
      ],
      "text/latex": [
       "\\begin{tabular}{ll}\n",
       "\t 0+0i & 0+0i\\\\\n",
       "\t 0+0i & 0+0i\\\\\n",
       "\\end{tabular}\n"
      ],
      "text/markdown": [
       "\n",
       "| 0+0i | 0+0i | \n",
       "| 0+0i | 0+0i | \n",
       "\n",
       "\n"
      ],
      "text/plain": [
       "     [,1] [,2]\n",
       "[1,] 0+0i 0+0i\n",
       "[2,] 0+0i 0+0i"
      ]
     },
     "metadata": {},
     "output_type": "display_data"
    }
   ],
   "source": [
    "(t(A) %*% A)  "
   ]
  },
  {
   "cell_type": "markdown",
   "metadata": {},
   "source": [
    "***"
   ]
  },
  {
   "cell_type": "markdown",
   "metadata": {},
   "source": [
    "## EXEMPLE 1"
   ]
  },
  {
   "cell_type": "markdown",
   "metadata": {},
   "source": [
    " Resolució d'un problema artificial senzill\n",
    "\n",
    "\n",
    " Definició del sistema lineal a resoldre\n",
    " \n",
    " $t = f(x) + \\epsilon$\n",
    " \n",
    "on $f(x) = (1 + 1/9)(x-1) + 10$ i $\\epsilon \\sim N(0,1)$"
   ]
  },
  {
   "cell_type": "code",
   "execution_count": 95,
   "metadata": {},
   "outputs": [
    {
     "data": {
      "text/html": [
       "<table>\n",
       "<tbody>\n",
       "\t<tr><td>1 </td><td> 1</td></tr>\n",
       "\t<tr><td>1 </td><td> 2</td></tr>\n",
       "\t<tr><td>1 </td><td> 3</td></tr>\n",
       "\t<tr><td>1 </td><td> 4</td></tr>\n",
       "\t<tr><td>1 </td><td> 5</td></tr>\n",
       "\t<tr><td>1 </td><td> 6</td></tr>\n",
       "\t<tr><td>1 </td><td> 7</td></tr>\n",
       "\t<tr><td>1 </td><td> 8</td></tr>\n",
       "\t<tr><td>1 </td><td> 9</td></tr>\n",
       "\t<tr><td>1 </td><td>10</td></tr>\n",
       "</tbody>\n",
       "</table>\n"
      ],
      "text/latex": [
       "\\begin{tabular}{ll}\n",
       "\t 1  &  1\\\\\n",
       "\t 1  &  2\\\\\n",
       "\t 1  &  3\\\\\n",
       "\t 1  &  4\\\\\n",
       "\t 1  &  5\\\\\n",
       "\t 1  &  6\\\\\n",
       "\t 1  &  7\\\\\n",
       "\t 1  &  8\\\\\n",
       "\t 1  &  9\\\\\n",
       "\t 1  & 10\\\\\n",
       "\\end{tabular}\n"
      ],
      "text/markdown": [
       "\n",
       "| 1  |  1 | \n",
       "| 1  |  2 | \n",
       "| 1  |  3 | \n",
       "| 1  |  4 | \n",
       "| 1  |  5 | \n",
       "| 1  |  6 | \n",
       "| 1  |  7 | \n",
       "| 1  |  8 | \n",
       "| 1  |  9 | \n",
       "| 1  | 10 | \n",
       "\n",
       "\n"
      ],
      "text/plain": [
       "      [,1] [,2]\n",
       " [1,] 1     1  \n",
       " [2,] 1     2  \n",
       " [3,] 1     3  \n",
       " [4,] 1     4  \n",
       " [5,] 1     5  \n",
       " [6,] 1     6  \n",
       " [7,] 1     7  \n",
       " [8,] 1     8  \n",
       " [9,] 1     9  \n",
       "[10,] 1    10  "
      ]
     },
     "metadata": {},
     "output_type": "display_data"
    }
   ],
   "source": [
    "N <- 10\n",
    "\n",
    "X <- matrix(c(rep(1,N), seq(N)),nrow=N)\n",
    "\n",
    "X"
   ]
  },
  {
   "cell_type": "code",
   "execution_count": 96,
   "metadata": {},
   "outputs": [
    {
     "data": {
      "text/html": [
       "<ol class=list-inline>\n",
       "\t<li>9.56004191229673</li>\n",
       "\t<li>12.3747629140177</li>\n",
       "\t<li>13.2463306757124</li>\n",
       "\t<li>12.4297089934074</li>\n",
       "\t<li>16.6695162723581</li>\n",
       "\t<li>15.1289332034195</li>\n",
       "\t<li>14.7940911755943</li>\n",
       "\t<li>17.8268169576449</li>\n",
       "\t<li>18.6301675184563</li>\n",
       "\t<li>19.5373377741919</li>\n",
       "</ol>\n"
      ],
      "text/latex": [
       "\\begin{enumerate*}\n",
       "\\item 9.56004191229673\n",
       "\\item 12.3747629140177\n",
       "\\item 13.2463306757124\n",
       "\\item 12.4297089934074\n",
       "\\item 16.6695162723581\n",
       "\\item 15.1289332034195\n",
       "\\item 14.7940911755943\n",
       "\\item 17.8268169576449\n",
       "\\item 18.6301675184563\n",
       "\\item 19.5373377741919\n",
       "\\end{enumerate*}\n"
      ],
      "text/markdown": [
       "1. 9.56004191229673\n",
       "2. 12.3747629140177\n",
       "3. 13.2463306757124\n",
       "4. 12.4297089934074\n",
       "5. 16.6695162723581\n",
       "6. 15.1289332034195\n",
       "7. 14.7940911755943\n",
       "8. 17.8268169576449\n",
       "9. 18.6301675184563\n",
       "10. 19.5373377741919\n",
       "\n",
       "\n"
      ],
      "text/plain": [
       " [1]  9.560042 12.374763 13.246331 12.429709 16.669516 15.128933 14.794091\n",
       " [8] 17.826817 18.630168 19.537338"
      ]
     },
     "metadata": {},
     "output_type": "display_data"
    }
   ],
   "source": [
    "t <- seq(10,20,length.out=N) + rnorm(N)\n",
    "\n",
    "t"
   ]
  },
  {
   "cell_type": "code",
   "execution_count": 97,
   "metadata": {},
   "outputs": [
    {
     "data": {
      "image/png": "[encoded data removed]",
      "text/plain": [
       "plot without title"
      ]
     },
     "metadata": {},
     "output_type": "display_data"
    }
   ],
   "source": [
    "plot(X[,2],t,lwd=3)"
   ]
  },
  {
   "cell_type": "markdown",
   "metadata": {},
   "source": [
    "\n",
    "### Solució de problemes de mínims quadrats de l'estil \n",
    "\n",
    "$\\min_w || t - Xw ||^2$\n",
    "\n",
    "1) Resolució mitjançant la pseudo-inversa"
   ]
  },
  {
   "cell_type": "markdown",
   "metadata": {},
   "source": [
    "$X^T \\cdot X$"
   ]
  },
  {
   "cell_type": "code",
   "execution_count": 98,
   "metadata": {},
   "outputs": [
    {
     "data": {
      "text/html": [
       "<table>\n",
       "<tbody>\n",
       "\t<tr><td>10 </td><td> 55</td></tr>\n",
       "\t<tr><td>55 </td><td>385</td></tr>\n",
       "</tbody>\n",
       "</table>\n"
      ],
      "text/latex": [
       "\\begin{tabular}{ll}\n",
       "\t 10  &  55\\\\\n",
       "\t 55  & 385\\\\\n",
       "\\end{tabular}\n"
      ],
      "text/markdown": [
       "\n",
       "| 10  |  55 | \n",
       "| 55  | 385 | \n",
       "\n",
       "\n"
      ],
      "text/plain": [
       "     [,1] [,2]\n",
       "[1,] 10    55 \n",
       "[2,] 55   385 "
      ]
     },
     "metadata": {},
     "output_type": "display_data"
    }
   ],
   "source": [
    "(C <- t(X) %*% X)  "
   ]
  },
  {
   "cell_type": "markdown",
   "metadata": {},
   "source": [
    "$(X^T \\cdot X)^{-1} \\cdot X^T$"
   ]
  },
  {
   "cell_type": "code",
   "execution_count": 99,
   "metadata": {},
   "outputs": [
    {
     "data": {
      "text/html": [
       "<table>\n",
       "<tbody>\n",
       "\t<tr><td> 0.40000000 </td><td> 0.33333333 </td><td> 0.26666667 </td><td> 0.20000000 </td><td> 0.133333333</td><td>0.066666667 </td><td>1.387779e-17</td><td>-0.06666667 </td><td>-0.13333333 </td><td>-0.20000000 </td></tr>\n",
       "\t<tr><td>-0.05454545 </td><td>-0.04242424 </td><td>-0.03030303 </td><td>-0.01818182 </td><td>-0.006060606</td><td>0.006060606 </td><td>1.818182e-02</td><td> 0.03030303 </td><td> 0.04242424 </td><td> 0.05454545 </td></tr>\n",
       "</tbody>\n",
       "</table>\n"
      ],
      "text/latex": [
       "\\begin{tabular}{llllllllll}\n",
       "\t  0.40000000  &  0.33333333  &  0.26666667  &  0.20000000  &  0.133333333 & 0.066666667  & 1.387779e-17 & -0.06666667  & -0.13333333  & -0.20000000 \\\\\n",
       "\t -0.05454545  & -0.04242424  & -0.03030303  & -0.01818182  & -0.006060606 & 0.006060606  & 1.818182e-02 &  0.03030303  &  0.04242424  &  0.05454545 \\\\\n",
       "\\end{tabular}\n"
      ],
      "text/markdown": [
       "\n",
       "|  0.40000000  |  0.33333333  |  0.26666667  |  0.20000000  |  0.133333333 | 0.066666667  | 1.387779e-17 | -0.06666667  | -0.13333333  | -0.20000000  | \n",
       "| -0.05454545  | -0.04242424  | -0.03030303  | -0.01818182  | -0.006060606 | 0.006060606  | 1.818182e-02 |  0.03030303  |  0.04242424  |  0.05454545  | \n",
       "\n",
       "\n"
      ],
      "text/plain": [
       "     [,1]        [,2]        [,3]        [,4]        [,5]         [,6]       \n",
       "[1,]  0.40000000  0.33333333  0.26666667  0.20000000  0.133333333 0.066666667\n",
       "[2,] -0.05454545 -0.04242424 -0.03030303 -0.01818182 -0.006060606 0.006060606\n",
       "     [,7]         [,8]        [,9]        [,10]      \n",
       "[1,] 1.387779e-17 -0.06666667 -0.13333333 -0.20000000\n",
       "[2,] 1.818182e-02  0.03030303  0.04242424  0.05454545"
      ]
     },
     "metadata": {},
     "output_type": "display_data"
    }
   ],
   "source": [
    "(X.pseudo <- solve(C) %*% t(X))  "
   ]
  },
  {
   "cell_type": "code",
   "execution_count": 100,
   "metadata": {},
   "outputs": [
    {
     "data": {
      "text/html": [
       "<table>\n",
       "<tbody>\n",
       "\t<tr><td>1.000000e+00</td><td>1.054712e-15</td></tr>\n",
       "\t<tr><td>2.081668e-17</td><td>1.000000e+00</td></tr>\n",
       "</tbody>\n",
       "</table>\n"
      ],
      "text/latex": [
       "\\begin{tabular}{ll}\n",
       "\t 1.000000e+00 & 1.054712e-15\\\\\n",
       "\t 2.081668e-17 & 1.000000e+00\\\\\n",
       "\\end{tabular}\n"
      ],
      "text/markdown": [
       "\n",
       "| 1.000000e+00 | 1.054712e-15 | \n",
       "| 2.081668e-17 | 1.000000e+00 | \n",
       "\n",
       "\n"
      ],
      "text/plain": [
       "     [,1]         [,2]        \n",
       "[1,] 1.000000e+00 1.054712e-15\n",
       "[2,] 2.081668e-17 1.000000e+00"
      ]
     },
     "metadata": {},
     "output_type": "display_data"
    }
   ],
   "source": [
    "(X.pseudo %*% X) # és pseudo-inversa esquerra d'X"
   ]
  },
  {
   "cell_type": "code",
   "execution_count": 101,
   "metadata": {},
   "outputs": [
    {
     "data": {
      "text/html": [
       "<table>\n",
       "<tbody>\n",
       "\t<tr><td>9.6184877</td></tr>\n",
       "\t<tr><td>0.9820515</td></tr>\n",
       "</tbody>\n",
       "</table>\n"
      ],
      "text/latex": [
       "\\begin{tabular}{l}\n",
       "\t 9.6184877\\\\\n",
       "\t 0.9820515\\\\\n",
       "\\end{tabular}\n"
      ],
      "text/markdown": [
       "\n",
       "| 9.6184877 | \n",
       "| 0.9820515 | \n",
       "\n",
       "\n"
      ],
      "text/plain": [
       "     [,1]     \n",
       "[1,] 9.6184877\n",
       "[2,] 0.9820515"
      ]
     },
     "metadata": {},
     "output_type": "display_data"
    }
   ],
   "source": [
    "(w <- X.pseudo %*% t) # solució del problema"
   ]
  },
  {
   "cell_type": "code",
   "execution_count": 102,
   "metadata": {},
   "outputs": [
    {
     "data": {
      "image/png": "[encoded data removed]",
      "text/plain": [
       "plot without title"
      ]
     },
     "metadata": {},
     "output_type": "display_data"
    }
   ],
   "source": [
    "plot(X[,2],t,lwd=3)\n",
    "lines (X[,2], w[2,1]*X[,2]+w[1,1], type=\"l\")"
   ]
  },
  {
   "cell_type": "markdown",
   "metadata": {},
   "source": [
    "2) Resolució mitjançant la SVD"
   ]
  },
  {
   "cell_type": "code",
   "execution_count": 103,
   "metadata": {},
   "outputs": [
    {
     "data": {
      "text/html": [
       "<dl>\n",
       "\t<dt>$d</dt>\n",
       "\t\t<dd><ol class=list-inline>\n",
       "\t<li>19.8217110839779</li>\n",
       "\t<li>1.44905821253278</li>\n",
       "</ol>\n",
       "</dd>\n",
       "\t<dt>$u</dt>\n",
       "\t\t<dd><table>\n",
       "<tbody>\n",
       "\t<tr><td>0.0571102  </td><td> 0.58497262</td></tr>\n",
       "\t<tr><td>0.1070474  </td><td> 0.48685286</td></tr>\n",
       "\t<tr><td>0.1569846  </td><td> 0.38873309</td></tr>\n",
       "\t<tr><td>0.2069218  </td><td> 0.29061332</td></tr>\n",
       "\t<tr><td>0.2568590  </td><td> 0.19249355</td></tr>\n",
       "\t<tr><td>0.3067962  </td><td> 0.09437379</td></tr>\n",
       "\t<tr><td>0.3567334  </td><td>-0.00374598</td></tr>\n",
       "\t<tr><td>0.4066706  </td><td>-0.10186575</td></tr>\n",
       "\t<tr><td>0.4566078  </td><td>-0.19998551</td></tr>\n",
       "\t<tr><td>0.5065449  </td><td>-0.29810528</td></tr>\n",
       "</tbody>\n",
       "</table>\n",
       "</dd>\n",
       "\t<dt>$v</dt>\n",
       "\t\t<dd><table>\n",
       "<tbody>\n",
       "\t<tr><td>0.1421813 </td><td> 0.9898406</td></tr>\n",
       "\t<tr><td>0.9898406 </td><td>-0.1421813</td></tr>\n",
       "</tbody>\n",
       "</table>\n",
       "</dd>\n",
       "</dl>\n"
      ],
      "text/latex": [
       "\\begin{description}\n",
       "\\item[\\$d] \\begin{enumerate*}\n",
       "\\item 19.8217110839779\n",
       "\\item 1.44905821253278\n",
       "\\end{enumerate*}\n",
       "\n",
       "\\item[\\$u] \\begin{tabular}{ll}\n",
       "\t 0.0571102   &  0.58497262\\\\\n",
       "\t 0.1070474   &  0.48685286\\\\\n",
       "\t 0.1569846   &  0.38873309\\\\\n",
       "\t 0.2069218   &  0.29061332\\\\\n",
       "\t 0.2568590   &  0.19249355\\\\\n",
       "\t 0.3067962   &  0.09437379\\\\\n",
       "\t 0.3567334   & -0.00374598\\\\\n",
       "\t 0.4066706   & -0.10186575\\\\\n",
       "\t 0.4566078   & -0.19998551\\\\\n",
       "\t 0.5065449   & -0.29810528\\\\\n",
       "\\end{tabular}\n",
       "\n",
       "\\item[\\$v] \\begin{tabular}{ll}\n",
       "\t 0.1421813  &  0.9898406\\\\\n",
       "\t 0.9898406  & -0.1421813\\\\\n",
       "\\end{tabular}\n",
       "\n",
       "\\end{description}\n"
      ],
      "text/markdown": [
       "$d\n",
       ":   1. 19.8217110839779\n",
       "2. 1.44905821253278\n",
       "\n",
       "\n",
       "\n",
       "$u\n",
       ":   \n",
       "| 0.0571102   |  0.58497262 | \n",
       "| 0.1070474   |  0.48685286 | \n",
       "| 0.1569846   |  0.38873309 | \n",
       "| 0.2069218   |  0.29061332 | \n",
       "| 0.2568590   |  0.19249355 | \n",
       "| 0.3067962   |  0.09437379 | \n",
       "| 0.3567334   | -0.00374598 | \n",
       "| 0.4066706   | -0.10186575 | \n",
       "| 0.4566078   | -0.19998551 | \n",
       "| 0.5065449   | -0.29810528 | \n",
       "\n",
       "\n",
       "\n",
       "$v\n",
       ":   \n",
       "| 0.1421813  |  0.9898406 | \n",
       "| 0.9898406  | -0.1421813 | \n",
       "\n",
       "\n",
       "\n",
       "\n",
       "\n"
      ],
      "text/plain": [
       "$d\n",
       "[1] 19.821711  1.449058\n",
       "\n",
       "$u\n",
       "           [,1]        [,2]\n",
       " [1,] 0.0571102  0.58497262\n",
       " [2,] 0.1070474  0.48685286\n",
       " [3,] 0.1569846  0.38873309\n",
       " [4,] 0.2069218  0.29061332\n",
       " [5,] 0.2568590  0.19249355\n",
       " [6,] 0.3067962  0.09437379\n",
       " [7,] 0.3567334 -0.00374598\n",
       " [8,] 0.4066706 -0.10186575\n",
       " [9,] 0.4566078 -0.19998551\n",
       "[10,] 0.5065449 -0.29810528\n",
       "\n",
       "$v\n",
       "          [,1]       [,2]\n",
       "[1,] 0.1421813  0.9898406\n",
       "[2,] 0.9898406 -0.1421813\n"
      ]
     },
     "metadata": {},
     "output_type": "display_data"
    }
   ],
   "source": [
    "(s <- svd(X))"
   ]
  },
  {
   "cell_type": "markdown",
   "metadata": {},
   "source": [
    "Les dues columnes d'X són linealment independents, i per tant els dos valors singulars són diferents de 0; en altres paraules, $rang(X) = 2 = min(10,2)$, per tant X és \"full rank\"\n",
    "\n",
    "ara comprovem que $X = U D V^T$"
   ]
  },
  {
   "cell_type": "code",
   "execution_count": 104,
   "metadata": {},
   "outputs": [
    {
     "data": {
      "text/html": [
       "<table>\n",
       "<tbody>\n",
       "\t<tr><td>1 </td><td> 1</td></tr>\n",
       "\t<tr><td>1 </td><td> 2</td></tr>\n",
       "\t<tr><td>1 </td><td> 3</td></tr>\n",
       "\t<tr><td>1 </td><td> 4</td></tr>\n",
       "\t<tr><td>1 </td><td> 5</td></tr>\n",
       "\t<tr><td>1 </td><td> 6</td></tr>\n",
       "\t<tr><td>1 </td><td> 7</td></tr>\n",
       "\t<tr><td>1 </td><td> 8</td></tr>\n",
       "\t<tr><td>1 </td><td> 9</td></tr>\n",
       "\t<tr><td>1 </td><td>10</td></tr>\n",
       "</tbody>\n",
       "</table>\n"
      ],
      "text/latex": [
       "\\begin{tabular}{ll}\n",
       "\t 1  &  1\\\\\n",
       "\t 1  &  2\\\\\n",
       "\t 1  &  3\\\\\n",
       "\t 1  &  4\\\\\n",
       "\t 1  &  5\\\\\n",
       "\t 1  &  6\\\\\n",
       "\t 1  &  7\\\\\n",
       "\t 1  &  8\\\\\n",
       "\t 1  &  9\\\\\n",
       "\t 1  & 10\\\\\n",
       "\\end{tabular}\n"
      ],
      "text/markdown": [
       "\n",
       "| 1  |  1 | \n",
       "| 1  |  2 | \n",
       "| 1  |  3 | \n",
       "| 1  |  4 | \n",
       "| 1  |  5 | \n",
       "| 1  |  6 | \n",
       "| 1  |  7 | \n",
       "| 1  |  8 | \n",
       "| 1  |  9 | \n",
       "| 1  | 10 | \n",
       "\n",
       "\n"
      ],
      "text/plain": [
       "      [,1] [,2]\n",
       " [1,] 1     1  \n",
       " [2,] 1     2  \n",
       " [3,] 1     3  \n",
       " [4,] 1     4  \n",
       " [5,] 1     5  \n",
       " [6,] 1     6  \n",
       " [7,] 1     7  \n",
       " [8,] 1     8  \n",
       " [9,] 1     9  \n",
       "[10,] 1    10  "
      ]
     },
     "metadata": {},
     "output_type": "display_data"
    }
   ],
   "source": [
    "D <- diag(s$d)\n",
    "s$u %*% D %*% t(s$v)\n"
   ]
  },
  {
   "cell_type": "markdown",
   "metadata": {},
   "source": [
    "Ara ho apliquem a la solució del problema de mínims quadrats\n",
    "\n",
    "$\\min_w || t - Xw ||^2$"
   ]
  },
  {
   "cell_type": "code",
   "execution_count": 105,
   "metadata": {},
   "outputs": [
    {
     "data": {
      "text/html": [
       "<table>\n",
       "<tbody>\n",
       "\t<tr><td>9.6184877</td></tr>\n",
       "\t<tr><td>0.9820515</td></tr>\n",
       "</tbody>\n",
       "</table>\n"
      ],
      "text/latex": [
       "\\begin{tabular}{l}\n",
       "\t 9.6184877\\\\\n",
       "\t 0.9820515\\\\\n",
       "\\end{tabular}\n"
      ],
      "text/markdown": [
       "\n",
       "| 9.6184877 | \n",
       "| 0.9820515 | \n",
       "\n",
       "\n"
      ],
      "text/plain": [
       "     [,1]     \n",
       "[1,] 9.6184877\n",
       "[2,] 0.9820515"
      ]
     },
     "metadata": {},
     "output_type": "display_data"
    }
   ],
   "source": [
    "D <- diag(1/s$d)\n",
    "(w <- s$v %*% D %*% t(s$u) %*% t)"
   ]
  },
  {
   "cell_type": "markdown",
   "metadata": {},
   "source": [
    "noteu que obtenim la mateixa solució\n",
    "\n",
    "La rutina `glm()` implementa regressió lineal per mínims quadrats si li demanem\n",
    " mitjançant el paràmetre `family = gaussian`"
   ]
  },
  {
   "cell_type": "code",
   "execution_count": 106,
   "metadata": {},
   "outputs": [
    {
     "data": {
      "text/html": [
       "<table>\n",
       "<thead><tr><th scope=col>x.1</th><th scope=col>x.2</th><th scope=col>t</th></tr></thead>\n",
       "<tbody>\n",
       "\t<tr><td>1        </td><td> 1       </td><td> 9.560042</td></tr>\n",
       "\t<tr><td>1        </td><td> 2       </td><td>12.374763</td></tr>\n",
       "\t<tr><td>1        </td><td> 3       </td><td>13.246331</td></tr>\n",
       "\t<tr><td>1        </td><td> 4       </td><td>12.429709</td></tr>\n",
       "\t<tr><td>1        </td><td> 5       </td><td>16.669516</td></tr>\n",
       "\t<tr><td>1        </td><td> 6       </td><td>15.128933</td></tr>\n",
       "\t<tr><td>1        </td><td> 7       </td><td>14.794091</td></tr>\n",
       "\t<tr><td>1        </td><td> 8       </td><td>17.826817</td></tr>\n",
       "\t<tr><td>1        </td><td> 9       </td><td>18.630168</td></tr>\n",
       "\t<tr><td>1        </td><td>10       </td><td>19.537338</td></tr>\n",
       "</tbody>\n",
       "</table>\n"
      ],
      "text/latex": [
       "\\begin{tabular}{r|lll}\n",
       " x.1 & x.2 & t\\\\\n",
       "\\hline\n",
       "\t 1         &  1        &  9.560042\\\\\n",
       "\t 1         &  2        & 12.374763\\\\\n",
       "\t 1         &  3        & 13.246331\\\\\n",
       "\t 1         &  4        & 12.429709\\\\\n",
       "\t 1         &  5        & 16.669516\\\\\n",
       "\t 1         &  6        & 15.128933\\\\\n",
       "\t 1         &  7        & 14.794091\\\\\n",
       "\t 1         &  8        & 17.826817\\\\\n",
       "\t 1         &  9        & 18.630168\\\\\n",
       "\t 1         & 10        & 19.537338\\\\\n",
       "\\end{tabular}\n"
      ],
      "text/markdown": [
       "\n",
       "x.1 | x.2 | t | \n",
       "|---|---|---|---|---|---|---|---|---|---|\n",
       "| 1         |  1        |  9.560042 | \n",
       "| 1         |  2        | 12.374763 | \n",
       "| 1         |  3        | 13.246331 | \n",
       "| 1         |  4        | 12.429709 | \n",
       "| 1         |  5        | 16.669516 | \n",
       "| 1         |  6        | 15.128933 | \n",
       "| 1         |  7        | 14.794091 | \n",
       "| 1         |  8        | 17.826817 | \n",
       "| 1         |  9        | 18.630168 | \n",
       "| 1         | 10        | 19.537338 | \n",
       "\n",
       "\n"
      ],
      "text/plain": [
       "   x.1 x.2 t        \n",
       "1  1    1   9.560042\n",
       "2  1    2  12.374763\n",
       "3  1    3  13.246331\n",
       "4  1    4  12.429709\n",
       "5  1    5  16.669516\n",
       "6  1    6  15.128933\n",
       "7  1    7  14.794091\n",
       "8  1    8  17.826817\n",
       "9  1    9  18.630168\n",
       "10 1   10  19.537338"
      ]
     },
     "metadata": {},
     "output_type": "display_data"
    }
   ],
   "source": [
    "(mostra <- data.frame(x=X,t=t))"
   ]
  },
  {
   "cell_type": "markdown",
   "metadata": {},
   "source": [
    " Noteu que glm sempre afegeix un terme *intercept* o *offset* (un regressor constant 1) per defecte, així que tenim dues opcions:"
   ]
  },
  {
   "cell_type": "markdown",
   "metadata": {},
   "source": [
    " 1) desactivar-lo (el \"-1\" a la fòrmula següent) i usar la nostra pròpia columna de 1's"
   ]
  },
  {
   "cell_type": "code",
   "execution_count": 107,
   "metadata": {},
   "outputs": [],
   "source": [
    "model1 <- glm (t ~ x.2 + x.1 - 1, data=mostra, family = gaussian)"
   ]
  },
  {
   "cell_type": "markdown",
   "metadata": {},
   "source": [
    "2) usar la que glm ja posa (recomanat) i desactivar la nostra pròpia columna de 1's"
   ]
  },
  {
   "cell_type": "code",
   "execution_count": 108,
   "metadata": {},
   "outputs": [],
   "source": [
    "model2 <- glm (t ~ x.2, data=mostra, family = gaussian)"
   ]
  },
  {
   "cell_type": "markdown",
   "metadata": {},
   "source": [
    " Els coefficients (el vector w)"
   ]
  },
  {
   "cell_type": "code",
   "execution_count": 109,
   "metadata": {},
   "outputs": [
    {
     "data": {
      "text/html": [
       "<dl class=dl-horizontal>\n",
       "\t<dt>x.2</dt>\n",
       "\t\t<dd>0.98205145379037</dd>\n",
       "\t<dt>x.1</dt>\n",
       "\t\t<dd>9.61848774386289</dd>\n",
       "</dl>\n"
      ],
      "text/latex": [
       "\\begin{description*}\n",
       "\\item[x.2] 0.98205145379037\n",
       "\\item[x.1] 9.61848774386289\n",
       "\\end{description*}\n"
      ],
      "text/markdown": [
       "x.2\n",
       ":   0.98205145379037x.1\n",
       ":   9.61848774386289\n",
       "\n"
      ],
      "text/plain": [
       "      x.2       x.1 \n",
       "0.9820515 9.6184877 "
      ]
     },
     "metadata": {},
     "output_type": "display_data"
    },
    {
     "data": {
      "text/html": [
       "<dl class=dl-horizontal>\n",
       "\t<dt>(Intercept)</dt>\n",
       "\t\t<dd>9.6184877438629</dd>\n",
       "\t<dt>x.2</dt>\n",
       "\t\t<dd>0.98205145379037</dd>\n",
       "</dl>\n"
      ],
      "text/latex": [
       "\\begin{description*}\n",
       "\\item[(Intercept)] 9.6184877438629\n",
       "\\item[x.2] 0.98205145379037\n",
       "\\end{description*}\n"
      ],
      "text/markdown": [
       "(Intercept)\n",
       ":   9.6184877438629x.2\n",
       ":   0.98205145379037\n",
       "\n"
      ],
      "text/plain": [
       "(Intercept)         x.2 \n",
       "  9.6184877   0.9820515 "
      ]
     },
     "metadata": {},
     "output_type": "display_data"
    }
   ],
   "source": [
    "model1$coefficients\n",
    "model2$coefficients"
   ]
  },
  {
   "cell_type": "markdown",
   "metadata": {},
   "source": [
    "** Per què la SVD?**"
   ]
  },
  {
   "cell_type": "markdown",
   "metadata": {},
   "source": [
    "  a. En formar la matriu $X^T X$ es pot perdre informació"
   ]
  },
  {
   "cell_type": "code",
   "execution_count": 110,
   "metadata": {},
   "outputs": [
    {
     "data": {
      "text/html": [
       "<table>\n",
       "<tbody>\n",
       "\t<tr><td>1.000</td><td>1.000</td></tr>\n",
       "\t<tr><td>0.001</td><td>0.000</td></tr>\n",
       "\t<tr><td>0.000</td><td>0.001</td></tr>\n",
       "</tbody>\n",
       "</table>\n"
      ],
      "text/latex": [
       "\\begin{tabular}{ll}\n",
       "\t 1.000 & 1.000\\\\\n",
       "\t 0.001 & 0.000\\\\\n",
       "\t 0.000 & 0.001\\\\\n",
       "\\end{tabular}\n"
      ],
      "text/markdown": [
       "\n",
       "| 1.000 | 1.000 | \n",
       "| 0.001 | 0.000 | \n",
       "| 0.000 | 0.001 | \n",
       "\n",
       "\n"
      ],
      "text/plain": [
       "     [,1]  [,2] \n",
       "[1,] 1.000 1.000\n",
       "[2,] 0.001 0.000\n",
       "[3,] 0.000 0.001"
      ]
     },
     "metadata": {},
     "output_type": "display_data"
    }
   ],
   "source": [
    "eps <- 1e-3\n",
    "(X.eps <- matrix(c(1,eps,0,1,0,eps),nrow=3))"
   ]
  },
  {
   "cell_type": "code",
   "execution_count": 111,
   "metadata": {},
   "outputs": [
    {
     "data": {
      "text/html": [
       "<table>\n",
       "<tbody>\n",
       "\t<tr><td>1.000001</td><td>1.000000</td></tr>\n",
       "\t<tr><td>1.000000</td><td>1.000001</td></tr>\n",
       "</tbody>\n",
       "</table>\n"
      ],
      "text/latex": [
       "\\begin{tabular}{ll}\n",
       "\t 1.000001 & 1.000000\\\\\n",
       "\t 1.000000 & 1.000001\\\\\n",
       "\\end{tabular}\n"
      ],
      "text/markdown": [
       "\n",
       "| 1.000001 | 1.000000 | \n",
       "| 1.000000 | 1.000001 | \n",
       "\n",
       "\n"
      ],
      "text/plain": [
       "     [,1]     [,2]    \n",
       "[1,] 1.000001 1.000000\n",
       "[2,] 1.000000 1.000001"
      ]
     },
     "metadata": {},
     "output_type": "display_data"
    }
   ],
   "source": [
    "((C.eps <- t(X.eps) %*% X.eps))  "
   ]
  },
  {
   "cell_type": "code",
   "execution_count": 112,
   "metadata": {},
   "outputs": [
    {
     "data": {
      "text/html": [
       "<table>\n",
       "<tbody>\n",
       "\t<tr><td> 500000.3</td><td>-499999.8</td></tr>\n",
       "\t<tr><td>-499999.8</td><td> 500000.3</td></tr>\n",
       "</tbody>\n",
       "</table>\n"
      ],
      "text/latex": [
       "\\begin{tabular}{ll}\n",
       "\t  500000.3 & -499999.8\\\\\n",
       "\t -499999.8 &  500000.3\\\\\n",
       "\\end{tabular}\n"
      ],
      "text/markdown": [
       "\n",
       "|  500000.3 | -499999.8 | \n",
       "| -499999.8 |  500000.3 | \n",
       "\n",
       "\n"
      ],
      "text/plain": [
       "     [,1]      [,2]     \n",
       "[1,]  500000.3 -499999.8\n",
       "[2,] -499999.8  500000.3"
      ]
     },
     "metadata": {},
     "output_type": "display_data"
    }
   ],
   "source": [
    "solve(C.eps) # comencem a tenir problemes ..."
   ]
  },
  {
   "cell_type": "code",
   "execution_count": 113,
   "metadata": {},
   "outputs": [
    {
     "data": {
      "text/html": [
       "<table>\n",
       "<tbody>\n",
       "\t<tr><td>1e+00</td><td>1e+00</td></tr>\n",
       "\t<tr><td>1e-10</td><td>0e+00</td></tr>\n",
       "\t<tr><td>0e+00</td><td>1e-10</td></tr>\n",
       "</tbody>\n",
       "</table>\n"
      ],
      "text/latex": [
       "\\begin{tabular}{ll}\n",
       "\t 1e+00 & 1e+00\\\\\n",
       "\t 1e-10 & 0e+00\\\\\n",
       "\t 0e+00 & 1e-10\\\\\n",
       "\\end{tabular}\n"
      ],
      "text/markdown": [
       "\n",
       "| 1e+00 | 1e+00 | \n",
       "| 1e-10 | 0e+00 | \n",
       "| 0e+00 | 1e-10 | \n",
       "\n",
       "\n"
      ],
      "text/plain": [
       "     [,1]  [,2] \n",
       "[1,] 1e+00 1e+00\n",
       "[2,] 1e-10 0e+00\n",
       "[3,] 0e+00 1e-10"
      ]
     },
     "metadata": {},
     "output_type": "display_data"
    }
   ],
   "source": [
    "eps <- 1e-10\n",
    "(X.eps <- matrix(c(1,eps,0,1,0,eps),nrow=3))"
   ]
  },
  {
   "cell_type": "code",
   "execution_count": 114,
   "metadata": {},
   "outputs": [
    {
     "data": {
      "text/html": [
       "<table>\n",
       "<tbody>\n",
       "\t<tr><td>1</td><td>1</td></tr>\n",
       "\t<tr><td>1</td><td>1</td></tr>\n",
       "</tbody>\n",
       "</table>\n"
      ],
      "text/latex": [
       "\\begin{tabular}{ll}\n",
       "\t 1 & 1\\\\\n",
       "\t 1 & 1\\\\\n",
       "\\end{tabular}\n"
      ],
      "text/markdown": [
       "\n",
       "| 1 | 1 | \n",
       "| 1 | 1 | \n",
       "\n",
       "\n"
      ],
      "text/plain": [
       "     [,1] [,2]\n",
       "[1,] 1    1   \n",
       "[2,] 1    1   "
      ]
     },
     "metadata": {},
     "output_type": "display_data"
    }
   ],
   "source": [
    "(C.eps <- t(X.eps) %*% X.eps)"
   ]
  },
  {
   "cell_type": "code",
   "execution_count": 115,
   "metadata": {},
   "outputs": [
    {
     "ename": "ERROR",
     "evalue": "Error in solve.default(C.eps): Lapack routine dgesv: system is exactly singular: U[2,2] = 0\n",
     "output_type": "error",
     "traceback": [
      "Error in solve.default(C.eps): Lapack routine dgesv: system is exactly singular: U[2,2] = 0\nTraceback:\n",
      "1. solve(C.eps)",
      "2. solve(C.eps)",
      "3. solve.default(C.eps)"
     ]
    }
   ],
   "source": [
    "solve(C.eps) # dóna error (la matriu 2x2 \"tot uns\" és singular)"
   ]
  },
  {
   "cell_type": "markdown",
   "metadata": {},
   "source": [
    " (el determinant és 1·1 - 1·1 = 0)\n",
    "\n",
    " però no ho hauria de ser ... aquesta no és la nostra matriu ...\n",
    " el problema és que l'operacio $X^T$ X fa perdre molta precissió numèrica (hem perdut epsilon)"
   ]
  },
  {
   "cell_type": "markdown",
   "metadata": {},
   "source": [
    "b. El número de condició d'una matriu\n",
    "\n",
    " El número de condició d'una matriu és el producte entre la norma de la matriu\n",
    " i la norma de la seva inversa\n",
    " Dóna una indicació de l'exactitud dels resultats de la inversió d'una matriu\n",
    " Valors prop d'1 indiquen una matriu ben condicionada\n",
    "\n",
    " El número de condició de la matriu $X^T X$ és el quadrat del de la matriu $X$\n",
    "\n",
    " Incidentalment, el número de condició corresponent a usar la norma-2 equival al quocient entre el valor singular més gran i el més petit (no nul) de la matriu\n",
    "\n",
    " La rutina `kappa()` calcula el número de condició"
   ]
  },
  {
   "cell_type": "code",
   "execution_count": 147,
   "metadata": {},
   "outputs": [
    {
     "data": {
      "text/html": [
       "11482.121156714"
      ],
      "text/latex": [
       "11482.121156714"
      ],
      "text/markdown": [
       "11482.121156714"
      ],
      "text/plain": [
       "[1] 11482.12"
      ]
     },
     "metadata": {},
     "output_type": "display_data"
    },
    {
     "data": {
      "text/html": [
       "131839106.263373"
      ],
      "text/latex": [
       "131839106.263373"
      ],
      "text/markdown": [
       "131839106.263373"
      ],
      "text/plain": [
       "[1] 131839106"
      ]
     },
     "metadata": {},
     "output_type": "display_data"
    }
   ],
   "source": [
    "kappa(X, exact=TRUE)\n",
    "\n",
    "kappa(t(X) %*% X, exact=TRUE)"
   ]
  },
  {
   "cell_type": "markdown",
   "metadata": {},
   "source": [
    "veiem-ho amb un exemple:"
   ]
  },
  {
   "cell_type": "code",
   "execution_count": 148,
   "metadata": {},
   "outputs": [
    {
     "data": {
      "text/html": [
       "<table>\n",
       "<tbody>\n",
       "\t<tr><td>1  </td><td>101</td></tr>\n",
       "\t<tr><td>1  </td><td>102</td></tr>\n",
       "\t<tr><td>1  </td><td>103</td></tr>\n",
       "\t<tr><td>1  </td><td>104</td></tr>\n",
       "\t<tr><td>1  </td><td>105</td></tr>\n",
       "\t<tr><td>1  </td><td>106</td></tr>\n",
       "\t<tr><td>1  </td><td>107</td></tr>\n",
       "\t<tr><td>1  </td><td>108</td></tr>\n",
       "\t<tr><td>1  </td><td>109</td></tr>\n",
       "\t<tr><td>1  </td><td>110</td></tr>\n",
       "\t<tr><td>1  </td><td>111</td></tr>\n",
       "\t<tr><td>1  </td><td>112</td></tr>\n",
       "\t<tr><td>1  </td><td>113</td></tr>\n",
       "\t<tr><td>1  </td><td>114</td></tr>\n",
       "\t<tr><td>1  </td><td>115</td></tr>\n",
       "\t<tr><td>1  </td><td>116</td></tr>\n",
       "\t<tr><td>1  </td><td>117</td></tr>\n",
       "\t<tr><td>1  </td><td>118</td></tr>\n",
       "\t<tr><td>1  </td><td>119</td></tr>\n",
       "\t<tr><td>1  </td><td>120</td></tr>\n",
       "</tbody>\n",
       "</table>\n"
      ],
      "text/latex": [
       "\\begin{tabular}{ll}\n",
       "\t 1   & 101\\\\\n",
       "\t 1   & 102\\\\\n",
       "\t 1   & 103\\\\\n",
       "\t 1   & 104\\\\\n",
       "\t 1   & 105\\\\\n",
       "\t 1   & 106\\\\\n",
       "\t 1   & 107\\\\\n",
       "\t 1   & 108\\\\\n",
       "\t 1   & 109\\\\\n",
       "\t 1   & 110\\\\\n",
       "\t 1   & 111\\\\\n",
       "\t 1   & 112\\\\\n",
       "\t 1   & 113\\\\\n",
       "\t 1   & 114\\\\\n",
       "\t 1   & 115\\\\\n",
       "\t 1   & 116\\\\\n",
       "\t 1   & 117\\\\\n",
       "\t 1   & 118\\\\\n",
       "\t 1   & 119\\\\\n",
       "\t 1   & 120\\\\\n",
       "\\end{tabular}\n"
      ],
      "text/markdown": [
       "\n",
       "| 1   | 101 | \n",
       "| 1   | 102 | \n",
       "| 1   | 103 | \n",
       "| 1   | 104 | \n",
       "| 1   | 105 | \n",
       "| 1   | 106 | \n",
       "| 1   | 107 | \n",
       "| 1   | 108 | \n",
       "| 1   | 109 | \n",
       "| 1   | 110 | \n",
       "| 1   | 111 | \n",
       "| 1   | 112 | \n",
       "| 1   | 113 | \n",
       "| 1   | 114 | \n",
       "| 1   | 115 | \n",
       "| 1   | 116 | \n",
       "| 1   | 117 | \n",
       "| 1   | 118 | \n",
       "| 1   | 119 | \n",
       "| 1   | 120 | \n",
       "\n",
       "\n"
      ],
      "text/plain": [
       "      [,1] [,2]\n",
       " [1,] 1    101 \n",
       " [2,] 1    102 \n",
       " [3,] 1    103 \n",
       " [4,] 1    104 \n",
       " [5,] 1    105 \n",
       " [6,] 1    106 \n",
       " [7,] 1    107 \n",
       " [8,] 1    108 \n",
       " [9,] 1    109 \n",
       "[10,] 1    110 \n",
       "[11,] 1    111 \n",
       "[12,] 1    112 \n",
       "[13,] 1    113 \n",
       "[14,] 1    114 \n",
       "[15,] 1    115 \n",
       "[16,] 1    116 \n",
       "[17,] 1    117 \n",
       "[18,] 1    118 \n",
       "[19,] 1    119 \n",
       "[20,] 1    120 "
      ]
     },
     "metadata": {},
     "output_type": "display_data"
    }
   ],
   "source": [
    "(X <- matrix(c(rep(1,N), 100+seq(N)),nrow=N))"
   ]
  },
  {
   "cell_type": "code",
   "execution_count": 149,
   "metadata": {},
   "outputs": [
    {
     "data": {
      "text/html": [
       "2123.46513343923"
      ],
      "text/latex": [
       "2123.46513343923"
      ],
      "text/markdown": [
       "2123.46513343923"
      ],
      "text/plain": [
       "[1] 2123.465"
      ]
     },
     "metadata": {},
     "output_type": "display_data"
    },
    {
     "data": {
      "text/html": [
       "4509104.17296909"
      ],
      "text/latex": [
       "4509104.17296909"
      ],
      "text/markdown": [
       "4509104.17296909"
      ],
      "text/plain": [
       "[1] 4509104"
      ]
     },
     "metadata": {},
     "output_type": "display_data"
    }
   ],
   "source": [
    "kappa(X, exact=TRUE)\n",
    "\n",
    "kappa(t(X) %*% X, exact=TRUE)"
   ]
  },
  {
   "cell_type": "markdown",
   "metadata": {},
   "source": [
    "Una solució molt senzilla és centrar la segona columna:"
   ]
  },
  {
   "cell_type": "code",
   "execution_count": 150,
   "metadata": {},
   "outputs": [
    {
     "data": {
      "text/html": [
       "<table>\n",
       "<tbody>\n",
       "\t<tr><td>1   </td><td>-9.5</td></tr>\n",
       "\t<tr><td>1   </td><td>-8.5</td></tr>\n",
       "\t<tr><td>1   </td><td>-7.5</td></tr>\n",
       "\t<tr><td>1   </td><td>-6.5</td></tr>\n",
       "\t<tr><td>1   </td><td>-5.5</td></tr>\n",
       "\t<tr><td>1   </td><td>-4.5</td></tr>\n",
       "\t<tr><td>1   </td><td>-3.5</td></tr>\n",
       "\t<tr><td>1   </td><td>-2.5</td></tr>\n",
       "\t<tr><td>1   </td><td>-1.5</td></tr>\n",
       "\t<tr><td>1   </td><td>-0.5</td></tr>\n",
       "\t<tr><td>1   </td><td> 0.5</td></tr>\n",
       "\t<tr><td>1   </td><td> 1.5</td></tr>\n",
       "\t<tr><td>1   </td><td> 2.5</td></tr>\n",
       "\t<tr><td>1   </td><td> 3.5</td></tr>\n",
       "\t<tr><td>1   </td><td> 4.5</td></tr>\n",
       "\t<tr><td>1   </td><td> 5.5</td></tr>\n",
       "\t<tr><td>1   </td><td> 6.5</td></tr>\n",
       "\t<tr><td>1   </td><td> 7.5</td></tr>\n",
       "\t<tr><td>1   </td><td> 8.5</td></tr>\n",
       "\t<tr><td>1   </td><td> 9.5</td></tr>\n",
       "</tbody>\n",
       "</table>\n"
      ],
      "text/latex": [
       "\\begin{tabular}{ll}\n",
       "\t 1    & -9.5\\\\\n",
       "\t 1    & -8.5\\\\\n",
       "\t 1    & -7.5\\\\\n",
       "\t 1    & -6.5\\\\\n",
       "\t 1    & -5.5\\\\\n",
       "\t 1    & -4.5\\\\\n",
       "\t 1    & -3.5\\\\\n",
       "\t 1    & -2.5\\\\\n",
       "\t 1    & -1.5\\\\\n",
       "\t 1    & -0.5\\\\\n",
       "\t 1    &  0.5\\\\\n",
       "\t 1    &  1.5\\\\\n",
       "\t 1    &  2.5\\\\\n",
       "\t 1    &  3.5\\\\\n",
       "\t 1    &  4.5\\\\\n",
       "\t 1    &  5.5\\\\\n",
       "\t 1    &  6.5\\\\\n",
       "\t 1    &  7.5\\\\\n",
       "\t 1    &  8.5\\\\\n",
       "\t 1    &  9.5\\\\\n",
       "\\end{tabular}\n"
      ],
      "text/markdown": [
       "\n",
       "| 1    | -9.5 | \n",
       "| 1    | -8.5 | \n",
       "| 1    | -7.5 | \n",
       "| 1    | -6.5 | \n",
       "| 1    | -5.5 | \n",
       "| 1    | -4.5 | \n",
       "| 1    | -3.5 | \n",
       "| 1    | -2.5 | \n",
       "| 1    | -1.5 | \n",
       "| 1    | -0.5 | \n",
       "| 1    |  0.5 | \n",
       "| 1    |  1.5 | \n",
       "| 1    |  2.5 | \n",
       "| 1    |  3.5 | \n",
       "| 1    |  4.5 | \n",
       "| 1    |  5.5 | \n",
       "| 1    |  6.5 | \n",
       "| 1    |  7.5 | \n",
       "| 1    |  8.5 | \n",
       "| 1    |  9.5 | \n",
       "\n",
       "\n"
      ],
      "text/plain": [
       "      [,1] [,2]\n",
       " [1,] 1    -9.5\n",
       " [2,] 1    -8.5\n",
       " [3,] 1    -7.5\n",
       " [4,] 1    -6.5\n",
       " [5,] 1    -5.5\n",
       " [6,] 1    -4.5\n",
       " [7,] 1    -3.5\n",
       " [8,] 1    -2.5\n",
       " [9,] 1    -1.5\n",
       "[10,] 1    -0.5\n",
       "[11,] 1     0.5\n",
       "[12,] 1     1.5\n",
       "[13,] 1     2.5\n",
       "[14,] 1     3.5\n",
       "[15,] 1     4.5\n",
       "[16,] 1     5.5\n",
       "[17,] 1     6.5\n",
       "[18,] 1     7.5\n",
       "[19,] 1     8.5\n",
       "[20,] 1     9.5"
      ]
     },
     "metadata": {},
     "output_type": "display_data"
    }
   ],
   "source": [
    "X <- matrix(c(rep(1,N), 100+seq(N)),nrow=N)\n",
    "\n",
    "X[,2] <- X[,2] - mean(X[,2])\n",
    "\n",
    "X"
   ]
  },
  {
   "cell_type": "code",
   "execution_count": 151,
   "metadata": {},
   "outputs": [
    {
     "data": {
      "text/html": [
       "5.7662812973354"
      ],
      "text/latex": [
       "5.7662812973354"
      ],
      "text/markdown": [
       "5.7662812973354"
      ],
      "text/plain": [
       "[1] 5.766281"
      ]
     },
     "metadata": {},
     "output_type": "display_data"
    },
    {
     "data": {
      "text/html": [
       "33.25"
      ],
      "text/latex": [
       "33.25"
      ],
      "text/markdown": [
       "33.25"
      ],
      "text/plain": [
       "[1] 33.25"
      ]
     },
     "metadata": {},
     "output_type": "display_data"
    }
   ],
   "source": [
    "kappa(X, exact=TRUE)\n",
    "\n",
    "kappa(t(X) %*% X, exact=TRUE)"
   ]
  },
  {
   "cell_type": "markdown",
   "metadata": {},
   "source": [
    "Hi ha una relació senzilla entre els dos sistems lineals; en altres paraules, podem \"post-processar els coeficients de sortida perquè corresponguin a la matriu inicial\n",
    "\n",
    " Nota: hi ha una rutina que calcula directament la pseudo-inversa (ho fa via la SVD):"
   ]
  },
  {
   "cell_type": "code",
   "execution_count": 152,
   "metadata": {},
   "outputs": [
    {
     "data": {
      "text/html": [
       "<table>\n",
       "<tbody>\n",
       "\t<tr><td> 0.05000000  </td><td> 0.05000000  </td><td> 0.0500000   </td><td> 0.050000000 </td><td> 0.050000000 </td><td> 0.050000000 </td><td> 0.050000000 </td><td> 0.050000000 </td><td> 0.050000000 </td><td> 0.0500000000</td><td>0.0500000000 </td><td>0.050000000  </td><td>0.050000000  </td><td>0.050000000  </td><td>0.050000000  </td><td>0.050000000  </td><td>0.050000000  </td><td>0.0500000    </td><td>0.05000000   </td><td>0.05000000   </td></tr>\n",
       "\t<tr><td>-0.01428571  </td><td>-0.01278195  </td><td>-0.0112782   </td><td>-0.009774436 </td><td>-0.008270677 </td><td>-0.006766917 </td><td>-0.005263158 </td><td>-0.003759398 </td><td>-0.002255639 </td><td>-0.0007518797</td><td>0.0007518797 </td><td>0.002255639  </td><td>0.003759398  </td><td>0.005263158  </td><td>0.006766917  </td><td>0.008270677  </td><td>0.009774436  </td><td>0.0112782    </td><td>0.01278195   </td><td>0.01428571   </td></tr>\n",
       "</tbody>\n",
       "</table>\n"
      ],
      "text/latex": [
       "\\begin{tabular}{llllllllllllllllllll}\n",
       "\t  0.05000000   &  0.05000000   &  0.0500000    &  0.050000000  &  0.050000000  &  0.050000000  &  0.050000000  &  0.050000000  &  0.050000000  &  0.0500000000 & 0.0500000000  & 0.050000000   & 0.050000000   & 0.050000000   & 0.050000000   & 0.050000000   & 0.050000000   & 0.0500000     & 0.05000000    & 0.05000000   \\\\\n",
       "\t -0.01428571   & -0.01278195   & -0.0112782    & -0.009774436  & -0.008270677  & -0.006766917  & -0.005263158  & -0.003759398  & -0.002255639  & -0.0007518797 & 0.0007518797  & 0.002255639   & 0.003759398   & 0.005263158   & 0.006766917   & 0.008270677   & 0.009774436   & 0.0112782     & 0.01278195    & 0.01428571   \\\\\n",
       "\\end{tabular}\n"
      ],
      "text/markdown": [
       "\n",
       "|  0.05000000   |  0.05000000   |  0.0500000    |  0.050000000  |  0.050000000  |  0.050000000  |  0.050000000  |  0.050000000  |  0.050000000  |  0.0500000000 | 0.0500000000  | 0.050000000   | 0.050000000   | 0.050000000   | 0.050000000   | 0.050000000   | 0.050000000   | 0.0500000     | 0.05000000    | 0.05000000    | \n",
       "| -0.01428571   | -0.01278195   | -0.0112782    | -0.009774436  | -0.008270677  | -0.006766917  | -0.005263158  | -0.003759398  | -0.002255639  | -0.0007518797 | 0.0007518797  | 0.002255639   | 0.003759398   | 0.005263158   | 0.006766917   | 0.008270677   | 0.009774436   | 0.0112782     | 0.01278195    | 0.01428571    | \n",
       "\n",
       "\n"
      ],
      "text/plain": [
       "     [,1]        [,2]        [,3]       [,4]         [,5]         [,6]        \n",
       "[1,]  0.05000000  0.05000000  0.0500000  0.050000000  0.050000000  0.050000000\n",
       "[2,] -0.01428571 -0.01278195 -0.0112782 -0.009774436 -0.008270677 -0.006766917\n",
       "     [,7]         [,8]         [,9]         [,10]         [,11]       \n",
       "[1,]  0.050000000  0.050000000  0.050000000  0.0500000000 0.0500000000\n",
       "[2,] -0.005263158 -0.003759398 -0.002255639 -0.0007518797 0.0007518797\n",
       "     [,12]       [,13]       [,14]       [,15]       [,16]       [,17]      \n",
       "[1,] 0.050000000 0.050000000 0.050000000 0.050000000 0.050000000 0.050000000\n",
       "[2,] 0.002255639 0.003759398 0.005263158 0.006766917 0.008270677 0.009774436\n",
       "     [,18]     [,19]      [,20]     \n",
       "[1,] 0.0500000 0.05000000 0.05000000\n",
       "[2,] 0.0112782 0.01278195 0.01428571"
      ]
     },
     "metadata": {},
     "output_type": "display_data"
    }
   ],
   "source": [
    "library(MASS)\n",
    "\n",
    "ginv(X)"
   ]
  },
  {
   "cell_type": "markdown",
   "metadata": {},
   "source": [
    "***"
   ]
  },
  {
   "cell_type": "markdown",
   "metadata": {},
   "source": [
    "## EXEMPLE 2"
   ]
  },
  {
   "cell_type": "markdown",
   "metadata": {},
   "source": [
    " Anem a analitzar dades de greix corporal\n",
    " mitjançant regressió normal i ridge (regularitzada)\n"
   ]
  },
  {
   "cell_type": "code",
   "execution_count": 153,
   "metadata": {},
   "outputs": [
    {
     "data": {
      "text/plain": [
       "    triceps          thigh           midarm         bodyfat     \n",
       " Min.   :14.60   Min.   :42.20   Min.   :21.30   Min.   :11.70  \n",
       " 1st Qu.:21.50   1st Qu.:47.77   1st Qu.:24.75   1st Qu.:17.05  \n",
       " Median :25.55   Median :52.00   Median :27.90   Median :21.20  \n",
       " Mean   :25.30   Mean   :51.17   Mean   :27.62   Mean   :20.20  \n",
       " 3rd Qu.:29.90   3rd Qu.:54.62   3rd Qu.:30.02   3rd Qu.:24.27  \n",
       " Max.   :31.40   Max.   :58.60   Max.   :37.00   Max.   :27.20  "
      ]
     },
     "metadata": {},
     "output_type": "display_data"
    },
    {
     "name": "stderr",
     "output_type": "stream",
     "text": [
      "The following objects are masked from bodyfat.data (pos = 3):\n",
      "\n",
      "    bodyfat, midarm, thigh, triceps\n",
      "\n",
      "The following objects are masked from bodyfat.data (pos = 7):\n",
      "\n",
      "    bodyfat, midarm, thigh, triceps\n",
      "\n",
      "The following objects are masked from bodyfat.data (pos = 8):\n",
      "\n",
      "    bodyfat, midarm, thigh, triceps\n",
      "\n"
     ]
    }
   ],
   "source": [
    "bodyfat.data <- read.table(file = \"bodyfatdata.txt\", header=FALSE, col.names = c('triceps', 'thigh', 'midarm', 'bodyfat'))\n",
    "\n",
    "summary(bodyfat.data)\n",
    "\n",
    "attach(bodyfat.data)\n",
    "\n",
    "N <- nrow(bodyfat.data)"
   ]
  },
  {
   "cell_type": "markdown",
   "metadata": {},
   "source": [
    " let us start with standard linear regression\n",
    " this time we directly use the method `lm()`; \n",
    "\n",
    "`lm()` is actually called by glm() for gaussian noise and is the workhorse for least squares"
   ]
  },
  {
   "cell_type": "code",
   "execution_count": 154,
   "metadata": {},
   "outputs": [
    {
     "data": {
      "text/plain": [
       "\n",
       "Call:\n",
       "lm(formula = bodyfat ~ ., data = bodyfat.data)\n",
       "\n",
       "Coefficients:\n",
       "(Intercept)      triceps        thigh       midarm  \n",
       "    117.085        4.334       -2.857       -2.186  \n"
      ]
     },
     "metadata": {},
     "output_type": "display_data"
    },
    {
     "data": {
      "text/plain": [
       "\n",
       "Call:\n",
       "lm(formula = bodyfat ~ ., data = bodyfat.data)\n",
       "\n",
       "Residuals:\n",
       "    Min      1Q  Median      3Q     Max \n",
       "-3.7263 -1.6111  0.3923  1.4656  4.1277 \n",
       "\n",
       "Coefficients:\n",
       "            Estimate Std. Error t value Pr(>|t|)\n",
       "(Intercept)  117.085     99.782   1.173    0.258\n",
       "triceps        4.334      3.016   1.437    0.170\n",
       "thigh         -2.857      2.582  -1.106    0.285\n",
       "midarm        -2.186      1.595  -1.370    0.190\n",
       "\n",
       "Residual standard error: 2.48 on 16 degrees of freedom\n",
       "Multiple R-squared:  0.8014,\tAdjusted R-squared:  0.7641 \n",
       "F-statistic: 21.52 on 3 and 16 DF,  p-value: 7.343e-06\n"
      ]
     },
     "metadata": {},
     "output_type": "display_data"
    }
   ],
   "source": [
    "(model <- lm(bodyfat ~ ., data = bodyfat.data))\n",
    "summary(model)"
   ]
  },
  {
   "cell_type": "markdown",
   "metadata": {},
   "source": [
    " How to read this output:\n",
    "\n",
    " $x = (1,triceps, thigh, midarm)^T$\n",
    "\n",
    "$w = (117.085, 4.334, -2.857, -2.186)^T$\n",
    "\n",
    " the model is $y(x; w) = w^T x = 117.085 + 4.334*triceps -2.857*thigh -2.186*midarm$\n",
    "\n",
    " The residuals are the differences $(t_n - y(x_n; w)), n = 1,\\dots N$\n",
    " \n",
    " let's inspect `model$residuals`"
   ]
  },
  {
   "cell_type": "code",
   "execution_count": 155,
   "metadata": {},
   "outputs": [
    {
     "data": {
      "image/png": "[encoded data removed]",
      "text/plain": [
       "Plot with title “Histogram of model$residuals”"
      ]
     },
     "metadata": {},
     "output_type": "display_data"
    }
   ],
   "source": [
    "dens <- density(model$residuals)\n",
    "hist(model$residuals, prob=T)\n",
    "lines(dens,col=\"red\")"
   ]
  },
  {
   "cell_type": "markdown",
   "metadata": {},
   "source": [
    " Do the residuals look Gaussian? this is direct indication of model validity\n",
    " (since it was our departing assumption)\n",
    "\n",
    " Let's do a more informative plot (a QQ-plot), which plots actual quantiles\n",
    " against theoretical quantiles of a comparison distribution (Gaussian in this case)"
   ]
  },
  {
   "cell_type": "code",
   "execution_count": 156,
   "metadata": {},
   "outputs": [
    {
     "ename": "ERROR",
     "evalue": "Error in library(car): there is no package called ‘car’\n",
     "output_type": "error",
     "traceback": [
      "Error in library(car): there is no package called ‘car’\nTraceback:\n",
      "1. library(car)",
      "2. stop(txt, domain = NA)"
     ]
    }
   ],
   "source": [
    "library(car)\n",
    "qqPlot(model)"
   ]
  },
  {
   "cell_type": "markdown",
   "metadata": {},
   "source": [
    " The solid line corresponds to the theoretical quantiles\n",
    " therefore in this case the residuals are not even close \n",
    " (the tails are heavier, the central part is flatter)\n",
    "\n",
    " This is how we can compute the mean square error"
   ]
  },
  {
   "cell_type": "code",
   "execution_count": 157,
   "metadata": {},
   "outputs": [
    {
     "data": {
      "text/html": [
       "4.92024440837829"
      ],
      "text/latex": [
       "4.92024440837829"
      ],
      "text/markdown": [
       "4.92024440837829"
      ],
      "text/plain": [
       "[1] 4.920244"
      ]
     },
     "metadata": {},
     "output_type": "display_data"
    }
   ],
   "source": [
    "prediction <- predict(model)\n",
    "(mean.square.error <- sum((bodyfat - prediction)^2)/N)"
   ]
  },
  {
   "cell_type": "markdown",
   "metadata": {},
   "source": [
    " Is this number large or small? it depends on the magnitude of the targets!\n",
    " a very good practice is to normalise it, by dividing by the variance of the target:"
   ]
  },
  {
   "cell_type": "code",
   "execution_count": 158,
   "metadata": {},
   "outputs": [
    {
     "data": {
      "text/html": [
       "0.19864144913763"
      ],
      "text/latex": [
       "0.19864144913763"
      ],
      "text/markdown": [
       "0.19864144913763"
      ],
      "text/plain": [
       "[1] 0.1986414"
      ]
     },
     "metadata": {},
     "output_type": "display_data"
    }
   ],
   "source": [
    "(norm.mse <- sum((bodyfat - prediction)^2) / ((N-1)*var(bodyfat)))"
   ]
  },
  {
   "cell_type": "markdown",
   "metadata": {},
   "source": [
    " If we divide the mean square error by the variance of the targets t,\n",
    " we get the proportion of the variability of the target that is NOT explained by the model\n",
    "\n",
    " A model with 'norm.mse' equal to 1 is as good as the best constant model\n",
    " (namely, the model that always outputs the average of the target)\n",
    "\n",
    " models with 'norm.mse' above 0.5 are so so, beyond 0.7 they begin to be quite bad\n",
    "\n",
    " models with 'norm.mse' below 0.2 are quite good\n",
    "\n",
    " The Multiple R-squared (usually used by statisticians) is obtained by subtracting this quantity form one; that is, the proportion of the target variability that is explained by the model; in this case it reaches 80%"
   ]
  },
  {
   "cell_type": "code",
   "execution_count": 159,
   "metadata": {},
   "outputs": [
    {
     "data": {
      "text/html": [
       "80.135855086237"
      ],
      "text/latex": [
       "80.135855086237"
      ],
      "text/markdown": [
       "80.135855086237"
      ],
      "text/plain": [
       "[1] 80.13586"
      ]
     },
     "metadata": {},
     "output_type": "display_data"
    }
   ],
   "source": [
    "(R.squared <- (1 - norm.mse)*100)"
   ]
  },
  {
   "cell_type": "markdown",
   "metadata": {},
   "source": [
    " The \"adjusted R-squared\" is the same thing, but adjusted for the complexity of the model,\n",
    " i.e. the number of parameters (three in our case)\n",
    "\n",
    " Now let us try to see how are the real predictions by plotting the real predictions against the targets:"
   ]
  },
  {
   "cell_type": "code",
   "execution_count": 160,
   "metadata": {},
   "outputs": [
    {
     "data": {
      "image/png": "[encoded data removed]",
      "text/plain": [
       "plot without title"
      ]
     },
     "metadata": {},
     "output_type": "display_data"
    }
   ],
   "source": [
    "plot(bodyfat, predict(model))"
   ]
  },
  {
   "cell_type": "markdown",
   "metadata": {},
   "source": [
    " It is difficult to see if the model is a good predictor; what we need is a\n",
    " numerical assessment of predictive ability. We compute the exact LOOCV as seen in class:\n",
    " \n",
    " $LOOCV = \\frac{1}{N} \\sum_{i=1}^{N} \\left(\\frac{y_i - \\hat{y}_i}{1-h_i}\\right)^2$\n",
    " \n",
    " where $H = X (X^TX)^{-1}X^T$ and $h_i = diag(H)_i$"
   ]
  },
  {
   "cell_type": "code",
   "execution_count": 161,
   "metadata": {},
   "outputs": [
    {
     "data": {
      "text/html": [
       "8.03682803713589"
      ],
      "text/latex": [
       "8.03682803713589"
      ],
      "text/markdown": [
       "8.03682803713589"
      ],
      "text/plain": [
       "[1] 8.036828"
      ]
     },
     "metadata": {},
     "output_type": "display_data"
    }
   ],
   "source": [
    "(LOOCV <- sum( (model$residuals/(1-ls.diag(model)$hat))^2) / N)"
   ]
  },
  {
   "cell_type": "markdown",
   "metadata": {},
   "source": [
    " and the corresponding predictive R-square "
   ]
  },
  {
   "cell_type": "code",
   "execution_count": 162,
   "metadata": {},
   "outputs": [
    {
     "data": {
      "text/html": [
       "67.5534986626245"
      ],
      "text/latex": [
       "67.5534986626245"
      ],
      "text/markdown": [
       "67.5534986626245"
      ],
      "text/plain": [
       "[1] 67.5535"
      ]
     },
     "metadata": {},
     "output_type": "display_data"
    }
   ],
   "source": [
    "(R2.LOOCV = (1 - LOOCV*N/((N-1)*var(bodyfat)))*100)"
   ]
  },
  {
   "cell_type": "markdown",
   "metadata": {},
   "source": [
    " we can see that prediction quality is not as good as it seemed (since CV error is worse than training error)\n",
    "\n",
    " this last number is the one I recommend to do model selection!!!"
   ]
  },
  {
   "cell_type": "markdown",
   "metadata": {},
   "source": [
    "---"
   ]
  },
  {
   "cell_type": "markdown",
   "metadata": {},
   "source": [
    " Let us continue now with *regularized linear regression* (aka ridge regression)\n",
    " this time we need to use the method lm.ridge()\n",
    "\n",
    " We must first choose a value for lambda (the regularization constant)\n",
    " there are several criteria to do this, the most used of which is the GCV\n",
    " so we optimize the GCV for several values of lambda in a sequence"
   ]
  },
  {
   "cell_type": "code",
   "execution_count": 163,
   "metadata": {},
   "outputs": [],
   "source": [
    "library(MASS)"
   ]
  },
  {
   "cell_type": "markdown",
   "metadata": {},
   "source": [
    "notice we start with a wide logarithmic search"
   ]
  },
  {
   "cell_type": "code",
   "execution_count": 164,
   "metadata": {},
   "outputs": [
    {
     "name": "stdout",
     "output_type": "stream",
     "text": [
      "modified HKB estimator is 0.008505093 \n",
      "modified L-W estimator is 0.3098511 \n",
      "smallest value of GCV  at 0.01995262 \n"
     ]
    }
   ],
   "source": [
    "lambdas <- 10^seq(-6,2,0.1)\n",
    "\n",
    "select(lm.ridge(bodyfat ~ triceps + thigh + midarm, lambda = lambdas))"
   ]
  },
  {
   "cell_type": "markdown",
   "metadata": {},
   "source": [
    " best value (according to GCV) is 0.01995262\n",
    "\n",
    " we perform a finer search"
   ]
  },
  {
   "cell_type": "code",
   "execution_count": 165,
   "metadata": {},
   "outputs": [
    {
     "name": "stdout",
     "output_type": "stream",
     "text": [
      "modified HKB estimator is 0.008505093 \n",
      "modified L-W estimator is 0.3098511 \n",
      "smallest value of GCV  at 0.019 \n"
     ]
    }
   ],
   "source": [
    "lambdas <- seq(0,1,0.001)\n",
    "\n",
    "select(lm.ridge(bodyfat ~ triceps + thigh + midarm, lambda = lambdas))"
   ]
  },
  {
   "cell_type": "markdown",
   "metadata": {},
   "source": [
    " Definitely the best value is 0.019, so we refit the model with this precise value:"
   ]
  },
  {
   "cell_type": "code",
   "execution_count": 166,
   "metadata": {},
   "outputs": [
    {
     "data": {
      "text/plain": [
       "              triceps      thigh     midarm \n",
       "43.8401126  2.1174933 -0.9597309 -1.0180612 "
      ]
     },
     "metadata": {},
     "output_type": "display_data"
    }
   ],
   "source": [
    "(bodyfat.ridge.reg <- lm.ridge(bodyfat ~ triceps + thigh + midarm, lambda = 0.019))"
   ]
  },
  {
   "cell_type": "markdown",
   "metadata": {},
   "source": [
    " Now let us compare these results with those obtained by standard regression (without regularization)\n",
    "\n",
    " Hand calculation of coefficients, since we know the theory:"
   ]
  },
  {
   "cell_type": "code",
   "execution_count": 167,
   "metadata": {},
   "outputs": [
    {
     "data": {
      "text/html": [
       "<table>\n",
       "<tbody>\n",
       "\t<tr><td>117.084695</td></tr>\n",
       "\t<tr><td>  4.334092</td></tr>\n",
       "\t<tr><td> -2.856848</td></tr>\n",
       "\t<tr><td> -2.186060</td></tr>\n",
       "</tbody>\n",
       "</table>\n"
      ],
      "text/latex": [
       "\\begin{tabular}{l}\n",
       "\t 117.084695\\\\\n",
       "\t   4.334092\\\\\n",
       "\t  -2.856848\\\\\n",
       "\t  -2.186060\\\\\n",
       "\\end{tabular}\n"
      ],
      "text/markdown": [
       "\n",
       "| 117.084695 | \n",
       "|   4.334092 | \n",
       "|  -2.856848 | \n",
       "|  -2.186060 | \n",
       "\n",
       "\n"
      ],
      "text/plain": [
       "     [,1]      \n",
       "[1,] 117.084695\n",
       "[2,]   4.334092\n",
       "[3,]  -2.856848\n",
       "[4,]  -2.186060"
      ]
     },
     "metadata": {},
     "output_type": "display_data"
    }
   ],
   "source": [
    "X <- cbind(rep(1,length=length(bodyfat)),triceps, thigh, midarm)\n",
    "\n",
    "(w <- ginv(X) %*% bodyfat)"
   ]
  },
  {
   "cell_type": "markdown",
   "metadata": {},
   "source": [
    "call to `lm()`, check they should coincide"
   ]
  },
  {
   "cell_type": "code",
   "execution_count": 168,
   "metadata": {},
   "outputs": [
    {
     "data": {
      "text/html": [
       "<dl class=dl-horizontal>\n",
       "\t<dt>(Intercept)</dt>\n",
       "\t\t<dd>117.084694775121</dd>\n",
       "\t<dt>triceps</dt>\n",
       "\t\t<dd>4.33409200822043</dd>\n",
       "\t<dt>thigh</dt>\n",
       "\t\t<dd>-2.85684793616609</dd>\n",
       "\t<dt>midarm</dt>\n",
       "\t\t<dd>-2.18606025161189</dd>\n",
       "</dl>\n"
      ],
      "text/latex": [
       "\\begin{description*}\n",
       "\\item[(Intercept)] 117.084694775121\n",
       "\\item[triceps] 4.33409200822043\n",
       "\\item[thigh] -2.85684793616609\n",
       "\\item[midarm] -2.18606025161189\n",
       "\\end{description*}\n"
      ],
      "text/markdown": [
       "(Intercept)\n",
       ":   117.084694775121triceps\n",
       ":   4.33409200822043thigh\n",
       ":   -2.85684793616609midarm\n",
       ":   -2.18606025161189\n",
       "\n"
      ],
      "text/plain": [
       "(Intercept)     triceps       thigh      midarm \n",
       " 117.084695    4.334092   -2.856848   -2.186060 "
      ]
     },
     "metadata": {},
     "output_type": "display_data"
    }
   ],
   "source": [
    "model$coefficients"
   ]
  },
  {
   "cell_type": "markdown",
   "metadata": {},
   "source": [
    " Notice that the regularized weights are smaller (in absolute value), one by one\n",
    "\n",
    " Now we calculate the corresponding prediction errors\n",
    " First by standard regression (without regularization, we already did this)"
   ]
  },
  {
   "cell_type": "code",
   "execution_count": 169,
   "metadata": {},
   "outputs": [
    {
     "data": {
      "text/html": [
       "67.5534986626245"
      ],
      "text/latex": [
       "67.5534986626245"
      ],
      "text/markdown": [
       "67.5534986626245"
      ],
      "text/plain": [
       "[1] 67.5535"
      ]
     },
     "metadata": {},
     "output_type": "display_data"
    }
   ],
   "source": [
    "R2.LOOCV"
   ]
  },
  {
   "cell_type": "markdown",
   "metadata": {},
   "source": [
    " Now those with ridge regression (with regularization):"
   ]
  },
  {
   "cell_type": "code",
   "execution_count": 170,
   "metadata": {},
   "outputs": [
    {
     "data": {
      "text/html": [
       "<strong>0.019:</strong> 67.0394825362933"
      ],
      "text/latex": [
       "\\textbf{0.019:} 67.0394825362933"
      ],
      "text/markdown": [
       "**0.019:** 67.0394825362933"
      ],
      "text/plain": [
       "   0.019 \n",
       "67.03948 "
      ]
     },
     "metadata": {},
     "output_type": "display_data"
    }
   ],
   "source": [
    "(1 - bodyfat.ridge.reg$GCV)*100"
   ]
  },
  {
   "cell_type": "markdown",
   "metadata": {},
   "source": [
    " The prediction errors are quite close and the model is way simpler: \n",
    " we would probably prefer the regularized one\n",
    " "
   ]
  },
  {
   "cell_type": "markdown",
   "metadata": {},
   "source": [
    "---"
   ]
  },
  {
   "cell_type": "markdown",
   "metadata": {},
   "source": [
    "Now we use the LASSO: here the coefficients are penalized by the L1 norm. The \n",
    " optimal value for lambda is again chosen by cross-validation"
   ]
  },
  {
   "cell_type": "code",
   "execution_count": 171,
   "metadata": {},
   "outputs": [
    {
     "name": "stderr",
     "output_type": "stream",
     "text": [
      "Warning message:\n",
      "“Option grouped=FALSE enforced in cv.glmnet, since < 3 observations per fold”"
     ]
    }
   ],
   "source": [
    "library(glmnet)\n",
    "\n",
    "t <- as.numeric(bodyfat.data[,4])\n",
    "x <- as.matrix(bodyfat.data[,1:3])\n",
    "\n",
    "model.lasso <- cv.glmnet (x, t, nfolds = length(t))"
   ]
  },
  {
   "cell_type": "code",
   "execution_count": 172,
   "metadata": {},
   "outputs": [
    {
     "data": {
      "image/png": "[encoded data removed]",
      "text/plain": [
       "plot without title"
      ]
     },
     "metadata": {},
     "output_type": "display_data"
    }
   ],
   "source": [
    "plot(model.lasso)"
   ]
  },
  {
   "cell_type": "code",
   "execution_count": 173,
   "metadata": {},
   "outputs": [
    {
     "data": {
      "text/plain": [
       "4 x 1 sparse Matrix of class \"dgCMatrix\"\n",
       "                      1\n",
       "(Intercept) -10.5932144\n",
       "triceps       0.1088958\n",
       "thigh         0.5478329\n",
       "midarm        .        "
      ]
     },
     "metadata": {},
     "output_type": "display_data"
    }
   ],
   "source": [
    "coef(model.lasso)"
   ]
  },
  {
   "cell_type": "markdown",
   "metadata": {},
   "source": [
    " lambda.min is the value of lambda that gives minimum mean cross-validated error"
   ]
  },
  {
   "cell_type": "code",
   "execution_count": 174,
   "metadata": {},
   "outputs": [
    {
     "data": {
      "text/html": [
       "0.0180575518391553"
      ],
      "text/latex": [
       "0.0180575518391553"
      ],
      "text/markdown": [
       "0.0180575518391553"
      ],
      "text/plain": [
       "[1] 0.01805755"
      ]
     },
     "metadata": {},
     "output_type": "display_data"
    }
   ],
   "source": [
    "model.lasso$lambda.min"
   ]
  },
  {
   "cell_type": "markdown",
   "metadata": {},
   "source": [
    "Predictions can be made based on the fitted cv.glmnet object; for instance, this would be the TR error with the *optimal* lambda as chosen by LOOCV\n"
   ]
  },
  {
   "cell_type": "code",
   "execution_count": 175,
   "metadata": {},
   "outputs": [
    {
     "data": {
      "text/html": [
       "<table>\n",
       "<thead><tr><th scope=col>1</th></tr></thead>\n",
       "<tbody>\n",
       "\t<tr><td>13.80151</td></tr>\n",
       "\t<tr><td>19.34897</td></tr>\n",
       "\t<tr><td>21.59742</td></tr>\n",
       "\t<tr><td>23.19321</td></tr>\n",
       "\t<tr><td>12.64429</td></tr>\n",
       "\t<tr><td>22.14266</td></tr>\n",
       "\t<tr><td>26.26047</td></tr>\n",
       "\t<tr><td>21.51608</td></tr>\n",
       "\t<tr><td>18.87550</td></tr>\n",
       "\t<tr><td>21.57901</td></tr>\n",
       "\t<tr><td>24.94938</td></tr>\n",
       "\t<tr><td>24.97125</td></tr>\n",
       "\t<tr><td>15.58109</td></tr>\n",
       "\t<tr><td>14.21130</td></tr>\n",
       "\t<tr><td>12.22415</td></tr>\n",
       "\t<tr><td>23.31714</td></tr>\n",
       "\t<tr><td>23.38544</td></tr>\n",
       "\t<tr><td>26.33414</td></tr>\n",
       "\t<tr><td>17.82570</td></tr>\n",
       "\t<tr><td>20.14130</td></tr>\n",
       "</tbody>\n",
       "</table>\n"
      ],
      "text/latex": [
       "\\begin{tabular}{l}\n",
       " 1\\\\\n",
       "\\hline\n",
       "\t 13.80151\\\\\n",
       "\t 19.34897\\\\\n",
       "\t 21.59742\\\\\n",
       "\t 23.19321\\\\\n",
       "\t 12.64429\\\\\n",
       "\t 22.14266\\\\\n",
       "\t 26.26047\\\\\n",
       "\t 21.51608\\\\\n",
       "\t 18.87550\\\\\n",
       "\t 21.57901\\\\\n",
       "\t 24.94938\\\\\n",
       "\t 24.97125\\\\\n",
       "\t 15.58109\\\\\n",
       "\t 14.21130\\\\\n",
       "\t 12.22415\\\\\n",
       "\t 23.31714\\\\\n",
       "\t 23.38544\\\\\n",
       "\t 26.33414\\\\\n",
       "\t 17.82570\\\\\n",
       "\t 20.14130\\\\\n",
       "\\end{tabular}\n"
      ],
      "text/markdown": [
       "\n",
       "1 | \n",
       "|---|---|---|---|---|---|---|---|---|---|---|---|---|---|---|---|---|---|---|---|\n",
       "| 13.80151 | \n",
       "| 19.34897 | \n",
       "| 21.59742 | \n",
       "| 23.19321 | \n",
       "| 12.64429 | \n",
       "| 22.14266 | \n",
       "| 26.26047 | \n",
       "| 21.51608 | \n",
       "| 18.87550 | \n",
       "| 21.57901 | \n",
       "| 24.94938 | \n",
       "| 24.97125 | \n",
       "| 15.58109 | \n",
       "| 14.21130 | \n",
       "| 12.22415 | \n",
       "| 23.31714 | \n",
       "| 23.38544 | \n",
       "| 26.33414 | \n",
       "| 17.82570 | \n",
       "| 20.14130 | \n",
       "\n",
       "\n"
      ],
      "text/plain": [
       "      1       \n",
       " [1,] 13.80151\n",
       " [2,] 19.34897\n",
       " [3,] 21.59742\n",
       " [4,] 23.19321\n",
       " [5,] 12.64429\n",
       " [6,] 22.14266\n",
       " [7,] 26.26047\n",
       " [8,] 21.51608\n",
       " [9,] 18.87550\n",
       "[10,] 21.57901\n",
       "[11,] 24.94938\n",
       "[12,] 24.97125\n",
       "[13,] 15.58109\n",
       "[14,] 14.21130\n",
       "[15,] 12.22415\n",
       "[16,] 23.31714\n",
       "[17,] 23.38544\n",
       "[18,] 26.33414\n",
       "[19,] 17.82570\n",
       "[20,] 20.14130"
      ]
     },
     "metadata": {},
     "output_type": "display_data"
    }
   ],
   "source": [
    "predict (model.lasso, newx = x, s = \"lambda.min\")"
   ]
  },
  {
   "cell_type": "markdown",
   "metadata": {},
   "source": [
    "And this would be corresponding LOOCV"
   ]
  },
  {
   "cell_type": "code",
   "execution_count": 176,
   "metadata": {},
   "outputs": [
    {
     "data": {
      "text/html": [
       "7.42924547792074"
      ],
      "text/latex": [
       "7.42924547792074"
      ],
      "text/markdown": [
       "7.42924547792074"
      ],
      "text/plain": [
       "[1] 7.429245"
      ]
     },
     "metadata": {},
     "output_type": "display_data"
    }
   ],
   "source": [
    "(LOOCV <- model.lasso$cvm[model.lasso$lambda == model.lasso$lambda.min])"
   ]
  },
  {
   "cell_type": "markdown",
   "metadata": {},
   "source": [
    "and the corresponding predictive R-square  "
   ]
  },
  {
   "cell_type": "code",
   "execution_count": 177,
   "metadata": {},
   "outputs": [
    {
     "data": {
      "text/html": [
       "70.0064475410934"
      ],
      "text/latex": [
       "70.0064475410934"
      ],
      "text/markdown": [
       "70.0064475410934"
      ],
      "text/plain": [
       "[1] 70.00645"
      ]
     },
     "metadata": {},
     "output_type": "display_data"
    }
   ],
   "source": [
    "(R2.LOOCV = (1 - LOOCV*N/((N-1)*var(bodyfat)))*100)"
   ]
  },
  {
   "cell_type": "markdown",
   "metadata": {},
   "source": [
    " This LASSO method then seems to deliver a better model"
   ]
  }
 ],
 "metadata": {
  "kernelspec": {
   "display_name": "R",
   "language": "R",
   "name": "ir"
  },
  "language_info": {
   "codemirror_mode": "r",
   "file_extension": ".r",
   "mimetype": "text/x-r-source",
   "name": "R",
   "pygments_lexer": "r",
   "version": "3.5.0"
  },
  "toc": {
   "base_numbering": 1,
   "nav_menu": {
    "height": "100px",
    "width": "252px"
   },
   "number_sections": true,
   "sideBar": true,
   "skip_h1_title": false,
   "title_cell": "Table of Contents",
   "title_sidebar": "Contents",
   "toc_cell": false,
   "toc_position": {},
   "toc_section_display": "block",
   "toc_window_display": true
  }
 },
 "nbformat": 4,
 "nbformat_minor": 2
}
