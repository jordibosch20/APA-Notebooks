{
 "cells": [
  {
   "cell_type": "markdown",
   "metadata": {},
   "source": [
    "# APA Laboratori 8 - Random Forests                  "
   ]
  },
  {
   "cell_type": "code",
   "execution_count": 1,
   "metadata": {},
   "outputs": [],
   "source": [
    "set.seed (6046)"
   ]
  },
  {
   "cell_type": "markdown",
   "metadata": {},
   "source": [
    "## Financial Example: classification model for deposit subscription"
   ]
  },
  {
   "cell_type": "markdown",
   "metadata": {},
   "source": [
    "Direct marketing campaigns (phone calls) of a Portuguese banking institution. \n",
    " The classification goal is to predict if the client will subscribe a term deposit"
   ]
  },
  {
   "cell_type": "code",
   "execution_count": 2,
   "metadata": {},
   "outputs": [
    {
     "data": {
      "text/html": [
       "<ol class=list-inline>\n",
       "\t<li>45211</li>\n",
       "\t<li>17</li>\n",
       "</ol>\n"
      ],
      "text/latex": [
       "\\begin{enumerate*}\n",
       "\\item 45211\n",
       "\\item 17\n",
       "\\end{enumerate*}\n"
      ],
      "text/markdown": [
       "1. 45211\n",
       "2. 17\n",
       "\n",
       "\n"
      ],
      "text/plain": [
       "[1] 45211    17"
      ]
     },
     "metadata": {},
     "output_type": "display_data"
    }
   ],
   "source": [
    "deposit <- read.table (\"bank-full.csv.gz\", header=TRUE, stringsAsFactors=TRUE, sep=\";\")\n",
    "\n",
    "dim(deposit)"
   ]
  },
  {
   "cell_type": "code",
   "execution_count": 3,
   "metadata": {},
   "outputs": [
    {
     "data": {
      "text/plain": [
       "      age                 job           marital          education    \n",
       " Min.   :18.00   blue-collar:9732   divorced: 5207   primary  : 6851  \n",
       " 1st Qu.:33.00   management :9458   married :27214   secondary:23202  \n",
       " Median :39.00   technician :7597   single  :12790   tertiary :13301  \n",
       " Mean   :40.94   admin.     :5171                    unknown  : 1857  \n",
       " 3rd Qu.:48.00   services   :4154                                     \n",
       " Max.   :95.00   retired    :2264                                     \n",
       "                 (Other)    :6835                                     \n",
       " default        balance       housing      loan            contact     \n",
       " no :44396   Min.   : -8019   no :20081   no :37967   cellular :29285  \n",
       " yes:  815   1st Qu.:    72   yes:25130   yes: 7244   telephone: 2906  \n",
       "             Median :   448                           unknown  :13020  \n",
       "             Mean   :  1362                                            \n",
       "             3rd Qu.:  1428                                            \n",
       "             Max.   :102127                                            \n",
       "                                                                       \n",
       "      day            month          duration         campaign     \n",
       " Min.   : 1.00   may    :13766   Min.   :   0.0   Min.   : 1.000  \n",
       " 1st Qu.: 8.00   jul    : 6895   1st Qu.: 103.0   1st Qu.: 1.000  \n",
       " Median :16.00   aug    : 6247   Median : 180.0   Median : 2.000  \n",
       " Mean   :15.81   jun    : 5341   Mean   : 258.2   Mean   : 2.764  \n",
       " 3rd Qu.:21.00   nov    : 3970   3rd Qu.: 319.0   3rd Qu.: 3.000  \n",
       " Max.   :31.00   apr    : 2932   Max.   :4918.0   Max.   :63.000  \n",
       "                 (Other): 6060                                    \n",
       "     pdays          previous           poutcome       y        \n",
       " Min.   : -1.0   Min.   :  0.0000   failure: 4901   no :39922  \n",
       " 1st Qu.: -1.0   1st Qu.:  0.0000   other  : 1840   yes: 5289  \n",
       " Median : -1.0   Median :  0.0000   success: 1511              \n",
       " Mean   : 40.2   Mean   :  0.5803   unknown:36959              \n",
       " 3rd Qu.: -1.0   3rd Qu.:  0.0000                              \n",
       " Max.   :871.0   Max.   :275.0000                              \n",
       "                                                               "
      ]
     },
     "metadata": {},
     "output_type": "display_data"
    }
   ],
   "source": [
    "summary(deposit)"
   ]
  },
  {
   "cell_type": "markdown",
   "metadata": {},
   "source": [
    " This dataset needs a lot of pre-processing ... also it displays a good mixture of categorical and numeric variables\n",
    "\n",
    " age seems OK\n",
    " job has 12 values, let's check their frequency\n",
    "\n",
    " seems OK"
   ]
  },
  {
   "cell_type": "code",
   "execution_count": 4,
   "metadata": {},
   "outputs": [
    {
     "data": {
      "text/plain": [
       "\n",
       "       admin.   blue-collar  entrepreneur     housemaid    management \n",
       "         5171          9732          1487          1240          9458 \n",
       "      retired self-employed      services       student    technician \n",
       "         2264          1579          4154           938          7597 \n",
       "   unemployed       unknown \n",
       "         1303           288 "
      ]
     },
     "metadata": {},
     "output_type": "display_data"
    }
   ],
   "source": [
    "table(deposit$job)"
   ]
  },
  {
   "cell_type": "markdown",
   "metadata": {},
   "source": [
    "education has 4 values, let's check their frequency\n",
    "\n",
    " seems OK"
   ]
  },
  {
   "cell_type": "code",
   "execution_count": 5,
   "metadata": {},
   "outputs": [
    {
     "data": {
      "text/plain": [
       "\n",
       "  primary secondary  tertiary   unknown \n",
       "     6851     23202     13301      1857 "
      ]
     },
     "metadata": {},
     "output_type": "display_data"
    }
   ],
   "source": [
    "table(deposit$education)"
   ]
  },
  {
   "cell_type": "markdown",
   "metadata": {},
   "source": [
    " month looks very suspicious ... but is OK"
   ]
  },
  {
   "cell_type": "code",
   "execution_count": 6,
   "metadata": {},
   "outputs": [
    {
     "data": {
      "text/plain": [
       "\n",
       "  apr   aug   dec   feb   jan   jul   jun   mar   may   nov   oct   sep \n",
       " 2932  6247   214  2649  1403  6895  5341   477 13766  3970   738   579 "
      ]
     },
     "metadata": {},
     "output_type": "display_data"
    }
   ],
   "source": [
    "table(deposit$month)"
   ]
  },
  {
   "cell_type": "markdown",
   "metadata": {},
   "source": [
    "Duration is highly skewed ..."
   ]
  },
  {
   "cell_type": "code",
   "execution_count": 7,
   "metadata": {},
   "outputs": [
    {
     "data": {
      "image/png": "[encoded data removed]",
      "text/plain": [
       "Plot with title “Histogram of deposit$duration”"
      ]
     },
     "metadata": {},
     "output_type": "display_data"
    }
   ],
   "source": [
    "options(repr.plot.width=4, repr.plot.height=4)\n",
    "hist(deposit$duration)"
   ]
  },
  {
   "cell_type": "code",
   "execution_count": 8,
   "metadata": {},
   "outputs": [
    {
     "data": {
      "image/png": "[encoded data removed]",
      "text/plain": [
       "Plot with title “Histogram of log(deposit$duration)”"
      ]
     },
     "metadata": {},
     "output_type": "display_data"
    }
   ],
   "source": [
    "hist(log(deposit$duration))"
   ]
  },
  {
   "cell_type": "code",
   "execution_count": 9,
   "metadata": {},
   "outputs": [],
   "source": [
    "deposit$duration <- log(deposit$duration+0.001)"
   ]
  },
  {
   "cell_type": "markdown",
   "metadata": {},
   "source": [
    " what to do with 'pdays' and 'previous'? it is not clear how to best pre-process them; we shall need\n",
    " some financial expertise... we leave them as they are\n",
    "\n",
    " The rest seem OK (but it would take a careful analysis, and a lot of domain knowledge)\n",
    "\n",
    "Let's rename the target ..."
   ]
  },
  {
   "cell_type": "code",
   "execution_count": 10,
   "metadata": {},
   "outputs": [
    {
     "data": {
      "text/html": [
       "<ol class=list-inline>\n",
       "\t<li>45211</li>\n",
       "\t<li>17</li>\n",
       "</ol>\n"
      ],
      "text/latex": [
       "\\begin{enumerate*}\n",
       "\\item 45211\n",
       "\\item 17\n",
       "\\end{enumerate*}\n"
      ],
      "text/markdown": [
       "1. 45211\n",
       "2. 17\n",
       "\n",
       "\n"
      ],
      "text/plain": [
       "[1] 45211    17"
      ]
     },
     "metadata": {},
     "output_type": "display_data"
    }
   ],
   "source": [
    "colnames(deposit)[ncol(deposit)] <- \"subscribed\"\n",
    "\n",
    "dim(deposit)"
   ]
  },
  {
   "cell_type": "code",
   "execution_count": 11,
   "metadata": {},
   "outputs": [
    {
     "data": {
      "text/plain": [
       "      age                 job           marital          education    \n",
       " Min.   :18.00   blue-collar:9732   divorced: 5207   primary  : 6851  \n",
       " 1st Qu.:33.00   management :9458   married :27214   secondary:23202  \n",
       " Median :39.00   technician :7597   single  :12790   tertiary :13301  \n",
       " Mean   :40.94   admin.     :5171                    unknown  : 1857  \n",
       " 3rd Qu.:48.00   services   :4154                                     \n",
       " Max.   :95.00   retired    :2264                                     \n",
       "                 (Other)    :6835                                     \n",
       " default        balance       housing      loan            contact     \n",
       " no :44396   Min.   : -8019   no :20081   no :37967   cellular :29285  \n",
       " yes:  815   1st Qu.:    72   yes:25130   yes: 7244   telephone: 2906  \n",
       "             Median :   448                           unknown  :13020  \n",
       "             Mean   :  1362                                            \n",
       "             3rd Qu.:  1428                                            \n",
       "             Max.   :102127                                            \n",
       "                                                                       \n",
       "      day            month          duration         campaign     \n",
       " Min.   : 1.00   may    :13766   Min.   :-6.908   Min.   : 1.000  \n",
       " 1st Qu.: 8.00   jul    : 6895   1st Qu.: 4.635   1st Qu.: 1.000  \n",
       " Median :16.00   aug    : 6247   Median : 5.193   Median : 2.000  \n",
       " Mean   :15.81   jun    : 5341   Mean   : 5.162   Mean   : 2.764  \n",
       " 3rd Qu.:21.00   nov    : 3970   3rd Qu.: 5.765   3rd Qu.: 3.000  \n",
       " Max.   :31.00   apr    : 2932   Max.   : 8.501   Max.   :63.000  \n",
       "                 (Other): 6060                                    \n",
       "     pdays          previous           poutcome     subscribed \n",
       " Min.   : -1.0   Min.   :  0.0000   failure: 4901   no :39922  \n",
       " 1st Qu.: -1.0   1st Qu.:  0.0000   other  : 1840   yes: 5289  \n",
       " Median : -1.0   Median :  0.0000   success: 1511              \n",
       " Mean   : 40.2   Mean   :  0.5803   unknown:36959              \n",
       " 3rd Qu.: -1.0   3rd Qu.:  0.0000                              \n",
       " Max.   :871.0   Max.   :275.0000                              \n",
       "                                                               "
      ]
     },
     "metadata": {},
     "output_type": "display_data"
    }
   ],
   "source": [
    "summary(deposit)"
   ]
  },
  {
   "cell_type": "markdown",
   "metadata": {},
   "source": [
    "Since we want to use different methods, we need CV and a separate test set:"
   ]
  },
  {
   "cell_type": "code",
   "execution_count": 15,
   "metadata": {},
   "outputs": [
    {
     "name": "stderr",
     "output_type": "stream",
     "text": [
      "Installing package into ‘/home/bejar/R/x86_64-redhat-linux-gnu-library/3.5’\n",
      "(as ‘lib’ is unspecified)\n"
     ]
    }
   ],
   "source": [
    "install.packages(\"TunePareto\")\n",
    "library(TunePareto)"
   ]
  },
  {
   "cell_type": "markdown",
   "metadata": {},
   "source": [
    "precalculate the TR/TE partition and the cross-validation partitions on the TR part"
   ]
  },
  {
   "cell_type": "code",
   "execution_count": 16,
   "metadata": {},
   "outputs": [],
   "source": [
    "N <- nrow(deposit)\n",
    "all.indexes <- 1:N\n",
    "\n",
    "learn.indexes <- sample(1:N, round(2*N/3))\n",
    "test.indexes <- all.indexes[-learn.indexes]\n",
    "\n",
    "learn.data <- deposit[learn.indexes,]\n",
    "\n",
    "nlearn <- length(learn.indexes)\n",
    "ntest <- N - nlearn"
   ]
  },
  {
   "cell_type": "markdown",
   "metadata": {},
   "source": [
    "First try a standard decision tree (CART)"
   ]
  },
  {
   "cell_type": "code",
   "execution_count": 18,
   "metadata": {},
   "outputs": [
    {
     "name": "stderr",
     "output_type": "stream",
     "text": [
      "Installing package into ‘/home/bejar/R/x86_64-redhat-linux-gnu-library/3.5’\n",
      "(as ‘lib’ is unspecified)\n"
     ]
    },
    {
     "data": {
      "text/plain": [
       "\n",
       "Classification tree:\n",
       "tree(formula = subscribed ~ ., data = learn.data)\n",
       "Variables actually used in tree construction:\n",
       "[1] \"duration\" \"poutcome\" \"month\"    \"contact\" \n",
       "Number of terminal nodes:  9 \n",
       "Residual mean deviance:  0.4863 = 14650 / 30130 \n",
       "Misclassification error rate: 0.1081 = 3259 / 30141 "
      ]
     },
     "metadata": {},
     "output_type": "display_data"
    }
   ],
   "source": [
    "install.packages(\"tree\")\n",
    "library(tree)\n",
    "\n",
    "model.tree <- tree (subscribed ~ ., data = learn.data)\n",
    "\n",
    "summary(model.tree)"
   ]
  },
  {
   "cell_type": "markdown",
   "metadata": {},
   "source": [
    " so training error rate is 10.72%"
   ]
  },
  {
   "cell_type": "code",
   "execution_count": 19,
   "metadata": {},
   "outputs": [
    {
     "data": {
      "text/plain": [
       "node), split, n, deviance, yval, (yprob)\n",
       "      * denotes terminal node\n",
       "\n",
       " 1) root 30141 21790.0 no ( 0.882718 0.117282 )  \n",
       "   2) duration < 6.00512 25026 12290.0 no ( 0.933110 0.066890 )  \n",
       "     4) poutcome: failure,other,unknown 24254  9537.0 no ( 0.950647 0.049353 )  \n",
       "       8) month: aug,jan,jul,jun,may,nov 20437  5112.0 no ( 0.972746 0.027254 )  \n",
       "        16) duration < 5.07205 11183  1038.0 no ( 0.992041 0.007959 ) *\n",
       "        17) duration > 5.07205 9254  3705.0 no ( 0.949427 0.050573 )  \n",
       "          34) contact: unknown 3419   124.9 no ( 0.997368 0.002632 ) *\n",
       "          35) contact: cellular,telephone 5835  3215.0 no ( 0.921337 0.078663 )  \n",
       "            70) month: aug,jan,jul,may,nov 5634  2655.0 no ( 0.936812 0.063188 ) *\n",
       "            71) month: jun 201   278.5 yes ( 0.487562 0.512438 ) *\n",
       "       9) month: apr,dec,feb,mar,oct,sep 3817  3452.0 no ( 0.832329 0.167671 )  \n",
       "        18) month: apr,feb 2911  2033.0 no ( 0.888698 0.111302 ) *\n",
       "        19) month: dec,mar,oct,sep 906  1172.0 no ( 0.651214 0.348786 ) *\n",
       "     5) poutcome: success 772  1027.0 yes ( 0.382124 0.617876 ) *\n",
       "   3) duration > 6.00512 5115  6707.0 no ( 0.636168 0.363832 )  \n",
       "     6) duration < 6.46848 3006  3404.0 no ( 0.746507 0.253493 ) *\n",
       "     7) duration > 6.46848 2109  2920.0 yes ( 0.478900 0.521100 ) *"
      ]
     },
     "metadata": {},
     "output_type": "display_data"
    }
   ],
   "source": [
    "model.tree"
   ]
  },
  {
   "cell_type": "code",
   "execution_count": 20,
   "metadata": {},
   "outputs": [
    {
     "data": {
      "image/png": "[encoded data removed]",
      "text/plain": [
       "plot without title"
      ]
     },
     "metadata": {},
     "output_type": "display_data"
    }
   ],
   "source": [
    "options(repr.plot.width=8, repr.plot.height=8)\n",
    "plot (model.tree)\n",
    "\n",
    "text (model.tree,pretty=0)"
   ]
  },
  {
   "cell_type": "code",
   "execution_count": 21,
   "metadata": {},
   "outputs": [
    {
     "data": {
      "text/plain": [
       "     Pred\n",
       "Truth    no   yes\n",
       "  no  12528   788\n",
       "  yes   929   825"
      ]
     },
     "metadata": {},
     "output_type": "display_data"
    }
   ],
   "source": [
    "pred.tree <- predict (model.tree, deposit[test.indexes,], type=\"class\")\n",
    "\n",
    "(ct <- table(Truth=deposit$subscribed[test.indexes], Pred=pred.tree))"
   ]
  },
  {
   "cell_type": "markdown",
   "metadata": {},
   "source": [
    " We define now a convenience function (the harmonic mean), to compute the F1 accuracy:"
   ]
  },
  {
   "cell_type": "code",
   "execution_count": 22,
   "metadata": {},
   "outputs": [],
   "source": [
    "harm <- function (a,b) { 2/(1/a+1/b) }"
   ]
  },
  {
   "cell_type": "markdown",
   "metadata": {},
   "source": [
    " percent by class"
   ]
  },
  {
   "cell_type": "code",
   "execution_count": 23,
   "metadata": {},
   "outputs": [
    {
     "data": {
      "text/plain": [
       "     Pred\n",
       "Truth         no        yes\n",
       "  no  0.94082307 0.05917693\n",
       "  yes 0.52964652 0.47035348"
      ]
     },
     "metadata": {},
     "output_type": "display_data"
    }
   ],
   "source": [
    "prop.table(ct, 1)"
   ]
  },
  {
   "cell_type": "markdown",
   "metadata": {},
   "source": [
    " total percent correct"
   ]
  },
  {
   "cell_type": "code",
   "execution_count": 24,
   "metadata": {},
   "outputs": [
    {
     "data": {
      "text/html": [
       "0.88606502986065"
      ],
      "text/latex": [
       "0.88606502986065"
      ],
      "text/markdown": [
       "0.88606502986065"
      ],
      "text/plain": [
       "[1] 0.886065"
      ]
     },
     "metadata": {},
     "output_type": "display_data"
    }
   ],
   "source": [
    "sum(diag(ct))/sum(ct)"
   ]
  },
  {
   "cell_type": "markdown",
   "metadata": {},
   "source": [
    " test error is "
   ]
  },
  {
   "cell_type": "code",
   "execution_count": 25,
   "metadata": {},
   "outputs": [
    {
     "data": {
      "text/html": [
       "11.39"
      ],
      "text/latex": [
       "11.39"
      ],
      "text/markdown": [
       "11.39"
      ],
      "text/plain": [
       "[1] 11.39"
      ]
     },
     "metadata": {},
     "output_type": "display_data"
    }
   ],
   "source": [
    "round(100*(1-sum(diag(ct))/sum(ct)),2)"
   ]
  },
  {
   "cell_type": "markdown",
   "metadata": {},
   "source": [
    " not very good, because the 'yes' class is nearly ignored"
   ]
  },
  {
   "cell_type": "code",
   "execution_count": 26,
   "metadata": {},
   "outputs": [
    {
     "data": {
      "text/html": [
       "0.627163771443842"
      ],
      "text/latex": [
       "0.627163771443842"
      ],
      "text/markdown": [
       "0.627163771443842"
      ],
      "text/plain": [
       "[1] 0.6271638"
      ]
     },
     "metadata": {},
     "output_type": "display_data"
    }
   ],
   "source": [
    "(F1 <- harm (prop.table(ct,1)[1,1], prop.table(ct,1)[2,2]))"
   ]
  },
  {
   "cell_type": "markdown",
   "metadata": {},
   "source": [
    " Now a random Forest"
   ]
  },
  {
   "cell_type": "code",
   "execution_count": 29,
   "metadata": {},
   "outputs": [
    {
     "name": "stderr",
     "output_type": "stream",
     "text": [
      "Installing package into ‘/home/bejar/R/x86_64-redhat-linux-gnu-library/3.5’\n",
      "(as ‘lib’ is unspecified)\n",
      "randomForest 4.6-14\n",
      "Type rfNews() to see new features/changes/bug fixes.\n"
     ]
    },
    {
     "data": {
      "text/plain": [
       "\n",
       "Call:\n",
       " randomForest(formula = subscribed ~ ., data = learn.data, ntree = 100,      proximity = FALSE) \n",
       "               Type of random forest: classification\n",
       "                     Number of trees: 100\n",
       "No. of variables tried at each split: 4\n",
       "\n",
       "        OOB estimate of  error rate: 9.36%\n",
       "Confusion matrix:\n",
       "       no  yes class.error\n",
       "no  25595 1011  0.03799895\n",
       "yes  1810 1725  0.51202263"
      ]
     },
     "metadata": {},
     "output_type": "display_data"
    }
   ],
   "source": [
    "install.packages('randomForest')\n",
    "\n",
    "library(randomForest)\n",
    "\n",
    "model.rf1 <- randomForest(subscribed ~ ., data = learn.data, ntree=100, proximity=FALSE)\n",
    "\n",
    "model.rf1"
   ]
  },
  {
   "cell_type": "markdown",
   "metadata": {},
   "source": [
    "We get an estimated test error (OOB) of 9.3%, so better; let's compute the real test error:"
   ]
  },
  {
   "cell_type": "code",
   "execution_count": 30,
   "metadata": {},
   "outputs": [
    {
     "data": {
      "text/plain": [
       "     Pred\n",
       "Truth    no   yes\n",
       "  no  12780   536\n",
       "  yes   905   849"
      ]
     },
     "metadata": {},
     "output_type": "display_data"
    }
   ],
   "source": [
    "pred.rf1 <- predict (model.rf1, deposit[test.indexes,], type=\"class\")\n",
    "\n",
    "(ct <- table(Truth=deposit$subscribed[test.indexes], Pred=pred.rf1))"
   ]
  },
  {
   "cell_type": "markdown",
   "metadata": {},
   "source": [
    "percent by class"
   ]
  },
  {
   "cell_type": "code",
   "execution_count": 32,
   "metadata": {},
   "outputs": [
    {
     "data": {
      "text/plain": [
       "     Pred\n",
       "Truth         no        yes\n",
       "  no  0.95974767 0.04025233\n",
       "  yes 0.51596351 0.48403649"
      ]
     },
     "metadata": {},
     "output_type": "display_data"
    }
   ],
   "source": [
    "prop.table(ct, 1)"
   ]
  },
  {
   "cell_type": "markdown",
   "metadata": {},
   "source": [
    " total percent correct"
   ]
  },
  {
   "cell_type": "code",
   "execution_count": 33,
   "metadata": {},
   "outputs": [
    {
     "data": {
      "text/html": [
       "0.904379562043796"
      ],
      "text/latex": [
       "0.904379562043796"
      ],
      "text/markdown": [
       "0.904379562043796"
      ],
      "text/plain": [
       "[1] 0.9043796"
      ]
     },
     "metadata": {},
     "output_type": "display_data"
    }
   ],
   "source": [
    "sum(diag(ct))/sum(ct)"
   ]
  },
  {
   "cell_type": "markdown",
   "metadata": {},
   "source": [
    "real test error is "
   ]
  },
  {
   "cell_type": "code",
   "execution_count": 34,
   "metadata": {},
   "outputs": [
    {
     "data": {
      "text/html": [
       "9.56"
      ],
      "text/latex": [
       "9.56"
      ],
      "text/markdown": [
       "9.56"
      ],
      "text/plain": [
       "[1] 9.56"
      ]
     },
     "metadata": {},
     "output_type": "display_data"
    }
   ],
   "source": [
    "round(100*(1-sum(diag(ct))/sum(ct)),2)"
   ]
  },
  {
   "cell_type": "markdown",
   "metadata": {},
   "source": [
    "and The F1-score"
   ]
  },
  {
   "cell_type": "code",
   "execution_count": 35,
   "metadata": {},
   "outputs": [
    {
     "data": {
      "text/html": [
       "0.643521248403536"
      ],
      "text/latex": [
       "0.643521248403536"
      ],
      "text/markdown": [
       "0.643521248403536"
      ],
      "text/plain": [
       "[1] 0.6435212"
      ]
     },
     "metadata": {},
     "output_type": "display_data"
    }
   ],
   "source": [
    "(F1 <- harm (prop.table(ct,1)[1,1], prop.table(ct,1)[2,2]))"
   ]
  },
  {
   "cell_type": "markdown",
   "metadata": {},
   "source": [
    "So OOB really works in estimating prediction error and the RF is better than a single tree; \n",
    " however, there is a big issue in unbalanced classes\n",
    "\n",
    " one way to deal with this is to include class weights"
   ]
  },
  {
   "cell_type": "code",
   "execution_count": 37,
   "metadata": {},
   "outputs": [
    {
     "data": {
      "text/plain": [
       "\n",
       "Call:\n",
       " randomForest(formula = subscribed ~ ., data = learn.data, ntree = 100,      proximity = FALSE, classwt = c(1, 10)) \n",
       "               Type of random forest: classification\n",
       "                     Number of trees: 100\n",
       "No. of variables tried at each split: 4\n",
       "\n",
       "        OOB estimate of  error rate: 9.76%\n",
       "Confusion matrix:\n",
       "       no  yes class.error\n",
       "no  25724  882  0.03315042\n",
       "yes  2061 1474  0.58302687"
      ]
     },
     "metadata": {},
     "output_type": "display_data"
    }
   ],
   "source": [
    "model.rf2 <- randomForest(subscribed ~ ., data = learn.data, ntree=100, proximity=FALSE, classwt=c(1,10))\n",
    "\n",
    "model.rf2"
   ]
  },
  {
   "cell_type": "markdown",
   "metadata": {},
   "source": [
    "which helps a little bit, but not much: we get estimated test error (OOB) of 9.86% with a better balance; let's compute the real test error:"
   ]
  },
  {
   "cell_type": "code",
   "execution_count": 38,
   "metadata": {},
   "outputs": [
    {
     "data": {
      "text/plain": [
       "     Pred\n",
       "Truth    no   yes\n",
       "  no  12893   423\n",
       "  yes  1054   700"
      ]
     },
     "metadata": {},
     "output_type": "display_data"
    }
   ],
   "source": [
    "pred.rf2 <- predict (model.rf2, deposit[test.indexes,], type=\"class\")\n",
    "\n",
    "(ct <- table(Truth=deposit$subscribed[test.indexes], Pred=pred.rf2))"
   ]
  },
  {
   "cell_type": "markdown",
   "metadata": {},
   "source": [
    "percent by class"
   ]
  },
  {
   "cell_type": "code",
   "execution_count": 39,
   "metadata": {},
   "outputs": [
    {
     "data": {
      "text/plain": [
       "     Pred\n",
       "Truth        no       yes\n",
       "  no  0.9682337 0.0317663\n",
       "  yes 0.6009122 0.3990878"
      ]
     },
     "metadata": {},
     "output_type": "display_data"
    }
   ],
   "source": [
    "prop.table(ct, 1)"
   ]
  },
  {
   "cell_type": "markdown",
   "metadata": {},
   "source": [
    " total percent correct"
   ]
  },
  {
   "cell_type": "code",
   "execution_count": 40,
   "metadata": {},
   "outputs": [
    {
     "data": {
      "text/html": [
       "0.901990710019907"
      ],
      "text/latex": [
       "0.901990710019907"
      ],
      "text/markdown": [
       "0.901990710019907"
      ],
      "text/plain": [
       "[1] 0.9019907"
      ]
     },
     "metadata": {},
     "output_type": "display_data"
    }
   ],
   "source": [
    "sum(diag(ct))/sum(ct)"
   ]
  },
  {
   "cell_type": "markdown",
   "metadata": {},
   "source": [
    "real test error is "
   ]
  },
  {
   "cell_type": "code",
   "execution_count": 41,
   "metadata": {},
   "outputs": [
    {
     "data": {
      "text/html": [
       "9.8"
      ],
      "text/latex": [
       "9.8"
      ],
      "text/markdown": [
       "9.8"
      ],
      "text/plain": [
       "[1] 9.8"
      ]
     },
     "metadata": {},
     "output_type": "display_data"
    }
   ],
   "source": [
    "round(100*(1-sum(diag(ct))/sum(ct)),2)"
   ]
  },
  {
   "cell_type": "markdown",
   "metadata": {},
   "source": [
    "and the F1-score"
   ]
  },
  {
   "cell_type": "code",
   "execution_count": 42,
   "metadata": {},
   "outputs": [
    {
     "data": {
      "text/html": [
       "0.565207608004654"
      ],
      "text/latex": [
       "0.565207608004654"
      ],
      "text/markdown": [
       "0.565207608004654"
      ],
      "text/plain": [
       "[1] 0.5652076"
      ]
     },
     "metadata": {},
     "output_type": "display_data"
    }
   ],
   "source": [
    "(F1 <- harm (prop.table(ct,1)[1,1], prop.table(ct,1)[2,2]))"
   ]
  },
  {
   "cell_type": "markdown",
   "metadata": {},
   "source": [
    " another way is to stratify the sampling in the boostrap resamples\n",
    "\n",
    " 'yes' is the less represented class, so we upsample it"
   ]
  },
  {
   "cell_type": "code",
   "execution_count": 43,
   "metadata": {},
   "outputs": [
    {
     "data": {
      "text/plain": [
       "\n",
       "Call:\n",
       " randomForest(formula = subscribed ~ ., data = learn.data, ntree = 100,      proximity = FALSE, sampsize = c(yes = 3000, no = 3000), strata = learn.data$subscribed) \n",
       "               Type of random forest: classification\n",
       "                     Number of trees: 100\n",
       "No. of variables tried at each split: 4\n",
       "\n",
       "        OOB estimate of  error rate: 14.25%\n",
       "Confusion matrix:\n",
       "       no  yes class.error\n",
       "no  22771 3835   0.1441404\n",
       "yes   461 3074   0.1304102"
      ]
     },
     "metadata": {},
     "output_type": "display_data"
    }
   ],
   "source": [
    "n.yes <- table(learn.data$subscribed)[\"yes\"]\n",
    "n.no <- table(learn.data$subscribed)[\"no\"]\n",
    "\n",
    "model.rf3 <- randomForest(subscribed ~ ., data = learn.data, ntree=100, proximity=FALSE, \n",
    "                          sampsize=c(yes=3000, no=3000), strata=learn.data$subscribed)\n",
    "\n",
    "model.rf3"
   ]
  },
  {
   "cell_type": "markdown",
   "metadata": {},
   "source": [
    "which seems to help much more: we get estimated test error (OOB) of 14.4% with a very good balance\n",
    " let's compute the real test error:"
   ]
  },
  {
   "cell_type": "code",
   "execution_count": 27,
   "metadata": {},
   "outputs": [
    {
     "ename": "ERROR",
     "evalue": "Error in predict(model.rf3, deposit[test.indexes, ], type = \"class\"): objeto 'model.rf3' no encontrado\n",
     "output_type": "error",
     "traceback": [
      "Error in predict(model.rf3, deposit[test.indexes, ], type = \"class\"): objeto 'model.rf3' no encontrado\nTraceback:\n",
      "1. predict(model.rf3, deposit[test.indexes, ], type = \"class\")"
     ]
    }
   ],
   "source": [
    "pred.rf3 <- predict (model.rf3, deposit[test.indexes,], type=\"class\")\n",
    "\n",
    "(ct <- table(Truth=deposit$subscribed[test.indexes], Pred=pred.rf3))"
   ]
  },
  {
   "cell_type": "markdown",
   "metadata": {},
   "source": [
    " percent by class"
   ]
  },
  {
   "cell_type": "code",
   "execution_count": 28,
   "metadata": {},
   "outputs": [
    {
     "ename": "ERROR",
     "evalue": "Error in sweep(x, margin, margin.table(x, margin), \"/\", check.margin = FALSE): objeto 'ct' no encontrado\n",
     "output_type": "error",
     "traceback": [
      "Error in sweep(x, margin, margin.table(x, margin), \"/\", check.margin = FALSE): objeto 'ct' no encontrado\nTraceback:\n",
      "1. prop.table(ct, 1)",
      "2. sweep(x, margin, margin.table(x, margin), \"/\", check.margin = FALSE)"
     ]
    }
   ],
   "source": [
    "prop.table(ct, 1)"
   ]
  },
  {
   "cell_type": "markdown",
   "metadata": {},
   "source": [
    " total percent correct"
   ]
  },
  {
   "cell_type": "code",
   "execution_count": 29,
   "metadata": {},
   "outputs": [
    {
     "ename": "ERROR",
     "evalue": "Error in diag(ct): objeto 'ct' no encontrado\n",
     "output_type": "error",
     "traceback": [
      "Error in diag(ct): objeto 'ct' no encontrado\nTraceback:\n",
      "1. diag(ct)"
     ]
    }
   ],
   "source": [
    "sum(diag(ct))/sum(ct)"
   ]
  },
  {
   "cell_type": "markdown",
   "metadata": {},
   "source": [
    "real test error is "
   ]
  },
  {
   "cell_type": "code",
   "execution_count": 30,
   "metadata": {},
   "outputs": [
    {
     "ename": "ERROR",
     "evalue": "Error in diag(ct): objeto 'ct' no encontrado\n",
     "output_type": "error",
     "traceback": [
      "Error in diag(ct): objeto 'ct' no encontrado\nTraceback:\n",
      "1. diag(ct)"
     ]
    }
   ],
   "source": [
    "round(100*(1-sum(diag(ct))/sum(ct)),2)"
   ]
  },
  {
   "cell_type": "markdown",
   "metadata": {},
   "source": [
    "and F1-score"
   ]
  },
  {
   "cell_type": "code",
   "execution_count": 31,
   "metadata": {},
   "outputs": [
    {
     "ename": "ERROR",
     "evalue": "Error in harm(prop.table(ct, 1)[1, 1], prop.table(ct, 1)[2, 2]): no se pudo encontrar la función \"harm\"\n",
     "output_type": "error",
     "traceback": [
      "Error in harm(prop.table(ct, 1)[1, 1], prop.table(ct, 1)[2, 2]): no se pudo encontrar la función \"harm\"\nTraceback:\n"
     ]
    }
   ],
   "source": [
    "(F1 <- harm (prop.table(ct,1)[1,1], prop.table(ct,1)[2,2]))"
   ]
  },
  {
   "cell_type": "markdown",
   "metadata": {},
   "source": [
    " Now we can try to optimize the number of trees, guided by OOB:"
   ]
  },
  {
   "cell_type": "code",
   "execution_count": 45,
   "metadata": {},
   "outputs": [
    {
     "data": {
      "text/html": [
       "<ol class=list-inline>\n",
       "\t<li>10</li>\n",
       "\t<li>16</li>\n",
       "\t<li>25</li>\n",
       "\t<li>40</li>\n",
       "\t<li>63</li>\n",
       "\t<li>100</li>\n",
       "\t<li>158</li>\n",
       "\t<li>251</li>\n",
       "\t<li>398</li>\n",
       "\t<li>631</li>\n",
       "\t<li>1000</li>\n",
       "</ol>\n"
      ],
      "text/latex": [
       "\\begin{enumerate*}\n",
       "\\item 10\n",
       "\\item 16\n",
       "\\item 25\n",
       "\\item 40\n",
       "\\item 63\n",
       "\\item 100\n",
       "\\item 158\n",
       "\\item 251\n",
       "\\item 398\n",
       "\\item 631\n",
       "\\item 1000\n",
       "\\end{enumerate*}\n"
      ],
      "text/markdown": [
       "1. 10\n",
       "2. 16\n",
       "3. 25\n",
       "4. 40\n",
       "5. 63\n",
       "6. 100\n",
       "7. 158\n",
       "8. 251\n",
       "9. 398\n",
       "10. 631\n",
       "11. 1000\n",
       "\n",
       "\n"
      ],
      "text/plain": [
       " [1]   10   16   25   40   63  100  158  251  398  631 1000"
      ]
     },
     "metadata": {},
     "output_type": "display_data"
    }
   ],
   "source": [
    "(ntrees <- round(10^seq(1,3,by=0.2)))"
   ]
  },
  {
   "cell_type": "markdown",
   "metadata": {},
   "source": [
    "prepare the structure to store the partial results"
   ]
  },
  {
   "cell_type": "code",
   "execution_count": 46,
   "metadata": {},
   "outputs": [
    {
     "name": "stdout",
     "output_type": "stream",
     "text": [
      "[1] 10\n",
      "[1] 16\n",
      "[1] 25\n",
      "[1] 40\n",
      "[1] 63\n",
      "[1] 100\n",
      "[1] 158\n",
      "[1] 251\n",
      "[1] 398\n",
      "[1] 631\n",
      "[1] 1000\n"
     ]
    }
   ],
   "source": [
    "rf.results <- matrix (rep(0,2*length(ntrees)),nrow=length(ntrees))\n",
    "colnames (rf.results) <- c(\"ntrees\", \"OOB\")\n",
    "rf.results[,\"ntrees\"] <- ntrees\n",
    "rf.results[,\"OOB\"] <- 0\n",
    "\n",
    "ii <- 1\n",
    "\n",
    "for (nt in ntrees)\n",
    "{ \n",
    "  print(nt)\n",
    "\n",
    "  model.rf <- randomForest(subscribed ~ ., data = learn.data, ntree=nt, proximity=FALSE, \n",
    "                          sampsize=c(yes=3000, no=3000), strata=learn.data$subscribed)\n",
    "  \n",
    "  # get the OOB\n",
    "  rf.results[ii,\"OOB\"] <- model.rf$err.rate[nt,1]\n",
    "\n",
    "  ii <- ii+1\n",
    "}"
   ]
  },
  {
   "cell_type": "code",
   "execution_count": 47,
   "metadata": {},
   "outputs": [
    {
     "data": {
      "text/html": [
       "<table>\n",
       "<thead><tr><th scope=col>ntrees</th><th scope=col>OOB</th></tr></thead>\n",
       "<tbody>\n",
       "\t<tr><td>  10     </td><td>0.1531262</td></tr>\n",
       "\t<tr><td>  16     </td><td>0.1477390</td></tr>\n",
       "\t<tr><td>  25     </td><td>0.1481039</td></tr>\n",
       "\t<tr><td>  40     </td><td>0.1419993</td></tr>\n",
       "\t<tr><td>  63     </td><td>0.1438240</td></tr>\n",
       "\t<tr><td> 100     </td><td>0.1431937</td></tr>\n",
       "\t<tr><td> 158     </td><td>0.1430941</td></tr>\n",
       "\t<tr><td> 251     </td><td>0.1427955</td></tr>\n",
       "\t<tr><td> 398     </td><td>0.1432600</td></tr>\n",
       "\t<tr><td> 631     </td><td>0.1420988</td></tr>\n",
       "\t<tr><td>1000     </td><td>0.1421320</td></tr>\n",
       "</tbody>\n",
       "</table>\n"
      ],
      "text/latex": [
       "\\begin{tabular}{ll}\n",
       " ntrees & OOB\\\\\n",
       "\\hline\n",
       "\t   10      & 0.1531262\\\\\n",
       "\t   16      & 0.1477390\\\\\n",
       "\t   25      & 0.1481039\\\\\n",
       "\t   40      & 0.1419993\\\\\n",
       "\t   63      & 0.1438240\\\\\n",
       "\t  100      & 0.1431937\\\\\n",
       "\t  158      & 0.1430941\\\\\n",
       "\t  251      & 0.1427955\\\\\n",
       "\t  398      & 0.1432600\\\\\n",
       "\t  631      & 0.1420988\\\\\n",
       "\t 1000      & 0.1421320\\\\\n",
       "\\end{tabular}\n"
      ],
      "text/markdown": [
       "\n",
       "ntrees | OOB | \n",
       "|---|---|---|---|---|---|---|---|---|---|---|\n",
       "|   10      | 0.1531262 | \n",
       "|   16      | 0.1477390 | \n",
       "|   25      | 0.1481039 | \n",
       "|   40      | 0.1419993 | \n",
       "|   63      | 0.1438240 | \n",
       "|  100      | 0.1431937 | \n",
       "|  158      | 0.1430941 | \n",
       "|  251      | 0.1427955 | \n",
       "|  398      | 0.1432600 | \n",
       "|  631      | 0.1420988 | \n",
       "| 1000      | 0.1421320 | \n",
       "\n",
       "\n"
      ],
      "text/plain": [
       "      ntrees OOB      \n",
       " [1,]   10   0.1531262\n",
       " [2,]   16   0.1477390\n",
       " [3,]   25   0.1481039\n",
       " [4,]   40   0.1419993\n",
       " [5,]   63   0.1438240\n",
       " [6,]  100   0.1431937\n",
       " [7,]  158   0.1430941\n",
       " [8,]  251   0.1427955\n",
       " [9,]  398   0.1432600\n",
       "[10,]  631   0.1420988\n",
       "[11,] 1000   0.1421320"
      ]
     },
     "metadata": {},
     "output_type": "display_data"
    }
   ],
   "source": [
    "rf.results"
   ]
  },
  {
   "cell_type": "markdown",
   "metadata": {},
   "source": [
    " choose best value of 'ntrees'"
   ]
  },
  {
   "cell_type": "code",
   "execution_count": 49,
   "metadata": {},
   "outputs": [
    {
     "data": {
      "text/html": [
       "<strong>ntrees:</strong> 40"
      ],
      "text/latex": [
       "\\textbf{ntrees:} 40"
      ],
      "text/markdown": [
       "**ntrees:** 40"
      ],
      "text/plain": [
       "ntrees \n",
       "    40 "
      ]
     },
     "metadata": {},
     "output_type": "display_data"
    }
   ],
   "source": [
    "lowest.OOB.error <- as.integer(which.min(rf.results[,\"OOB\"]))\n",
    "(ntrees.best <- rf.results[lowest.OOB.error,\"ntrees\"])"
   ]
  },
  {
   "cell_type": "markdown",
   "metadata": {},
   "source": [
    "we could also try to optimize the number of variables in the same way, though the default values work quite well in general\n",
    "\n",
    "Now refit the RF with the best value of 'ntrees'"
   ]
  },
  {
   "cell_type": "code",
   "execution_count": 50,
   "metadata": {},
   "outputs": [],
   "source": [
    "model.rf <- randomForest(subscribed ~ ., data = learn.data, ntree=ntrees.best, proximity=FALSE, \n",
    "                         sampsize=c(yes=3000, no=3000), strata=learn.data$subscribed)"
   ]
  },
  {
   "cell_type": "markdown",
   "metadata": {},
   "source": [
    " let's compute the real test error:"
   ]
  },
  {
   "cell_type": "code",
   "execution_count": 51,
   "metadata": {},
   "outputs": [
    {
     "data": {
      "text/plain": [
       "     Pred\n",
       "Truth    no   yes\n",
       "  no  11364  1952\n",
       "  yes   249  1505"
      ]
     },
     "metadata": {},
     "output_type": "display_data"
    }
   ],
   "source": [
    "pred.rf.final <- predict (model.rf, deposit[test.indexes,], type=\"class\")\n",
    "\n",
    "(ct <- table(Truth=deposit$subscribed[test.indexes], Pred=pred.rf.final))"
   ]
  },
  {
   "cell_type": "markdown",
   "metadata": {},
   "source": [
    "percent by class"
   ]
  },
  {
   "cell_type": "code",
   "execution_count": 52,
   "metadata": {},
   "outputs": [
    {
     "data": {
      "text/plain": [
       "     Pred\n",
       "Truth        no       yes\n",
       "  no  0.8534094 0.1465906\n",
       "  yes 0.1419612 0.8580388"
      ]
     },
     "metadata": {},
     "output_type": "display_data"
    }
   ],
   "source": [
    "prop.table(ct, 1)"
   ]
  },
  {
   "cell_type": "markdown",
   "metadata": {},
   "source": [
    " total percent correct"
   ]
  },
  {
   "cell_type": "code",
   "execution_count": 53,
   "metadata": {},
   "outputs": [
    {
     "data": {
      "text/html": [
       "0.853948241539482"
      ],
      "text/latex": [
       "0.853948241539482"
      ],
      "text/markdown": [
       "0.853948241539482"
      ],
      "text/plain": [
       "[1] 0.8539482"
      ]
     },
     "metadata": {},
     "output_type": "display_data"
    }
   ],
   "source": [
    "sum(diag(ct))/sum(ct)"
   ]
  },
  {
   "cell_type": "markdown",
   "metadata": {},
   "source": [
    " real test error is "
   ]
  },
  {
   "cell_type": "code",
   "execution_count": 54,
   "metadata": {},
   "outputs": [
    {
     "data": {
      "text/html": [
       "14.61"
      ],
      "text/latex": [
       "14.61"
      ],
      "text/markdown": [
       "14.61"
      ],
      "text/plain": [
       "[1] 14.61"
      ]
     },
     "metadata": {},
     "output_type": "display_data"
    }
   ],
   "source": [
    "round(100*(1-sum(diag(ct))/sum(ct)),2)"
   ]
  },
  {
   "cell_type": "markdown",
   "metadata": {},
   "source": [
    "and the F1-score"
   ]
  },
  {
   "cell_type": "code",
   "execution_count": 55,
   "metadata": {},
   "outputs": [
    {
     "data": {
      "text/html": [
       "0.855717839395537"
      ],
      "text/latex": [
       "0.855717839395537"
      ],
      "text/markdown": [
       "0.855717839395537"
      ],
      "text/plain": [
       "[1] 0.8557178"
      ]
     },
     "metadata": {},
     "output_type": "display_data"
    }
   ],
   "source": [
    "(F1 <- harm (prop.table(ct,1)[1,1], prop.table(ct,1)[2,2]))"
   ]
  },
  {
   "cell_type": "markdown",
   "metadata": {},
   "source": [
    "And this is the final model"
   ]
  },
  {
   "cell_type": "code",
   "execution_count": 56,
   "metadata": {},
   "outputs": [
    {
     "name": "stdout",
     "output_type": "stream",
     "text": [
      "\n",
      "Call:\n",
      " randomForest(formula = subscribed ~ ., data = learn.data, ntree = ntrees.best,      proximity = FALSE, sampsize = c(yes = 3000, no = 3000), strata = learn.data$subscribed) \n",
      "               Type of random forest: classification\n",
      "                     Number of trees: 40\n",
      "No. of variables tried at each split: 4\n",
      "\n",
      "        OOB estimate of  error rate: 14.44%\n",
      "Confusion matrix:\n",
      "       no  yes class.error\n",
      "no  22758 3848   0.1446290\n",
      "yes   505 3030   0.1428571\n"
     ]
    }
   ],
   "source": [
    "print(model.rf)"
   ]
  },
  {
   "cell_type": "markdown",
   "metadata": {},
   "source": [
    " The importance of variables"
   ]
  },
  {
   "cell_type": "code",
   "execution_count": 57,
   "metadata": {},
   "outputs": [
    {
     "data": {
      "text/html": [
       "<table>\n",
       "<thead><tr><th></th><th scope=col>MeanDecreaseGini</th></tr></thead>\n",
       "<tbody>\n",
       "\t<tr><th scope=row>age</th><td> 203.961082</td></tr>\n",
       "\t<tr><th scope=row>job</th><td> 166.132299</td></tr>\n",
       "\t<tr><th scope=row>marital</th><td>  48.848567</td></tr>\n",
       "\t<tr><th scope=row>education</th><td>  56.867997</td></tr>\n",
       "\t<tr><th scope=row>default</th><td>   3.142407</td></tr>\n",
       "\t<tr><th scope=row>balance</th><td> 219.518004</td></tr>\n",
       "\t<tr><th scope=row>housing</th><td>  78.675028</td></tr>\n",
       "\t<tr><th scope=row>loan</th><td>  23.291985</td></tr>\n",
       "\t<tr><th scope=row>contact</th><td> 110.433764</td></tr>\n",
       "\t<tr><th scope=row>day</th><td> 186.545763</td></tr>\n",
       "\t<tr><th scope=row>month</th><td> 364.734879</td></tr>\n",
       "\t<tr><th scope=row>duration</th><td>1070.443886</td></tr>\n",
       "\t<tr><th scope=row>campaign</th><td>  86.209693</td></tr>\n",
       "\t<tr><th scope=row>pdays</th><td>  82.574529</td></tr>\n",
       "\t<tr><th scope=row>previous</th><td>  63.847439</td></tr>\n",
       "\t<tr><th scope=row>poutcome</th><td> 194.749569</td></tr>\n",
       "</tbody>\n",
       "</table>\n"
      ],
      "text/latex": [
       "\\begin{tabular}{r|l}\n",
       "  & MeanDecreaseGini\\\\\n",
       "\\hline\n",
       "\tage &  203.961082\\\\\n",
       "\tjob &  166.132299\\\\\n",
       "\tmarital &   48.848567\\\\\n",
       "\teducation &   56.867997\\\\\n",
       "\tdefault &    3.142407\\\\\n",
       "\tbalance &  219.518004\\\\\n",
       "\thousing &   78.675028\\\\\n",
       "\tloan &   23.291985\\\\\n",
       "\tcontact &  110.433764\\\\\n",
       "\tday &  186.545763\\\\\n",
       "\tmonth &  364.734879\\\\\n",
       "\tduration & 1070.443886\\\\\n",
       "\tcampaign &   86.209693\\\\\n",
       "\tpdays &   82.574529\\\\\n",
       "\tprevious &   63.847439\\\\\n",
       "\tpoutcome &  194.749569\\\\\n",
       "\\end{tabular}\n"
      ],
      "text/markdown": [
       "\n",
       "| <!--/--> | MeanDecreaseGini | \n",
       "|---|---|---|---|---|---|---|---|---|---|---|---|---|---|---|---|\n",
       "| age |  203.961082 | \n",
       "| job |  166.132299 | \n",
       "| marital |   48.848567 | \n",
       "| education |   56.867997 | \n",
       "| default |    3.142407 | \n",
       "| balance |  219.518004 | \n",
       "| housing |   78.675028 | \n",
       "| loan |   23.291985 | \n",
       "| contact |  110.433764 | \n",
       "| day |  186.545763 | \n",
       "| month |  364.734879 | \n",
       "| duration | 1070.443886 | \n",
       "| campaign |   86.209693 | \n",
       "| pdays |   82.574529 | \n",
       "| previous |   63.847439 | \n",
       "| poutcome |  194.749569 | \n",
       "\n",
       "\n"
      ],
      "text/plain": [
       "          MeanDecreaseGini\n",
       "age        203.961082     \n",
       "job        166.132299     \n",
       "marital     48.848567     \n",
       "education   56.867997     \n",
       "default      3.142407     \n",
       "balance    219.518004     \n",
       "housing     78.675028     \n",
       "loan        23.291985     \n",
       "contact    110.433764     \n",
       "day        186.545763     \n",
       "month      364.734879     \n",
       "duration  1070.443886     \n",
       "campaign    86.209693     \n",
       "pdays       82.574529     \n",
       "previous    63.847439     \n",
       "poutcome   194.749569     "
      ]
     },
     "metadata": {},
     "output_type": "display_data"
    },
    {
     "data": {
      "image/png": "[encoded data removed]",
      "text/plain": [
       "Plot with title “model.rf”"
      ]
     },
     "metadata": {},
     "output_type": "display_data"
    }
   ],
   "source": [
    "importance(model.rf)\n",
    "options(repr.plot.width=6, repr.plot.height=4)\n",
    "varImpPlot(model.rf)"
   ]
  },
  {
   "cell_type": "markdown",
   "metadata": {},
   "source": [
    " 'duration' is the most important variable, then month, etc\n",
    "\n",
    " plot error rate: black = out of bag (OOB), red = label 1 ('no'), green  = label 2 ('yes')\n",
    " as a function of the number of trees used"
   ]
  },
  {
   "cell_type": "code",
   "execution_count": 58,
   "metadata": {},
   "outputs": [
    {
     "data": {
      "image/png": "[encoded data removed]",
      "text/plain": [
       "Plot with title “model.rf”"
      ]
     },
     "metadata": {},
     "output_type": "display_data"
    }
   ],
   "source": [
    "options(repr.plot.width=6, repr.plot.height=6)\n",
    "plot(model.rf)\n",
    "\n",
    "legend(\"topright\", legend=c(\"OOB\", \"no\", \"yes\"),    \n",
    "       pch=c(1,1), col=c(\"black\",\"red\",\"green\"))"
   ]
  },
  {
   "cell_type": "markdown",
   "metadata": {},
   "source": [
    " What variables are being used in the forest (their counts)"
   ]
  },
  {
   "cell_type": "code",
   "execution_count": 59,
   "metadata": {},
   "outputs": [
    {
     "data": {
      "text/html": [
       "<ol class=list-inline>\n",
       "\t<li>4623</li>\n",
       "\t<li>3138</li>\n",
       "\t<li>1466</li>\n",
       "\t<li>1805</li>\n",
       "\t<li>116</li>\n",
       "\t<li>5116</li>\n",
       "\t<li>685</li>\n",
       "\t<li>656</li>\n",
       "\t<li>786</li>\n",
       "\t<li>4313</li>\n",
       "\t<li>3158</li>\n",
       "\t<li>5685</li>\n",
       "\t<li>2516</li>\n",
       "\t<li>1382</li>\n",
       "\t<li>959</li>\n",
       "\t<li>594</li>\n",
       "</ol>\n"
      ],
      "text/latex": [
       "\\begin{enumerate*}\n",
       "\\item 4623\n",
       "\\item 3138\n",
       "\\item 1466\n",
       "\\item 1805\n",
       "\\item 116\n",
       "\\item 5116\n",
       "\\item 685\n",
       "\\item 656\n",
       "\\item 786\n",
       "\\item 4313\n",
       "\\item 3158\n",
       "\\item 5685\n",
       "\\item 2516\n",
       "\\item 1382\n",
       "\\item 959\n",
       "\\item 594\n",
       "\\end{enumerate*}\n"
      ],
      "text/markdown": [
       "1. 4623\n",
       "2. 3138\n",
       "3. 1466\n",
       "4. 1805\n",
       "5. 116\n",
       "6. 5116\n",
       "7. 685\n",
       "8. 656\n",
       "9. 786\n",
       "10. 4313\n",
       "11. 3158\n",
       "12. 5685\n",
       "13. 2516\n",
       "14. 1382\n",
       "15. 959\n",
       "16. 594\n",
       "\n",
       "\n"
      ],
      "text/plain": [
       " [1] 4623 3138 1466 1805  116 5116  685  656  786 4313 3158 5685 2516 1382  959\n",
       "[16]  594"
      ]
     },
     "metadata": {},
     "output_type": "display_data"
    }
   ],
   "source": [
    "varUsed(model.rf, by.tree=FALSE,count = TRUE)"
   ]
  },
  {
   "cell_type": "code",
   "execution_count": null,
   "metadata": {},
   "outputs": [],
   "source": []
  }
 ],
 "metadata": {
  "kernelspec": {
   "display_name": "R",
   "language": "R",
   "name": "ir"
  },
  "language_info": {
   "codemirror_mode": "r",
   "file_extension": ".r",
   "mimetype": "text/x-r-source",
   "name": "R",
   "pygments_lexer": "r",
   "version": "3.5.0"
  },
  "toc": {
   "base_numbering": 1,
   "nav_menu": {
    "height": "64px",
    "width": "252px"
   },
   "number_sections": true,
   "sideBar": true,
   "skip_h1_title": false,
   "title_cell": "Table of Contents",
   "title_sidebar": "Contents",
   "toc_cell": false,
   "toc_position": {},
   "toc_section_display": "block",
   "toc_window_display": true
  }
 },
 "nbformat": 4,
 "nbformat_minor": 2
}
