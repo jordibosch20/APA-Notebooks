{
 "cells": [
  {
   "cell_type": "markdown",
   "metadata": {},
   "source": [
    "\n",
    "# APA Laboratori 0 - Data preprocessing\n"
   ]
  },
  {
   "cell_type": "markdown",
   "metadata": {},
   "source": [
    "<div class=\"alert alert-block alert-info\">\n",
    "\n",
    "**INSTRUCCIONS**\n",
    "\n",
    "No cal entregar res, cal assimilar\n",
    "\n",
    "S'ha de fer amb calma, sense córrer, mirant d'entendre en tot moment què s'està fent --a nivell conceptual-- i quin efecte té\n",
    "\n",
    " Podeu deixar el codi R en si (crides, paràmetres, sintaxi) per una segona lectura o com a treball personal. El codi R és un mitjà, no un objectiu.\n",
    "<div>"
   ]
  },
  {
   "cell_type": "markdown",
   "metadata": {},
   "source": [
    "## SECTION 1: READING THE FILE CREDSCO.TXT (loan data: credit scoring)"
   ]
  },
  {
   "cell_type": "markdown",
   "metadata": {},
   "source": [
    " Reading properly a data set is non-trivial because you need to know\n",
    " its data format: decimal separator, column separator, is there a\n",
    " header? how are strings quoted? how (if any) are missing values\n",
    " coded? should character vectors be converted to factors? should\n",
    " white spaces be stripped?, ...)\n",
    "\n",
    " It is a good idea to consult `?read.csv` and play with useful control parameters, like\n",
    "\n",
    "` header=TRUE\n",
    " na.strings=\"?\"\n",
    " dec = \".\"\n",
    " sep = \";\"\n",
    " quote = \"\\\"`\n",
    "\n",
    " .. and some others\n",
    "\n",
    " after opening the file `credsco.csv` and inspecting it, we decide the following settings:"
   ]
  },
  {
   "cell_type": "code",
   "execution_count": null,
   "metadata": {},
   "outputs": [],
   "source": [
    "Credit <- read.csv(\"credsco.csv\", header = TRUE, quote = \"\\\"\", dec = \".\", check.names=TRUE)"
   ]
  },
  {
   "cell_type": "markdown",
   "metadata": {},
   "source": [
    "the dimensions of the data set are "
   ]
  },
  {
   "cell_type": "code",
   "execution_count": null,
   "metadata": {},
   "outputs": [],
   "source": [
    "dim(Credit)"
   ]
  },
  {
   "cell_type": "markdown",
   "metadata": {},
   "source": [
    "which means 4,455 examples described by 14 variables"
   ]
  },
  {
   "cell_type": "markdown",
   "metadata": {},
   "source": [
    " Basic questions:\n",
    "\n",
    "* Which is the target variable? where is it? how many different values? is it a classification problem or a regression problem?\n",
    "\n",
    "* *answers:* the target variable is located in column 1 and is called 'Assessment'; it has two possible values (therfore it is a classification problem)"
   ]
  },
  {
   "cell_type": "markdown",
   "metadata": {},
   "source": [
    "What are the other variables?"
   ]
  },
  {
   "cell_type": "code",
   "execution_count": null,
   "metadata": {},
   "outputs": [],
   "source": [
    "names(Credit)"
   ]
  },
  {
   "cell_type": "markdown",
   "metadata": {},
   "source": [
    " You can consult the file \"Credsco-traduccions.txt\" for translation into Catalan\n",
    "\n",
    "inspect the first 4 examples"
   ]
  },
  {
   "cell_type": "code",
   "execution_count": null,
   "metadata": {},
   "outputs": [],
   "source": [
    "Credit[1:4,]"
   ]
  },
  {
   "cell_type": "markdown",
   "metadata": {},
   "source": [
    "inspect predictive variables 4, 5, 6 and 7 for the first example"
   ]
  },
  {
   "cell_type": "code",
   "execution_count": null,
   "metadata": {},
   "outputs": [],
   "source": [
    "Credit[1,5:8]"
   ]
  },
  {
   "cell_type": "markdown",
   "metadata": {},
   "source": [
    "***\n",
    "## SECTION 2: BASIC INSPECTION OF THE DATASET"
   ]
  },
  {
   "cell_type": "markdown",
   "metadata": {},
   "source": [
    "Perform a basic inspection of the dataset. Have a look at the minimum and maximum values for each variable; find possible errors and abnormal values (outliers); find possible missing values; decide which variables are continuous and which are categorical; if there are mixed types, we have three options: recode continuous to categorical, recode categorical to continuous or leave them as they are. In the latter case, either the method accepts both kinds of information, or it does not, in which case R will convert the categorical ones to continuous using a dummy code."
   ]
  },
  {
   "cell_type": "code",
   "execution_count": null,
   "metadata": {},
   "outputs": [],
   "source": [
    "summary(Credit)"
   ]
  },
  {
   "cell_type": "markdown",
   "metadata": {},
   "source": [
    " Assessment,Housing,MaritalStatus,Records,TypeOfJob are categorical and need to be treated properly\n",
    "\n",
    " In particular, Assessment is the target variable; we need to identify correct values\n",
    "\n",
    " Capital, ChargesOnCapital and Income present abnormally high maximums (99999999)\n",
    "\n",
    " There are also suspicious zeros, in both types of variables, which we identify with missing values"
   ]
  },
  {
   "cell_type": "markdown",
   "metadata": {},
   "source": [
    "## SECTION 3: DEALING WITH MISSING VALUES"
   ]
  },
  {
   "cell_type": "markdown",
   "metadata": {},
   "source": [
    "Sometimes we need to take a decision on a sensible treatment for the missing values and apply it; it is wise to write down the possible consequences of this decision and the alternatives that could be considered in case the final results are not satisfactory"
   ]
  },
  {
   "cell_type": "markdown",
   "metadata": {},
   "source": [
    "the easiest way is of course to eliminate the involved rows or\n",
    "columns; this can be done partially. For example, we could decide to\n",
    "eliminate the variables with the highest proportion of missing values.\n",
    "\n",
    "Deleting instances and/or variables containing missing values results\n",
    "in loss of relevant data and is also frustrating because of the effort\n",
    "in collecting the sacrificed information.\n",
    "\n",
    "<div class=\"alert alert-block alert-warning\">\n",
    "CAREFUL! R does not know magically which entries are missing values: they have to be explicitly declared as NA's\n",
    "</div>\n",
    "\n",
    "therefore this code is not useful:"
   ]
  },
  {
   "cell_type": "code",
   "execution_count": null,
   "metadata": {},
   "outputs": [],
   "source": [
    "?na.omit\n",
    "\n",
    "Credit.complete <- na.omit(Credit)\n",
    "dim(Credit.complete)"
   ]
  },
  {
   "cell_type": "markdown",
   "metadata": {},
   "source": [
    " the previous code does nothing! (but it seems it does)\n",
    "\n",
    " In the present case we have decided to perform a step-by-step treatment, separate for the categorical and continuous information\n",
    "\n",
    " We first decide to remove those rows with with missing values in the categorical variables (there are few)"
   ]
  },
  {
   "cell_type": "code",
   "execution_count": null,
   "metadata": {},
   "outputs": [],
   "source": [
    "table(Credit[,1]==0)\n",
    "table(Credit[,3]==0)\n",
    "table(Credit[,6]==0)\n",
    "table(Credit[,8]==0)\n",
    "\n",
    "Credit <- Credit[Credit[,1] != 0 & Credit[,3] != 0 & Credit[,6] != 0 & Credit[,8] != 0,]\n",
    "\n",
    "dim(Credit)"
   ]
  },
  {
   "cell_type": "markdown",
   "metadata": {},
   "source": [
    " Process rows with missing values in the continuous variables (code 99999999)"
   ]
  },
  {
   "cell_type": "code",
   "execution_count": null,
   "metadata": {},
   "outputs": [],
   "source": [
    "attach(Credit) # this allows the column names of Credit to be visible (use with care)"
   ]
  },
  {
   "cell_type": "markdown",
   "metadata": {},
   "source": [
    " look at that:"
   ]
  },
  {
   "cell_type": "code",
   "execution_count": null,
   "metadata": {},
   "outputs": [],
   "source": [
    "options(repr.plot.width=6, repr.plot.height=6)\n",
    "hist(Income)"
   ]
  },
  {
   "cell_type": "code",
   "execution_count": null,
   "metadata": {},
   "outputs": [],
   "source": [
    "hist(Income[Income != 99999999])"
   ]
  },
  {
   "cell_type": "code",
   "execution_count": null,
   "metadata": {},
   "outputs": [],
   "source": [
    "hist(Income[Income != 99999999 & Income != 0], breaks=15)"
   ]
  },
  {
   "cell_type": "markdown",
   "metadata": {},
   "source": [
    " these are then clearly incorrect"
   ]
  },
  {
   "cell_type": "code",
   "execution_count": null,
   "metadata": {},
   "outputs": [],
   "source": [
    "table(Income == 99999999)\n",
    "\n",
    "table(Income == 0)\n",
    "\n",
    "table(Capital == 99999999)\n",
    "\n",
    "table(ChargesOnCapital == 99999999)"
   ]
  },
  {
   "cell_type": "markdown",
   "metadata": {},
   "source": [
    " what do we do with this one? let's assume it is correct"
   ]
  },
  {
   "cell_type": "code",
   "execution_count": null,
   "metadata": {},
   "outputs": [],
   "source": [
    "table(YearsInJob == 0)"
   ]
  },
  {
   "cell_type": "markdown",
   "metadata": {},
   "source": [
    " Continuous variables have too many missing values, we can not eliminate them just like that: we must devise a treatment for these missing values\n",
    "\n",
    " first we mark them to 'NA', including those from no 'Income'"
   ]
  },
  {
   "cell_type": "code",
   "execution_count": null,
   "metadata": {},
   "outputs": [],
   "source": [
    "Income[Income == 99999999 | Income == 0] <- NA\n",
    "Capital[Capital == 99999999] <- NA\n",
    "ChargesOnCapital[ChargesOnCapital == 99999999] <- NA"
   ]
  },
  {
   "cell_type": "markdown",
   "metadata": {},
   "source": [
    "see the difference?"
   ]
  },
  {
   "cell_type": "code",
   "execution_count": null,
   "metadata": {},
   "outputs": [],
   "source": [
    "summary(Credit[,10])\n",
    "summary(Income)"
   ]
  },
  {
   "cell_type": "markdown",
   "metadata": {},
   "source": [
    " The word 'imputation' refers to assigning a value to every missing value. Here we perform imputation by a method known as 1NN: for every individual with a missing 'Income', we look for the most similar individual (according to the remaining variables) and then copy its 'Income' value"
   ]
  },
  {
   "cell_type": "code",
   "execution_count": null,
   "metadata": {},
   "outputs": [],
   "source": [
    "library(class) # knn"
   ]
  },
  {
   "cell_type": "markdown",
   "metadata": {},
   "source": [
    " Imputation of 'Income'"
   ]
  },
  {
   "cell_type": "code",
   "execution_count": null,
   "metadata": {},
   "outputs": [],
   "source": [
    "aux <- Credit[,-10]\n",
    "dim(aux)\n",
    "aux1 <- aux[!is.na(Income),]\n",
    "dim(aux1)\n",
    "aux2 <- aux[is.na(Income),]\n",
    "dim(aux2)"
   ]
  },
  {
   "cell_type": "markdown",
   "metadata": {},
   "source": [
    " Neither of aux1, aux2 can contain NAs"
   ]
  },
  {
   "cell_type": "code",
   "execution_count": null,
   "metadata": {},
   "outputs": [],
   "source": [
    "knn.inc <- knn(aux1,aux2,Income[!is.na(Income)])\n",
    "Income[is.na(Income)] <- as.numeric(as.character(knn.inc))"
   ]
  },
  {
   "cell_type": "markdown",
   "metadata": {},
   "source": [
    " Imputation of 'Capital'"
   ]
  },
  {
   "cell_type": "code",
   "execution_count": null,
   "metadata": {},
   "outputs": [],
   "source": [
    "aux <- Credit[,-11]\n",
    "aux1 <- aux[!is.na(Capital),]\n",
    "aux2 <- aux[is.na(Capital),]\n",
    "knn.cap <- knn(aux1,aux2,Capital[!is.na(Capital)])\n",
    "Capital[is.na(Capital)] <- as.numeric(as.character(knn.cap))"
   ]
  },
  {
   "cell_type": "markdown",
   "metadata": {},
   "source": [
    "Imputation of 'ChargesOnCapital'"
   ]
  },
  {
   "cell_type": "code",
   "execution_count": null,
   "metadata": {},
   "outputs": [],
   "source": [
    "aux <- Credit[,-12]\n",
    "aux1 <- aux[!is.na(ChargesOnCapital),]\n",
    "aux2 <- aux[is.na(ChargesOnCapital),]\n",
    "knn.cac <- knn(aux1,aux2, ChargesOnCapital[!is.na(ChargesOnCapital)])\n",
    "ChargesOnCapital[is.na(ChargesOnCapital)] <- as.numeric(as.character(knn.cac))\n",
    "\n",
    "ChargesOnCapital[Capital==0] <- 0"
   ]
  },
  {
   "cell_type": "markdown",
   "metadata": {},
   "source": [
    "assign back to the dataframe"
   ]
  },
  {
   "cell_type": "code",
   "execution_count": null,
   "metadata": {},
   "outputs": [],
   "source": [
    "Credit[,10] <- Income\n",
    "Credit[,11] <- Capital\n",
    "Credit[,12] <- ChargesOnCapital"
   ]
  },
  {
   "cell_type": "markdown",
   "metadata": {},
   "source": [
    " inspect again the result, especially the new statistics"
   ]
  },
  {
   "cell_type": "code",
   "execution_count": null,
   "metadata": {},
   "outputs": [],
   "source": [
    "dim(Credit)\n",
    "summary(Credit)"
   ]
  },
  {
   "cell_type": "markdown",
   "metadata": {},
   "source": [
    "***\n",
    "## SECTION 4: TREATMENT OF MIXED DATA TYPES\n",
    "\n",
    "\n",
    " In this case we have decided to keep the original type and leave the decision for later, depending on the specific analysis\n",
    "\n",
    " we explicitly declare categorical variables as such (called 'factors' in R)"
   ]
  },
  {
   "cell_type": "code",
   "execution_count": null,
   "metadata": {},
   "outputs": [],
   "source": [
    "Assessment    <- as.factor(Assessment)\n",
    "Housing     <- as.factor(Housing)\n",
    "MaritalStatus <- as.factor(MaritalStatus)\n",
    "Records   <- as.factor(Records)\n",
    "TypeOfJob <- as.factor(TypeOfJob)\n",
    "\n",
    "levels(Assessment)\n",
    "levels(Housing)\n",
    "levels(MaritalStatus)\n",
    "levels(Records)\n",
    "levels(TypeOfJob)"
   ]
  },
  {
   "cell_type": "markdown",
   "metadata": {},
   "source": [
    "not very nice, right? let's recode"
   ]
  },
  {
   "cell_type": "code",
   "execution_count": null,
   "metadata": {},
   "outputs": [],
   "source": [
    "levels(Assessment) <- c(\"positive\",\"negative\")\n",
    "levels(Housing) <- c(\"rent\",\"owner\",\"private\",\"ignore\",\"parents\",\"other\")\n",
    "levels(MaritalStatus) <- c(\"single\",\"married\",\"widower\",\"split\",\"divorced\")\n",
    "levels(Records) <- c(\"no\",\"yes\")\n",
    "levels(TypeOfJob) <- c(\"indefinite\",\"temporal\",\"self-employed\",\"other\")"
   ]
  },
  {
   "cell_type": "markdown",
   "metadata": {},
   "source": [
    "<div class=\"alert alert-block alert-warning\"> WARNING! some R programmers do not like 'attach', look what happens</div>"
   ]
  },
  {
   "cell_type": "code",
   "execution_count": null,
   "metadata": {},
   "outputs": [],
   "source": [
    "is.factor(Assessment)\n",
    "is.factor(Credit[,1])"
   ]
  },
  {
   "cell_type": "markdown",
   "metadata": {},
   "source": [
    " (we'll fix this later)"
   ]
  },
  {
   "cell_type": "markdown",
   "metadata": {},
   "source": [
    "***\n",
    "## SECTION 5: DERIVATION OF NEW VARIABLES: FEATURE EXTRACTION\n",
    "\n",
    " We decide whether it can be sensible to derive new variables; we extract two new continuous and one new categorical variable (for the sake of illustration):\n",
    "\n",
    " Financing ratio (continuous)"
   ]
  },
  {
   "cell_type": "code",
   "execution_count": null,
   "metadata": {},
   "outputs": [],
   "source": [
    "FinancingRatio <- 100*AmountRequested/MarketPrice\n",
    "\n",
    "hist(FinancingRatio)"
   ]
  },
  {
   "cell_type": "markdown",
   "metadata": {},
   "source": [
    " Saving capacity (continuous)"
   ]
  },
  {
   "cell_type": "code",
   "execution_count": null,
   "metadata": {},
   "outputs": [],
   "source": [
    "SavingCapacity <- (Income-Expenses-(ChargesOnCapital/100))/(AmountRequested/Deadline)\n",
    "\n",
    "hist(SavingCapacity, breaks=16)"
   ]
  },
  {
   "cell_type": "markdown",
   "metadata": {},
   "source": [
    " Amount Requested greater than the median by people younger than 1.25 times the mean (categorical):"
   ]
  },
  {
   "cell_type": "code",
   "execution_count": null,
   "metadata": {},
   "outputs": [],
   "source": [
    "Dubious <- rep(\"No\", nrow(Credit))\n",
    "Dubious[AmountRequested > median(AmountRequested, na.rm = TRUE) & Age < 1.25*mean (Age, na.rm = TRUE)] <- \"Yes\"\n",
    "Dubious <- as.factor(Dubious)\n",
    "\n",
    "table(Dubious,Assessment)"
   ]
  },
  {
   "cell_type": "markdown",
   "metadata": {},
   "source": [
    "***\n",
    "## SECTION 6: WHAT WE HAVE DONE SO FAR\n",
    "\n",
    "\n",
    " Create a new dataframe that gathers everything and inspect it again"
   ]
  },
  {
   "cell_type": "code",
   "execution_count": null,
   "metadata": {},
   "outputs": [],
   "source": [
    "Credit.new <- data.frame(Assessment,YearsInJob,Housing,Deadline,Age,MaritalStatus,Records,TypeOfJob,Expenses,Income,Capital,ChargesOnCapital,AmountRequested,MarketPrice,FinancingRatio,SavingCapacity,Dubious)\n",
    "                   \n",
    "summary(Credit.new)\n",
    "dim(Credit.new)"
   ]
  },
  {
   "cell_type": "code",
   "execution_count": null,
   "metadata": {},
   "outputs": [],
   "source": [
    "detach(Credit)   ## this undoes the attach (recommended)"
   ]
  },
  {
   "cell_type": "code",
   "execution_count": null,
   "metadata": {},
   "outputs": [],
   "source": [
    "attach(Credit.new)\n",
    "is.factor(Credit.new[,1])"
   ]
  },
  {
   "cell_type": "markdown",
   "metadata": {},
   "source": [
    "***\n",
    "## SECTION 7: GAUSSIANITY AND TRANSFORMATIONS\n",
    "\n",
    "\n",
    " Perform a graphical summary of some of the variables (both categorical and continuous), using the boxplot() and hist() procedures\n",
    "\n",
    " For continuous data:\n",
    " histograms and boxplots"
   ]
  },
  {
   "cell_type": "code",
   "execution_count": null,
   "metadata": {},
   "outputs": [],
   "source": [
    "hist(Income)"
   ]
  },
  {
   "cell_type": "code",
   "execution_count": null,
   "metadata": {},
   "outputs": [],
   "source": [
    "hist(Income,col=2)"
   ]
  },
  {
   "cell_type": "code",
   "execution_count": null,
   "metadata": {},
   "outputs": [],
   "source": [
    "hist(Capital)"
   ]
  },
  {
   "cell_type": "code",
   "execution_count": null,
   "metadata": {},
   "outputs": [],
   "source": [
    "hist(log10(Capital), breaks=20)"
   ]
  },
  {
   "cell_type": "code",
   "execution_count": null,
   "metadata": {},
   "outputs": [],
   "source": [
    "boxplot (Deadline)\n",
    "title (\"These are the deadlines\")"
   ]
  },
  {
   "cell_type": "code",
   "execution_count": null,
   "metadata": {},
   "outputs": [],
   "source": [
    "boxplot (Age, col = \"lightgray\")\n",
    "title (\"and these are the ages\")"
   ]
  },
  {
   "cell_type": "code",
   "execution_count": null,
   "metadata": {},
   "outputs": [],
   "source": [
    "boxplot(Credit.new[,9:16], outline=TRUE) "
   ]
  },
  {
   "cell_type": "code",
   "execution_count": null,
   "metadata": {},
   "outputs": [],
   "source": [
    "boxplot(Credit.new[,9:16], outline=FALSE) # much better, but would be nicer one by one"
   ]
  },
  {
   "cell_type": "markdown",
   "metadata": {},
   "source": [
    " the previous plots suggest to take logs on some variables: Capital and ChargesOnCapital (we'll do it later)\n",
    "\n",
    " For categorical data:\n",
    " Frequency tables, Contingency tables, Bar charts, Pie charts\n",
    "\n",
    " should we treat Age as categorical? probably not"
   ]
  },
  {
   "cell_type": "code",
   "execution_count": null,
   "metadata": {},
   "outputs": [],
   "source": [
    "table(Age)                            "
   ]
  },
  {
   "cell_type": "code",
   "execution_count": null,
   "metadata": {},
   "outputs": [],
   "source": [
    "min(Age)                                                          \n",
    "max(Age)                                                          "
   ]
  },
  {
   "cell_type": "code",
   "execution_count": null,
   "metadata": {},
   "outputs": [],
   "source": [
    "Age.cat <- cut(Age, breaks = seq(30, 90, 10)) # WARNING! we are generating NAs               \n",
    "Age.cat"
   ]
  },
  {
   "cell_type": "code",
   "execution_count": null,
   "metadata": {},
   "outputs": [],
   "source": [
    "Age.cat <- cut(Age, breaks = seq(15, 75, 10))   "
   ]
  },
  {
   "cell_type": "code",
   "execution_count": null,
   "metadata": {},
   "outputs": [],
   "source": [
    "Age.tab <- table(Age.cat)                              \n",
    "Age.tab"
   ]
  },
  {
   "cell_type": "code",
   "execution_count": null,
   "metadata": {},
   "outputs": [],
   "source": [
    "barplot(Age.tab)                                     # bar chart"
   ]
  },
  {
   "cell_type": "code",
   "execution_count": null,
   "metadata": {},
   "outputs": [],
   "source": [
    "pie(Age.tab)                                         # pie chart"
   ]
  },
  {
   "cell_type": "markdown",
   "metadata": {},
   "source": [
    " incidentally, this is how we could generate another new variable based on Age:"
   ]
  },
  {
   "cell_type": "code",
   "execution_count": null,
   "metadata": {},
   "outputs": [],
   "source": [
    "Age2.cat <- factor(as.integer(Age < 55))        \n",
    "levels(Age2.cat) <- c(\"over55\",\"under55\")"
   ]
  },
  {
   "cell_type": "code",
   "execution_count": null,
   "metadata": {},
   "outputs": [],
   "source": [
    "TypeOfJob.Age <- table(TypeOfJob, Age.cat)          # contingency table\n",
    "TypeOfJob.Age"
   ]
  },
  {
   "cell_type": "code",
   "execution_count": null,
   "metadata": {},
   "outputs": [],
   "source": [
    "margin.table(TypeOfJob.Age, 1)                      # row sums\n",
    "margin.table(TypeOfJob.Age, 2)                      # column sums"
   ]
  },
  {
   "cell_type": "code",
   "execution_count": null,
   "metadata": {},
   "outputs": [],
   "source": [
    "prop.table(TypeOfJob.Age)                           # relative frequencies"
   ]
  },
  {
   "cell_type": "code",
   "execution_count": null,
   "metadata": {},
   "outputs": [],
   "source": [
    "round(prop.table(TypeOfJob.Age), digits=3)          # idem, rounded to 3 digits"
   ]
  },
  {
   "cell_type": "code",
   "execution_count": null,
   "metadata": {},
   "outputs": [],
   "source": [
    "round(prop.table(TypeOfJob.Age) * 100, digits=3)    # total percentages"
   ]
  },
  {
   "cell_type": "code",
   "execution_count": null,
   "metadata": {},
   "outputs": [],
   "source": [
    "round(prop.table(TypeOfJob.Age, 1), digits=3)       # table of relative frequencies (row-wise)\n",
    "TypeOfJob.Age.rel <- round(prop.table(TypeOfJob.Age, 2), digits=3)      # table of relative frequencies (column-wise)"
   ]
  },
  {
   "cell_type": "code",
   "execution_count": null,
   "metadata": {},
   "outputs": [],
   "source": [
    "barplot(TypeOfJob.Age)                                # basic stacked bar chart"
   ]
  },
  {
   "cell_type": "code",
   "execution_count": null,
   "metadata": {},
   "outputs": [],
   "source": [
    "barplot(TypeOfJob.Age.rel, yaxt=\"n\", xlab=\"Age\", ylab=\"proportion\", \n",
    "        col = c(\"white\", \"grey80\", \"grey40\", \"black\"), \n",
    "        main = \"TypeOfJob by Age\", xlim=c(0,9))          # stacked bar chart\n",
    "\n",
    "legend(\"bottomleft\", legend=rownames(TypeOfJob.Age.rel), col=\"black\", \n",
    "      fill = c(\"white\", \"grey80\", \"grey40\", \"black\"), cex=0.65)\n",
    "\n",
    "axis(2, at=seq(0, 1, 0.2))"
   ]
  },
  {
   "cell_type": "code",
   "execution_count": null,
   "metadata": {},
   "outputs": [],
   "source": [
    "barplot(TypeOfJob.Age.rel, beside = TRUE)                            # grouped bar chart"
   ]
  },
  {
   "cell_type": "markdown",
   "metadata": {},
   "source": [
    " we can perform graphical comparisons between some pairs of variables (both categorical and continuous), using the plot(),  pairs() and identify() procedures"
   ]
  },
  {
   "cell_type": "code",
   "execution_count": null,
   "metadata": {},
   "outputs": [],
   "source": [
    "par(mfrow=c(1,2))\n",
    "plot (AmountRequested, Capital, main = \"Amount req. vs. Market price\", \n",
    "      cex = .5, col = \"dark red\")"
   ]
  },
  {
   "cell_type": "code",
   "execution_count": null,
   "metadata": {},
   "outputs": [],
   "source": [
    "plot (log10(AmountRequested), log10(Capital+1), main = \"Amount req. vs. Market price (better)\", cex = .5, col = \"dark red\")"
   ]
  },
  {
   "cell_type": "markdown",
   "metadata": {},
   "source": [
    " adding a center (dashed) and a regression line (blue)"
   ]
  },
  {
   "cell_type": "code",
   "execution_count": null,
   "metadata": {},
   "outputs": [],
   "source": [
    "plot (log10(AmountRequested), log10(Capital+1), main = \"Amount req. vs. Market price (better)\", cex = .5, col = \"dark red\")\n",
    "abline(v = mean(log10(AmountRequested)), lty = 2, col = \"grey40\")\n",
    "abline(h = mean(log10(Capital+1)), lty = 2, col = \"grey40\")\n",
    "abline(lm(log10(Capital+1) ~ log10(AmountRequested)), col = \"blue\")"
   ]
  },
  {
   "cell_type": "markdown",
   "metadata": {},
   "source": [
    " (note that log10(x+1)=0 for x=0, so our transformation keeps the zeros)\n",
    "     \n",
    " On the other hand, these same zeros spoil the regression: perhaps it would be more sensible to do the regression without them"
   ]
  },
  {
   "cell_type": "code",
   "execution_count": null,
   "metadata": {},
   "outputs": [],
   "source": [
    "par(mfrow=c(1,1))\n",
    "\n",
    "plot (TypeOfJob, AmountRequested)"
   ]
  },
  {
   "cell_type": "code",
   "execution_count": null,
   "metadata": {},
   "outputs": [],
   "source": [
    "plot (Age,Assessment, col=\"red\") # WARNING!"
   ]
  },
  {
   "cell_type": "code",
   "execution_count": null,
   "metadata": {},
   "outputs": [],
   "source": [
    "plot (Assessment, Age, col=\"red\") # better"
   ]
  },
  {
   "cell_type": "code",
   "execution_count": null,
   "metadata": {},
   "outputs": [],
   "source": [
    "plot (Assessment, TypeOfJob,col=\"blue\", xlab=\"Assessment\",ylab=\"TypeOfJob\")"
   ]
  },
  {
   "cell_type": "code",
   "execution_count": null,
   "metadata": {},
   "outputs": [],
   "source": [
    "pairs(~ AmountRequested + Capital + Age)"
   ]
  },
  {
   "cell_type": "markdown",
   "metadata": {},
   "source": [
    " Plotting a variable against the normal pdf in red"
   ]
  },
  {
   "cell_type": "code",
   "execution_count": null,
   "metadata": {},
   "outputs": [],
   "source": [
    "hist.with.normal <- function (x, main, xlabel=deparse(substitute(x)), ...)\n",
    "{\n",
    "  h <- hist(x,plot=F, ...)\n",
    "  s <- sd(x)\n",
    "  m <- mean(x)\n",
    "  ylim <- range(0,h$density,dnorm(0,sd=s))\n",
    "  hist(x,freq=FALSE,ylim=ylim,xlab=xlabel, main=main, ...)\n",
    "  curve(dnorm(x,m,s),add=T,col=\"red\")\n",
    "}\n",
    "\n",
    "hist.with.normal (Expenses, \"Expenses\")"
   ]
  },
  {
   "cell_type": "code",
   "execution_count": null,
   "metadata": {},
   "outputs": [],
   "source": [
    "options(repr.plot.width=8, repr.plot.height=6)\n",
    "par(mfrow=c(2,4))\n",
    "for (i in 0:7) \n",
    "  { plot(density(Credit.new[,i+9]), xlab=\"\", main=names(Credit.new)[i+9]) }"
   ]
  },
  {
   "cell_type": "markdown",
   "metadata": {},
   "source": [
    " do any of the continuous variables \"look\" Gaussian? \n",
    " features to look for in comparing to a Gaussian: outliers, asymmetries, long tails\n",
    "\n",
    " A useful tool for \"Gaussianization\" is the Box-Cox power transformation"
   ]
  },
  {
   "cell_type": "code",
   "execution_count": null,
   "metadata": {},
   "outputs": [],
   "source": [
    "options(repr.plot.width=8, repr.plot.height=4)\n",
    "library(MASS)\n",
    "\n",
    "par(mfrow=c(1,3))\n",
    "\n",
    "hist(Capital, main=\"Look at that ...\")\n",
    "\n",
    "bx <- boxcox(I(Capital+1) ~ . - Assessment, data = Credit.new,\n",
    "             lambda = seq(-0.25, 0.25, length = 10))\n",
    "\n",
    "lambda <- bx$x[which.max(bx$y)]\n",
    "\n",
    "Capital.BC <- (Capital^lambda - 1)/lambda\n",
    "\n",
    "hist(Capital.BC, main=\"Look at that now!\")\n",
    "\n",
    "par (mfrow=c(1,1))"
   ]
  },
  {
   "cell_type": "markdown",
   "metadata": {},
   "source": [
    "*** "
   ]
  },
  {
   "cell_type": "markdown",
   "metadata": {},
   "source": [
    "## SECTION 8: ENDING THE PREPROCESSING\n",
    "\n",
    "  \n",
    " Shuffle the data (to avoid possible ordering biases)"
   ]
  },
  {
   "cell_type": "code",
   "execution_count": null,
   "metadata": {},
   "outputs": [],
   "source": [
    "set.seed (104)\n",
    "Credit.new <- Credit.new[sample.int(nrow(Credit.new)),]"
   ]
  },
  {
   "cell_type": "markdown",
   "metadata": {},
   "source": [
    " \n",
    " Save the preprocessed data into a file for future use\n",
    "<div class=\"alert alert-block alert-warning\">\n",
    " WARNING! This creates a .Rdata file (binary and gzip compressed)\n",
    " This is very convenient, but the file cannot be opened with a text editor\n",
    "  If you want a text file, set 'ascii'=TRUE \n",
    "</div>\n"
   ]
  },
  {
   "cell_type": "code",
   "execution_count": null,
   "metadata": {},
   "outputs": [],
   "source": [
    "save(Credit.new, file = \"Credsco-processed.Rdata\")"
   ]
  },
  {
   "cell_type": "markdown",
   "metadata": {},
   "source": [
    " remove (almost) everything in the working environment"
   ]
  },
  {
   "cell_type": "code",
   "execution_count": null,
   "metadata": {},
   "outputs": [],
   "source": [
    "rm(list = ls())\n",
    "\n",
    "load(\"Credsco-processed.Rdata\")\n",
    "objects()"
   ]
  }
 ],
 "metadata": {
  "kernelspec": {
   "display_name": "R",
   "language": "R",
   "name": "ir"
  },
  "language_info": {
   "codemirror_mode": "r",
   "file_extension": ".r",
   "mimetype": "text/x-r-source",
   "name": "R",
   "pygments_lexer": "r",
   "version": "3.4.1"
  },
  "latex_envs": {
   "LaTeX_envs_menu_present": true,
   "autoclose": false,
   "autocomplete": true,
   "bibliofile": "biblio.bib",
   "cite_by": "apalike",
   "current_citInitial": 1,
   "eqLabelWithNumbers": true,
   "eqNumInitial": 1,
   "hotkeys": {
    "equation": "Ctrl-E",
    "itemize": "Ctrl-I"
   },
   "labels_anchors": false,
   "latex_user_defs": false,
   "report_style_numbering": false,
   "user_envs_cfg": false
  },
  "toc": {
   "nav_menu": {
    "height": "189px",
    "width": "252px"
   },
   "number_sections": true,
   "sideBar": true,
   "skip_h1_title": false,
   "toc_cell": false,
   "toc_position": {},
   "toc_section_display": "block",
   "toc_window_display": true
  }
 },
 "nbformat": 4,
 "nbformat_minor": 2
}
