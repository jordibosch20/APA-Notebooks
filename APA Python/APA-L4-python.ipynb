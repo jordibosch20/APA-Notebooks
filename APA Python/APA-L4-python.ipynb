{
  "cells": [
    {
      "metadata": {},
      "cell_type": "markdown",
      "source": "# APA Laboratori 4 - Sistemes lineals (regularitzats)"
    },
    {
      "metadata": {
        "trusted": true
      },
      "cell_type": "code",
      "source": "# Uncomment to upgrade packages\n# !pip install pandas --upgrade \n# !pip install numpy --upgrade\n# !pip install scipy --upgrade\n# !pip install statsmodels --upgrade\n# !pip install scikit-learn --upgrade\n%load_ext autoreload",
      "execution_count": 1,
      "outputs": []
    },
    {
      "metadata": {
        "trusted": true
      },
      "cell_type": "code",
      "source": "import numpy as np\nfrom numpy.random import normal\nfrom numpy.linalg import inv, svd, cond, pinv\nimport matplotlib.pyplot as plt\nimport seaborn as sn\nimport pandas as pd\nfrom statsmodels.genmod.generalized_linear_model import GLM\nfrom IPython.core.interactiveshell import InteractiveShell\nInteractiveShell.ast_node_interactivity = \"all\"",
      "execution_count": 2,
      "outputs": []
    },
    {
      "metadata": {},
      "cell_type": "markdown",
      "source": "veiem que les matrius $A·A^T$ i $A^T·A$ són diferents\n\n`1j` es la unitat imaginatia, definim la matriu "
    },
    {
      "metadata": {
        "trusted": true
      },
      "cell_type": "code",
      "source": "A = np.array([[0,1j],[0,1]])\nA",
      "execution_count": 3,
      "outputs": [
        {
          "output_type": "execute_result",
          "execution_count": 3,
          "data": {
            "text/plain": "array([[0.+0.j, 0.+1.j],\n       [0.+0.j, 1.+0.j]])"
          },
          "metadata": {}
        }
      ]
    },
    {
      "metadata": {},
      "cell_type": "markdown",
      "source": "$A\\cdot A^T$ és la matriu (-1 i; i 1)"
    },
    {
      "metadata": {
        "trusted": true
      },
      "cell_type": "code",
      "source": "A@A.T",
      "execution_count": 4,
      "outputs": [
        {
          "output_type": "execute_result",
          "execution_count": 4,
          "data": {
            "text/plain": "array([[-1.+0.j,  0.+1.j],\n       [ 0.+1.j,  1.+0.j]])"
          },
          "metadata": {}
        }
      ]
    },
    {
      "metadata": {},
      "cell_type": "markdown",
      "source": "$A^T \\cdot A$ és la matriu tot zeros"
    },
    {
      "metadata": {
        "trusted": true
      },
      "cell_type": "code",
      "source": "A.T@A",
      "execution_count": 5,
      "outputs": [
        {
          "output_type": "execute_result",
          "execution_count": 5,
          "data": {
            "text/plain": "array([[0.+0.j, 0.+0.j],\n       [0.+0.j, 0.+0.j]])"
          },
          "metadata": {}
        }
      ]
    },
    {
      "metadata": {},
      "cell_type": "markdown",
      "source": "***"
    },
    {
      "metadata": {},
      "cell_type": "markdown",
      "source": "## EXEMPLE 1"
    },
    {
      "metadata": {},
      "cell_type": "markdown",
      "source": " Resolució d'un problema artificial senzill\n\n\n Definició del sistema lineal a resoldre\n \n $t = f(x) + \\epsilon$\n \non $f(x) = (1 + 1/9)(x-1) + 10$ i $\\epsilon \\sim N(0,1)$"
    },
    {
      "metadata": {
        "trusted": true
      },
      "cell_type": "code",
      "source": "N=10\nX=np.array([[1]*N,range(1,11)]).T\nX",
      "execution_count": 6,
      "outputs": [
        {
          "output_type": "execute_result",
          "execution_count": 6,
          "data": {
            "text/plain": "array([[ 1,  1],\n       [ 1,  2],\n       [ 1,  3],\n       [ 1,  4],\n       [ 1,  5],\n       [ 1,  6],\n       [ 1,  7],\n       [ 1,  8],\n       [ 1,  9],\n       [ 1, 10]])"
          },
          "metadata": {}
        }
      ]
    },
    {
      "metadata": {
        "trusted": true
      },
      "cell_type": "code",
      "source": "t= np.linspace(9,20,num=N)+normal(size=N)\nt",
      "execution_count": 7,
      "outputs": [
        {
          "output_type": "execute_result",
          "execution_count": 7,
          "data": {
            "text/plain": "array([ 8.60943693,  9.20229635, 11.28437835, 12.27213478, 14.49162315,\n       15.56951898, 17.62224864, 18.26196907, 18.54439132, 19.52479763])"
          },
          "metadata": {}
        }
      ]
    },
    {
      "metadata": {
        "trusted": true
      },
      "cell_type": "code",
      "source": "fig, ax = plt.subplots(figsize=(8,8))\nax.plot(X[:,1], t, 'o');",
      "execution_count": 8,
      "outputs": [
        {
          "output_type": "display_data",
          "data": {
            "image/png": "[encoded data removed]",
            "text/plain": "<matplotlib.figure.Figure at 0x7f35c496cc18>"
          },
          "metadata": {}
        }
      ]
    },
    {
      "metadata": {},
      "cell_type": "markdown",
      "source": "\n### Solució de problemes de mínims quadrats de l'estil \n\n$\\min_w || t - Xw ||^2$\n\n1) Resolució mitjançant la pseudo-inversa"
    },
    {
      "metadata": {},
      "cell_type": "markdown",
      "source": "$X^T \\cdot X$"
    },
    {
      "metadata": {
        "trusted": true
      },
      "cell_type": "code",
      "source": "C = X.T @ X\nC",
      "execution_count": 9,
      "outputs": [
        {
          "output_type": "execute_result",
          "execution_count": 9,
          "data": {
            "text/plain": "array([[ 10,  55],\n       [ 55, 385]])"
          },
          "metadata": {}
        }
      ]
    },
    {
      "metadata": {},
      "cell_type": "markdown",
      "source": "$(X^T \\cdot X)^{-1} \\cdot X^T$"
    },
    {
      "metadata": {
        "trusted": true
      },
      "cell_type": "code",
      "source": "X_pseudo = inv(C) @ X.T\nX_pseudo",
      "execution_count": 10,
      "outputs": [
        {
          "output_type": "execute_result",
          "execution_count": 10,
          "data": {
            "text/plain": "array([[ 4.00000000e-01,  3.33333333e-01,  2.66666667e-01,\n         2.00000000e-01,  1.33333333e-01,  6.66666667e-02,\n         1.38777878e-17, -6.66666667e-02, -1.33333333e-01,\n        -2.00000000e-01],\n       [-5.45454545e-02, -4.24242424e-02, -3.03030303e-02,\n        -1.81818182e-02, -6.06060606e-03,  6.06060606e-03,\n         1.81818182e-02,  3.03030303e-02,  4.24242424e-02,\n         5.45454545e-02]])"
          },
          "metadata": {}
        }
      ]
    },
    {
      "metadata": {
        "trusted": true
      },
      "cell_type": "code",
      "source": "X_pseudo @ X # és pseudo-inversa esquerra d'X",
      "execution_count": 11,
      "outputs": [
        {
          "output_type": "execute_result",
          "execution_count": 11,
          "data": {
            "text/plain": "array([[1.00000000e+00, 1.05471187e-15],\n       [2.08166817e-17, 1.00000000e+00]])"
          },
          "metadata": {}
        }
      ]
    },
    {
      "metadata": {
        "trusted": true
      },
      "cell_type": "code",
      "source": "w = X_pseudo @ t\nw",
      "execution_count": 12,
      "outputs": [
        {
          "output_type": "execute_result",
          "execution_count": 12,
          "data": {
            "text/plain": "array([7.34997611, 1.30696426])"
          },
          "metadata": {}
        }
      ]
    },
    {
      "metadata": {
        "trusted": true
      },
      "cell_type": "code",
      "source": "fig, ax = plt.subplots(figsize=(8,8))\nax.plot(X[:,1], t, 'o');\nax.plot(X[:,1], w[0] + X[:,1] * w[1], '-');",
      "execution_count": 13,
      "outputs": [
        {
          "output_type": "display_data",
          "data": {
            "image/png": "[encoded data removed]",
            "text/plain": "<matplotlib.figure.Figure at 0x7f35c496c8d0>"
          },
          "metadata": {}
        }
      ]
    },
    {
      "metadata": {},
      "cell_type": "markdown",
      "source": "2) Resolució mitjançant la SVD"
    },
    {
      "metadata": {
        "trusted": true
      },
      "cell_type": "code",
      "source": "u, d, v = svd(X, full_matrices=False)\nu,d,v",
      "execution_count": 14,
      "outputs": [
        {
          "output_type": "execute_result",
          "execution_count": 14,
          "data": {
            "text/plain": "(array([[ 0.0571102 ,  0.58497262],\n        [ 0.10704739,  0.48685286],\n        [ 0.15698459,  0.38873309],\n        [ 0.20692178,  0.29061332],\n        [ 0.25685898,  0.19249355],\n        [ 0.30679617,  0.09437379],\n        [ 0.35673337, -0.00374598],\n        [ 0.40667056, -0.10186575],\n        [ 0.45660776, -0.19998551],\n        [ 0.50654495, -0.29810528]]),\n array([19.82171108,  1.44905821]),\n array([[ 0.14218125,  0.98984064],\n        [ 0.98984064, -0.14218125]]))"
          },
          "metadata": {}
        }
      ]
    },
    {
      "metadata": {},
      "cell_type": "markdown",
      "source": "Les dues columnes d'X són linealment independents, i per tant els dos valors singulars són diferents de 0; en altres paraules, $rang(X) = 2 = min(10,2)$, per tant X és \"full rank\"\n\nara comprovem que $X = U D V^T$"
    },
    {
      "metadata": {
        "trusted": true
      },
      "cell_type": "code",
      "source": "D = np.diag(d)\n\nu @ D @ v.T\n",
      "execution_count": 15,
      "outputs": [
        {
          "output_type": "execute_result",
          "execution_count": 15,
          "data": {
            "text/plain": "array([[ 1.,  1.],\n       [ 1.,  2.],\n       [ 1.,  3.],\n       [ 1.,  4.],\n       [ 1.,  5.],\n       [ 1.,  6.],\n       [ 1.,  7.],\n       [ 1.,  8.],\n       [ 1.,  9.],\n       [ 1., 10.]])"
          },
          "metadata": {}
        }
      ]
    },
    {
      "metadata": {},
      "cell_type": "markdown",
      "source": "Ara ho apliquem a la solució del problema de mínims quadrats\n\n$\\min_w || t - Xw ||^2$"
    },
    {
      "metadata": {
        "trusted": true
      },
      "cell_type": "code",
      "source": "D = np.diag(1/d)\nw = v @ D @ u.T @ t\nw",
      "execution_count": 16,
      "outputs": [
        {
          "output_type": "execute_result",
          "execution_count": 16,
          "data": {
            "text/plain": "array([7.34997611, 1.30696426])"
          },
          "metadata": {}
        }
      ]
    },
    {
      "metadata": {},
      "cell_type": "markdown",
      "source": "noteu que obtenim la mateixa solució\n\nLa rutina `glm()` implementa regressió lineal per mínims quadrats si li demanem\n mitjançant el paràmetre `family = gaussian`"
    },
    {
      "metadata": {
        "trusted": true
      },
      "cell_type": "code",
      "source": "mostra = pd.DataFrame({'x1':X[:,0], 'x2':X[:,1],'t':t})\nmostra",
      "execution_count": 17,
      "outputs": [
        {
          "output_type": "execute_result",
          "execution_count": 17,
          "data": {
            "text/html": "<div>\n<style scoped>\n    .dataframe tbody tr th:only-of-type {\n        vertical-align: middle;\n    }\n\n    .dataframe tbody tr th {\n        vertical-align: top;\n    }\n\n    .dataframe thead th {\n        text-align: right;\n    }\n</style>\n<table border=\"1\" class=\"dataframe\">\n  <thead>\n    <tr style=\"text-align: right;\">\n      <th></th>\n      <th>x1</th>\n      <th>x2</th>\n      <th>t</th>\n    </tr>\n  </thead>\n  <tbody>\n    <tr>\n      <th>0</th>\n      <td>1</td>\n      <td>1</td>\n      <td>8.609437</td>\n    </tr>\n    <tr>\n      <th>1</th>\n      <td>1</td>\n      <td>2</td>\n      <td>9.202296</td>\n    </tr>\n    <tr>\n      <th>2</th>\n      <td>1</td>\n      <td>3</td>\n      <td>11.284378</td>\n    </tr>\n    <tr>\n      <th>3</th>\n      <td>1</td>\n      <td>4</td>\n      <td>12.272135</td>\n    </tr>\n    <tr>\n      <th>4</th>\n      <td>1</td>\n      <td>5</td>\n      <td>14.491623</td>\n    </tr>\n    <tr>\n      <th>5</th>\n      <td>1</td>\n      <td>6</td>\n      <td>15.569519</td>\n    </tr>\n    <tr>\n      <th>6</th>\n      <td>1</td>\n      <td>7</td>\n      <td>17.622249</td>\n    </tr>\n    <tr>\n      <th>7</th>\n      <td>1</td>\n      <td>8</td>\n      <td>18.261969</td>\n    </tr>\n    <tr>\n      <th>8</th>\n      <td>1</td>\n      <td>9</td>\n      <td>18.544391</td>\n    </tr>\n    <tr>\n      <th>9</th>\n      <td>1</td>\n      <td>10</td>\n      <td>19.524798</td>\n    </tr>\n  </tbody>\n</table>\n</div>",
            "text/plain": "   x1  x2          t\n0   1   1   8.609437\n1   1   2   9.202296\n2   1   3  11.284378\n3   1   4  12.272135\n4   1   5  14.491623\n5   1   6  15.569519\n6   1   7  17.622249\n7   1   8  18.261969\n8   1   9  18.544391\n9   1  10  19.524798"
          },
          "metadata": {}
        }
      ]
    },
    {
      "metadata": {},
      "cell_type": "markdown",
      "source": " Noteu que glm sempre afegeix un terme *intercept* o *offset* (un regressor constant 1) per defecte, així que tenim dues opcions:"
    },
    {
      "metadata": {},
      "cell_type": "markdown",
      "source": " 1) desactivar-lo (el \"-1\" a la fòrmula següent) i usar la nostra pròpia columna de 1's"
    },
    {
      "metadata": {
        "trusted": true
      },
      "cell_type": "code",
      "source": "model1 = GLM.from_formula('t ~ x2 + x1 -1', mostra)\nresult = model1.fit()",
      "execution_count": 18,
      "outputs": []
    },
    {
      "metadata": {},
      "cell_type": "markdown",
      "source": "2) usar la que glm ja posa (recomanat) i desactivar la nostra pròpia columna de 1's"
    },
    {
      "metadata": {
        "trusted": true
      },
      "cell_type": "code",
      "source": "model2 = GLM.from_formula('t ~ x2', mostra)\nresult = model2.fit()",
      "execution_count": 19,
      "outputs": []
    },
    {
      "metadata": {},
      "cell_type": "markdown",
      "source": " Els coefficients (el vector w)"
    },
    {
      "metadata": {
        "trusted": true
      },
      "cell_type": "code",
      "source": "result.params",
      "execution_count": 20,
      "outputs": [
        {
          "output_type": "execute_result",
          "execution_count": 20,
          "data": {
            "text/plain": "Intercept    7.349976\nx2           1.306964\ndtype: float64"
          },
          "metadata": {}
        }
      ]
    },
    {
      "metadata": {},
      "cell_type": "markdown",
      "source": "** Per què la SVD?**"
    },
    {
      "metadata": {},
      "cell_type": "markdown",
      "source": "  a. En formar la matriu $X^T X$ es pot perdre informació"
    },
    {
      "metadata": {
        "trusted": true
      },
      "cell_type": "code",
      "source": "eps = 1e-3\nX_eps = np.array([[1,1],[eps,0],[0,eps]])\nX_eps",
      "execution_count": 21,
      "outputs": [
        {
          "output_type": "execute_result",
          "execution_count": 21,
          "data": {
            "text/plain": "array([[1.   , 1.   ],\n       [0.001, 0.   ],\n       [0.   , 0.001]])"
          },
          "metadata": {}
        }
      ]
    },
    {
      "metadata": {
        "trusted": true
      },
      "cell_type": "code",
      "source": "C_eps = X_eps.T @ X_eps\nC_eps",
      "execution_count": 22,
      "outputs": [
        {
          "output_type": "execute_result",
          "execution_count": 22,
          "data": {
            "text/plain": "array([[1.000001, 1.      ],\n       [1.      , 1.000001]])"
          },
          "metadata": {}
        }
      ]
    },
    {
      "metadata": {
        "trusted": true
      },
      "cell_type": "code",
      "source": "inv(C_eps)# comencem a tenir problemes ...",
      "execution_count": 23,
      "outputs": [
        {
          "output_type": "execute_result",
          "execution_count": 23,
          "data": {
            "text/plain": "array([[ 500000.25003573, -499999.75003598],\n       [-499999.75003598,  500000.25003573]])"
          },
          "metadata": {}
        }
      ]
    },
    {
      "metadata": {
        "trusted": true
      },
      "cell_type": "code",
      "source": "eps = 1e-10\nX_eps = np.array([[1,1],[eps,0],[0,eps]])\nX_eps",
      "execution_count": 24,
      "outputs": [
        {
          "output_type": "execute_result",
          "execution_count": 24,
          "data": {
            "text/plain": "array([[1.e+00, 1.e+00],\n       [1.e-10, 0.e+00],\n       [0.e+00, 1.e-10]])"
          },
          "metadata": {}
        }
      ]
    },
    {
      "metadata": {
        "trusted": true
      },
      "cell_type": "code",
      "source": "C_eps = X_eps.T @ X_eps\nC_eps",
      "execution_count": 25,
      "outputs": [
        {
          "output_type": "execute_result",
          "execution_count": 25,
          "data": {
            "text/plain": "array([[1., 1.],\n       [1., 1.]])"
          },
          "metadata": {}
        }
      ]
    },
    {
      "metadata": {
        "trusted": true
      },
      "cell_type": "code",
      "source": "inv(C_eps)# dóna error (la matriu 2x2 \"tot uns\" és singular)",
      "execution_count": 26,
      "outputs": [
        {
          "output_type": "error",
          "ename": "LinAlgError",
          "evalue": "Singular matrix",
          "traceback": [
            "\u001b[0;31m---------------------------------------------------------------------------\u001b[0m",
            "\u001b[0;31mLinAlgError\u001b[0m                               Traceback (most recent call last)",
            "\u001b[0;32m<ipython-input-26-3e489997295d>\u001b[0m in \u001b[0;36m<module>\u001b[0;34m()\u001b[0m\n\u001b[0;32m----> 1\u001b[0;31m \u001b[0minv\u001b[0m\u001b[0;34m(\u001b[0m\u001b[0mC_eps\u001b[0m\u001b[0;34m)\u001b[0m\u001b[0;31m# dóna error (la matriu 2x2 \"tot uns\" és singular)\u001b[0m\u001b[0;34m\u001b[0m\u001b[0m\n\u001b[0m",
            "\u001b[0;32m~/anaconda3_501/lib/python3.6/site-packages/numpy/linalg/linalg.py\u001b[0m in \u001b[0;36minv\u001b[0;34m(a)\u001b[0m\n\u001b[1;32m    530\u001b[0m     \u001b[0msignature\u001b[0m \u001b[0;34m=\u001b[0m \u001b[0;34m'D->D'\u001b[0m \u001b[0;32mif\u001b[0m \u001b[0misComplexType\u001b[0m\u001b[0;34m(\u001b[0m\u001b[0mt\u001b[0m\u001b[0;34m)\u001b[0m \u001b[0;32melse\u001b[0m \u001b[0;34m'd->d'\u001b[0m\u001b[0;34m\u001b[0m\u001b[0m\n\u001b[1;32m    531\u001b[0m     \u001b[0mextobj\u001b[0m \u001b[0;34m=\u001b[0m \u001b[0mget_linalg_error_extobj\u001b[0m\u001b[0;34m(\u001b[0m\u001b[0m_raise_linalgerror_singular\u001b[0m\u001b[0;34m)\u001b[0m\u001b[0;34m\u001b[0m\u001b[0m\n\u001b[0;32m--> 532\u001b[0;31m     \u001b[0mainv\u001b[0m \u001b[0;34m=\u001b[0m \u001b[0m_umath_linalg\u001b[0m\u001b[0;34m.\u001b[0m\u001b[0minv\u001b[0m\u001b[0;34m(\u001b[0m\u001b[0ma\u001b[0m\u001b[0;34m,\u001b[0m \u001b[0msignature\u001b[0m\u001b[0;34m=\u001b[0m\u001b[0msignature\u001b[0m\u001b[0;34m,\u001b[0m \u001b[0mextobj\u001b[0m\u001b[0;34m=\u001b[0m\u001b[0mextobj\u001b[0m\u001b[0;34m)\u001b[0m\u001b[0;34m\u001b[0m\u001b[0m\n\u001b[0m\u001b[1;32m    533\u001b[0m     \u001b[0;32mreturn\u001b[0m \u001b[0mwrap\u001b[0m\u001b[0;34m(\u001b[0m\u001b[0mainv\u001b[0m\u001b[0;34m.\u001b[0m\u001b[0mastype\u001b[0m\u001b[0;34m(\u001b[0m\u001b[0mresult_t\u001b[0m\u001b[0;34m,\u001b[0m \u001b[0mcopy\u001b[0m\u001b[0;34m=\u001b[0m\u001b[0;32mFalse\u001b[0m\u001b[0;34m)\u001b[0m\u001b[0;34m)\u001b[0m\u001b[0;34m\u001b[0m\u001b[0m\n\u001b[1;32m    534\u001b[0m \u001b[0;34m\u001b[0m\u001b[0m\n",
            "\u001b[0;32m~/anaconda3_501/lib/python3.6/site-packages/numpy/linalg/linalg.py\u001b[0m in \u001b[0;36m_raise_linalgerror_singular\u001b[0;34m(err, flag)\u001b[0m\n\u001b[1;32m     87\u001b[0m \u001b[0;34m\u001b[0m\u001b[0m\n\u001b[1;32m     88\u001b[0m \u001b[0;32mdef\u001b[0m \u001b[0m_raise_linalgerror_singular\u001b[0m\u001b[0;34m(\u001b[0m\u001b[0merr\u001b[0m\u001b[0;34m,\u001b[0m \u001b[0mflag\u001b[0m\u001b[0;34m)\u001b[0m\u001b[0;34m:\u001b[0m\u001b[0;34m\u001b[0m\u001b[0m\n\u001b[0;32m---> 89\u001b[0;31m     \u001b[0;32mraise\u001b[0m \u001b[0mLinAlgError\u001b[0m\u001b[0;34m(\u001b[0m\u001b[0;34m\"Singular matrix\"\u001b[0m\u001b[0;34m)\u001b[0m\u001b[0;34m\u001b[0m\u001b[0m\n\u001b[0m\u001b[1;32m     90\u001b[0m \u001b[0;34m\u001b[0m\u001b[0m\n\u001b[1;32m     91\u001b[0m \u001b[0;32mdef\u001b[0m \u001b[0m_raise_linalgerror_nonposdef\u001b[0m\u001b[0;34m(\u001b[0m\u001b[0merr\u001b[0m\u001b[0;34m,\u001b[0m \u001b[0mflag\u001b[0m\u001b[0;34m)\u001b[0m\u001b[0;34m:\u001b[0m\u001b[0;34m\u001b[0m\u001b[0m\n",
            "\u001b[0;31mLinAlgError\u001b[0m: Singular matrix"
          ]
        }
      ]
    },
    {
      "metadata": {},
      "cell_type": "markdown",
      "source": " (el determinant és 1·1 - 1·1 = 0)\n\n però no ho hauria de ser ... aquesta no és la nostra matriu ...\n el problema és que l'operacio $X^T$ X fa perdre molta precissió numèrica (hem perdut epsilon)"
    },
    {
      "metadata": {},
      "cell_type": "markdown",
      "source": "b. El número de condició d'una matriu\n\n El número de condició d'una matriu és el producte entre la norma de la matriu\n i la norma de la seva inversa\n Dóna una indicació de l'exactitud dels resultats de la inversió d'una matriu\n Valors prop d'1 indiquen una matriu ben condicionada\n\n El número de condició de la matriu $X^T X$ és el quadrat del de la matriu $X$\n\n Incidentalment, el número de condició corresponent a usar la norma-2 equival al quocient entre el valor singular més gran i el més petit (no nul) de la matriu\n\n La rutina `cond()` calcula el número de condició"
    },
    {
      "metadata": {
        "trusted": true
      },
      "cell_type": "code",
      "source": "cond(X)\ncond(X.T @ X)",
      "execution_count": 27,
      "outputs": [
        {
          "output_type": "execute_result",
          "execution_count": 27,
          "data": {
            "text/plain": "13.679030222900371"
          },
          "metadata": {}
        },
        {
          "output_type": "execute_result",
          "execution_count": 27,
          "data": {
            "text/plain": "187.1158678390236"
          },
          "metadata": {}
        }
      ]
    },
    {
      "metadata": {},
      "cell_type": "markdown",
      "source": "veiem-ho amb un exemple:"
    },
    {
      "metadata": {
        "trusted": true
      },
      "cell_type": "code",
      "source": "X= np.array([[1]*N, np.linspace(101,110,num=10)]).T\nX",
      "execution_count": 28,
      "outputs": [
        {
          "output_type": "execute_result",
          "execution_count": 28,
          "data": {
            "text/plain": "array([[  1., 101.],\n       [  1., 102.],\n       [  1., 103.],\n       [  1., 104.],\n       [  1., 105.],\n       [  1., 106.],\n       [  1., 107.],\n       [  1., 108.],\n       [  1., 109.],\n       [  1., 110.]])"
          },
          "metadata": {}
        }
      ]
    },
    {
      "metadata": {
        "trusted": true
      },
      "cell_type": "code",
      "source": "cond(X)\ncond(X.T @ X)",
      "execution_count": 29,
      "outputs": [
        {
          "output_type": "execute_result",
          "execution_count": 29,
          "data": {
            "text/plain": "3878.2758391904267"
          },
          "metadata": {}
        },
        {
          "output_type": "execute_result",
          "execution_count": 29,
          "data": {
            "text/plain": "15041023.484257316"
          },
          "metadata": {}
        }
      ]
    },
    {
      "metadata": {},
      "cell_type": "markdown",
      "source": "Una solució molt senzilla és centrar la segona columna:"
    },
    {
      "metadata": {
        "trusted": true
      },
      "cell_type": "code",
      "source": "X= np.array([[1]*N, np.linspace(101,110,num=10)]).T\nX[:,1] = X[:,1] - np.mean(X[:,1])\nX",
      "execution_count": 30,
      "outputs": [
        {
          "output_type": "execute_result",
          "execution_count": 30,
          "data": {
            "text/plain": "array([[ 1. , -4.5],\n       [ 1. , -3.5],\n       [ 1. , -2.5],\n       [ 1. , -1.5],\n       [ 1. , -0.5],\n       [ 1. ,  0.5],\n       [ 1. ,  1.5],\n       [ 1. ,  2.5],\n       [ 1. ,  3.5],\n       [ 1. ,  4.5]])"
          },
          "metadata": {}
        }
      ]
    },
    {
      "metadata": {
        "trusted": true
      },
      "cell_type": "code",
      "source": "cond(X)\ncond(X.T @ X)",
      "execution_count": 31,
      "outputs": [
        {
          "output_type": "execute_result",
          "execution_count": 31,
          "data": {
            "text/plain": "2.8722813232690134"
          },
          "metadata": {}
        },
        {
          "output_type": "execute_result",
          "execution_count": 31,
          "data": {
            "text/plain": "8.25"
          },
          "metadata": {}
        }
      ]
    },
    {
      "metadata": {},
      "cell_type": "markdown",
      "source": "Hi ha una relació senzilla entre els dos sistems lineals; en altres paraules, podem \"post-processar els coeficients de sortida perquè corresponguin a la matriu inicial\n\n Nota: hi ha una rutina que calcula directament la pseudo-inversa (ho fa via la SVD):"
    },
    {
      "metadata": {
        "trusted": true
      },
      "cell_type": "code",
      "source": "pinv(X)",
      "execution_count": 32,
      "outputs": [
        {
          "output_type": "execute_result",
          "execution_count": 32,
          "data": {
            "text/plain": "array([[ 0.1       ,  0.1       ,  0.1       ,  0.1       ,  0.1       ,\n         0.1       ,  0.1       ,  0.1       ,  0.1       ,  0.1       ],\n       [-0.05454545, -0.04242424, -0.03030303, -0.01818182, -0.00606061,\n         0.00606061,  0.01818182,  0.03030303,  0.04242424,  0.05454545]])"
          },
          "metadata": {}
        }
      ]
    },
    {
      "metadata": {},
      "cell_type": "markdown",
      "source": "***"
    },
    {
      "metadata": {},
      "cell_type": "markdown",
      "source": "## EXEMPLE 2"
    },
    {
      "metadata": {},
      "cell_type": "markdown",
      "source": " Anem a analitzar dades de greix corporal\n mitjançant regressió normal i ridge (regularitzada)\n"
    },
    {
      "metadata": {
        "trusted": true
      },
      "cell_type": "code",
      "source": "from pandas import read_csv\n\nbodyfat_data = read_csv(\"bodyfatdata.txt\", delim_whitespace=True, names=['triceps', 'thigh', 'midarm', 'bodyfat'])\nbodyfat_data.describe()\nN=bodyfat_data.shape[0]\n",
      "execution_count": 33,
      "outputs": [
        {
          "output_type": "execute_result",
          "execution_count": 33,
          "data": {
            "text/html": "<div>\n<style scoped>\n    .dataframe tbody tr th:only-of-type {\n        vertical-align: middle;\n    }\n\n    .dataframe tbody tr th {\n        vertical-align: top;\n    }\n\n    .dataframe thead th {\n        text-align: right;\n    }\n</style>\n<table border=\"1\" class=\"dataframe\">\n  <thead>\n    <tr style=\"text-align: right;\">\n      <th></th>\n      <th>triceps</th>\n      <th>thigh</th>\n      <th>midarm</th>\n      <th>bodyfat</th>\n    </tr>\n  </thead>\n  <tbody>\n    <tr>\n      <th>count</th>\n      <td>20.000000</td>\n      <td>20.000000</td>\n      <td>20.000000</td>\n      <td>20.000000</td>\n    </tr>\n    <tr>\n      <th>mean</th>\n      <td>25.305000</td>\n      <td>51.170000</td>\n      <td>27.620000</td>\n      <td>20.195000</td>\n    </tr>\n    <tr>\n      <th>std</th>\n      <td>5.023259</td>\n      <td>5.234612</td>\n      <td>3.647147</td>\n      <td>5.106186</td>\n    </tr>\n    <tr>\n      <th>min</th>\n      <td>14.600000</td>\n      <td>42.200000</td>\n      <td>21.300000</td>\n      <td>11.700000</td>\n    </tr>\n    <tr>\n      <th>25%</th>\n      <td>21.500000</td>\n      <td>47.775000</td>\n      <td>24.750000</td>\n      <td>17.050000</td>\n    </tr>\n    <tr>\n      <th>50%</th>\n      <td>25.550000</td>\n      <td>52.000000</td>\n      <td>27.900000</td>\n      <td>21.200000</td>\n    </tr>\n    <tr>\n      <th>75%</th>\n      <td>29.900000</td>\n      <td>54.625000</td>\n      <td>30.025000</td>\n      <td>24.275000</td>\n    </tr>\n    <tr>\n      <th>max</th>\n      <td>31.400000</td>\n      <td>58.600000</td>\n      <td>37.000000</td>\n      <td>27.200000</td>\n    </tr>\n  </tbody>\n</table>\n</div>",
            "text/plain": "         triceps      thigh     midarm    bodyfat\ncount  20.000000  20.000000  20.000000  20.000000\nmean   25.305000  51.170000  27.620000  20.195000\nstd     5.023259   5.234612   3.647147   5.106186\nmin    14.600000  42.200000  21.300000  11.700000\n25%    21.500000  47.775000  24.750000  17.050000\n50%    25.550000  52.000000  27.900000  21.200000\n75%    29.900000  54.625000  30.025000  24.275000\nmax    31.400000  58.600000  37.000000  27.200000"
          },
          "metadata": {}
        }
      ]
    },
    {
      "metadata": {},
      "cell_type": "markdown",
      "source": " let us start with standard linear regression"
    },
    {
      "metadata": {
        "trusted": true
      },
      "cell_type": "code",
      "source": "model = GLM.from_formula('bodyfat ~ triceps + thigh + midarm', bodyfat_data)\nresult = model.fit()\nresult.summary()",
      "execution_count": 34,
      "outputs": [
        {
          "output_type": "execute_result",
          "execution_count": 34,
          "data": {
            "text/html": "<table class=\"simpletable\">\n<caption>Generalized Linear Model Regression Results</caption>\n<tr>\n  <th>Dep. Variable:</th>       <td>bodyfat</td>     <th>  No. Observations:  </th>  <td>    20</td>  \n</tr>\n<tr>\n  <th>Model:</th>                 <td>GLM</td>       <th>  Df Residuals:      </th>  <td>    16</td>  \n</tr>\n<tr>\n  <th>Model Family:</th>       <td>Gaussian</td>     <th>  Df Model:          </th>  <td>     3</td>  \n</tr>\n<tr>\n  <th>Link Function:</th>      <td>identity</td>     <th>  Scale:             </th> <td>  6.1503</td> \n</tr>\n<tr>\n  <th>Method:</th>               <td>IRLS</td>       <th>  Log-Likelihood:    </th> <td> -44.312</td> \n</tr>\n<tr>\n  <th>Date:</th>           <td>Sat, 25 Aug 2018</td> <th>  Deviance:          </th> <td>  98.405</td> \n</tr>\n<tr>\n  <th>Time:</th>               <td>05:12:01</td>     <th>  Pearson chi2:      </th>  <td>  98.4</td>  \n</tr>\n<tr>\n  <th>No. Iterations:</th>         <td>3</td>        <th>  Covariance Type:   </th> <td>nonrobust</td>\n</tr>\n</table>\n<table class=\"simpletable\">\n<tr>\n      <td></td>         <th>coef</th>     <th>std err</th>      <th>z</th>      <th>P>|z|</th>  <th>[0.025</th>    <th>0.975]</th>  \n</tr>\n<tr>\n  <th>Intercept</th> <td>  117.0847</td> <td>   99.782</td> <td>    1.173</td> <td> 0.241</td> <td>  -78.485</td> <td>  312.655</td>\n</tr>\n<tr>\n  <th>triceps</th>   <td>    4.3341</td> <td>    3.016</td> <td>    1.437</td> <td> 0.151</td> <td>   -1.576</td> <td>   10.244</td>\n</tr>\n<tr>\n  <th>thigh</th>     <td>   -2.8568</td> <td>    2.582</td> <td>   -1.106</td> <td> 0.269</td> <td>   -7.918</td> <td>    2.204</td>\n</tr>\n<tr>\n  <th>midarm</th>    <td>   -2.1861</td> <td>    1.595</td> <td>   -1.370</td> <td> 0.171</td> <td>   -5.313</td> <td>    0.941</td>\n</tr>\n</table>",
            "text/plain": "<class 'statsmodels.iolib.summary.Summary'>\n\"\"\"\n                 Generalized Linear Model Regression Results                  \n==============================================================================\nDep. Variable:                bodyfat   No. Observations:                   20\nModel:                            GLM   Df Residuals:                       16\nModel Family:                Gaussian   Df Model:                            3\nLink Function:               identity   Scale:                          6.1503\nMethod:                          IRLS   Log-Likelihood:                -44.312\nDate:                Sat, 25 Aug 2018   Deviance:                       98.405\nTime:                        05:12:01   Pearson chi2:                     98.4\nNo. Iterations:                     3   Covariance Type:             nonrobust\n==============================================================================\n                 coef    std err          z      P>|z|      [0.025      0.975]\n------------------------------------------------------------------------------\nIntercept    117.0847     99.782      1.173      0.241     -78.485     312.655\ntriceps        4.3341      3.016      1.437      0.151      -1.576      10.244\nthigh         -2.8568      2.582     -1.106      0.269      -7.918       2.204\nmidarm        -2.1861      1.595     -1.370      0.171      -5.313       0.941\n==============================================================================\n\"\"\""
          },
          "metadata": {}
        }
      ]
    },
    {
      "metadata": {},
      "cell_type": "markdown",
      "source": " How to read this output:\n\n $x = (1,triceps, thigh, midarm)^T$\n\n$w = (117.085, 4.334, -2.857, -2.186)^T$\n\n the model is $y(x; w) = w^T x = 117.085 + 4.334*triceps -2.857*thigh -2.186*midarm$\n\n The residuals are the differences $(t_n - y(x_n; w)), n = 1,\\dots N$\n \n let's inspect `model$residuals`"
    },
    {
      "metadata": {
        "trusted": true
      },
      "cell_type": "code",
      "source": "fig, ax = plt.subplots(figsize=(8,8))\nax.set_xlim([-5,5])\nsn.distplot(result.resid_response,bins=9);",
      "execution_count": 35,
      "outputs": [
        {
          "output_type": "stream",
          "text": "/home/nbuser/anaconda3_501/lib/python3.6/site-packages/scipy/stats/stats.py:1713: FutureWarning: Using a non-tuple sequence for multidimensional indexing is deprecated; use `arr[tuple(seq)]` instead of `arr[seq]`. In the future this will be interpreted as an array index, `arr[np.array(seq)]`, which will result either in an error or a different result.\n  return np.add.reduce(sorted[indexer] * weights, axis=axis) / sumval\n",
          "name": "stderr"
        },
        {
          "output_type": "display_data",
          "data": {
            "image/png": "[encoded data removed]",
            "text/plain": "<matplotlib.figure.Figure at 0x7f35c405cbe0>"
          },
          "metadata": {}
        }
      ]
    },
    {
      "metadata": {},
      "cell_type": "markdown",
      "source": " Do the residuals look Gaussian? this is direct indication of model validity\n (since it was our departing assumption)\n\n Let's do a more informative plot (a QQ-plot), which plots actual quantiles\n against theoretical quantiles of a comparison distribution (Gaussian in this case)"
    },
    {
      "metadata": {
        "trusted": true
      },
      "cell_type": "code",
      "source": "from scipy import stats\nfig, ax = plt.subplots(figsize=(8,8))\nstats.probplot(result.resid_response, plot=plt);",
      "execution_count": 36,
      "outputs": [
        {
          "output_type": "display_data",
          "data": {
            "image/png": "[encoded data removed]",
            "text/plain": "<matplotlib.figure.Figure at 0x7f35c3df6198>"
          },
          "metadata": {}
        }
      ]
    },
    {
      "metadata": {},
      "cell_type": "markdown",
      "source": " The solid line corresponds to the theoretical quantiles\n therefore in this case the residuals are not even close \n (the tails are heavier, the central part is flatter)\n\n This is how we can compute the mean square error"
    },
    {
      "metadata": {
        "trusted": true
      },
      "cell_type": "code",
      "source": "prediction = result.predict(bodyfat_data.loc[:,'triceps':'midarm'])\nmean_square_error = np.sum((bodyfat_data.bodyfat - prediction)**2)/N\nmean_square_error",
      "execution_count": 37,
      "outputs": [
        {
          "output_type": "execute_result",
          "execution_count": 37,
          "data": {
            "text/plain": "4.9202444083782915"
          },
          "metadata": {}
        }
      ]
    },
    {
      "metadata": {},
      "cell_type": "markdown",
      "source": " Is this number large or small? it depends on the magnitude of the targets!\n a very good practice is to normalise it, by dividing by the variance of the target:"
    },
    {
      "metadata": {
        "trusted": true
      },
      "cell_type": "code",
      "source": "norm_mse = np.sum((bodyfat_data.bodyfat - prediction)**2) / ((N-1)*np.var(bodyfat_data.bodyfat))\nnorm_mse",
      "execution_count": 38,
      "outputs": [
        {
          "output_type": "execute_result",
          "execution_count": 38,
          "data": {
            "text/plain": "0.2090962622501366"
          },
          "metadata": {}
        }
      ]
    },
    {
      "metadata": {},
      "cell_type": "markdown",
      "source": " If we divide the mean square error by the variance of the targets t,\n we get the proportion of the variability of the target that is NOT explained by the model\n\n A model with 'norm.mse' equal to 1 is as good as the best constant model\n (namely, the model that always outputs the average of the target)\n\n models with 'norm.mse' above 0.5 are so so, beyond 0.7 they begin to be quite bad\n\n models with 'norm.mse' below 0.2 are quite good\n\n The Multiple R-squared (usually used by statisticians) is obtained by subtracting this quantity form one; that is, the proportion of the target variability that is explained by the model; in this case it reaches ~80%"
    },
    {
      "metadata": {
        "trusted": true
      },
      "cell_type": "code",
      "source": "R_squared = (1 - norm_mse)*100\nR_squared",
      "execution_count": 39,
      "outputs": [
        {
          "output_type": "execute_result",
          "execution_count": 39,
          "data": {
            "text/plain": "79.09037377498633"
          },
          "metadata": {}
        }
      ]
    },
    {
      "metadata": {},
      "cell_type": "markdown",
      "source": " The \"adjusted R-squared\" is the same thing, but adjusted for the complexity of the model,\n i.e. the number of parameters (three in our case)\n\n Now let us try to see how are the real predictions by plotting the real predictions against the targets:"
    },
    {
      "metadata": {
        "trusted": true
      },
      "cell_type": "code",
      "source": "fig, ax = plt.subplots(figsize=(8,8))\nplt.plot(bodyfat_data.bodyfat,prediction,'o')\nax.set_xlabel('Bodyfat')\nax.set_ylabel('Predicion');",
      "execution_count": 40,
      "outputs": [
        {
          "output_type": "display_data",
          "data": {
            "image/png": "[encoded data removed]",
            "text/plain": "<matplotlib.figure.Figure at 0x7f35c41bc470>"
          },
          "metadata": {}
        }
      ]
    },
    {
      "metadata": {},
      "cell_type": "markdown",
      "source": " It is difficult to see if the model is a good predictor; what we need is a\n numerical assessment of predictive ability. We compute the exact LOOCV as seen in class:\n \n $LOOCV = \\frac{1}{N} \\sum_{i=1}^{N} \\left(\\frac{y_i - \\hat{y}_i}{1-h_i}\\right)^2$\n \n where $H = X (X^TX)^{-1}X^T$ and $h_i = diag(H)_i$"
    },
    {
      "metadata": {
        "trusted": true
      },
      "cell_type": "code",
      "source": "H= np.diag(model.exog@inv(model.exog.T@model.exog)@model.exog.T)\n\nLOOCV = np.sum( (result.resid_response/(1-H))**2) / N\nLOOCV",
      "execution_count": 41,
      "outputs": [
        {
          "output_type": "execute_result",
          "execution_count": 41,
          "data": {
            "text/plain": "8.036828037191178"
          },
          "metadata": {}
        }
      ]
    },
    {
      "metadata": {},
      "cell_type": "markdown",
      "source": " and the corresponding predictive R-square "
    },
    {
      "metadata": {
        "trusted": true
      },
      "cell_type": "code",
      "source": "R2_LOOCV = (1 - LOOCV*N/((N-1)*np.var(bodyfat_data.bodyfat)))*100\nR2_LOOCV",
      "execution_count": 42,
      "outputs": [
        {
          "output_type": "execute_result",
          "execution_count": 42,
          "data": {
            "text/plain": "65.84578806568557"
          },
          "metadata": {}
        }
      ]
    },
    {
      "metadata": {},
      "cell_type": "markdown",
      "source": " we can see that prediction quality is not as good as it seemed (since CV error is worse than training error)\n\n this last number is the one I recommend to do model selection!!!"
    },
    {
      "metadata": {},
      "cell_type": "markdown",
      "source": "***"
    },
    {
      "metadata": {},
      "cell_type": "markdown",
      "source": " Let us continue now with *regularized linear regression* (aka ridge regression)\n this time we need to use scikit-learn RidgeCV\n\n We must first choose a value for lambda (the regularization constant)\n there are several criteria to do this, the most used of which is the GCV\n so we optimize the GCV for several values of lambda in a sequence"
    },
    {
      "metadata": {},
      "cell_type": "markdown",
      "source": "notice we start with a wide logarithmic search"
    },
    {
      "metadata": {
        "trusted": true
      },
      "cell_type": "code",
      "source": "from sklearn.linear_model import RidgeCV, Ridge\n\nlambdas = 10**np.arange(-6,2,0.1)\nridge = RidgeCV(alphas=lambdas,normalize=True)\nridge.fit(bodyfat_data.loc[:,'triceps':'midarm'],bodyfat_data.bodyfat)\nprint('LAMBDA=',ridge.alpha_);",
      "execution_count": 43,
      "outputs": [
        {
          "output_type": "stream",
          "text": "LAMBDA= 0.0019952623149688256\n",
          "name": "stdout"
        }
      ]
    },
    {
      "metadata": {},
      "cell_type": "markdown",
      "source": " best value (according to GCV) is 0.01995262\n\n we perform a finer search"
    },
    {
      "metadata": {
        "trusted": true
      },
      "cell_type": "code",
      "source": "lambdas = np.arange(0.0001,1,0.0001)\nridge = RidgeCV(alphas=lambdas,normalize=True,store_cv_values=True)\nridge.fit(bodyfat_data.loc[:,'triceps':'midarm'],bodyfat_data.bodyfat)\nprint('LAMBDA=',ridge.alpha_);",
      "execution_count": 44,
      "outputs": [
        {
          "output_type": "stream",
          "text": "LAMBDA= 0.0019000000000000002\n",
          "name": "stdout"
        }
      ]
    },
    {
      "metadata": {},
      "cell_type": "markdown",
      "source": " Definitely the best value is 0.019, so we refit the model with this precise value:"
    },
    {
      "metadata": {
        "trusted": true
      },
      "cell_type": "code",
      "source": "bodyfat_ridge_reg = Ridge(alpha=0.0019,normalize=True).fit(bodyfat_data.loc[:,'triceps':'midarm'],bodyfat_data.bodyfat)\npd.DataFrame([bodyfat_ridge_reg.intercept_,bodyfat_ridge_reg.coef_[0], bodyfat_ridge_reg.coef_[1],bodyfat_ridge_reg.coef_[2]],\n            index=['Intercept','triceps','thigh','midarm'])\n",
      "execution_count": 45,
      "outputs": [
        {
          "output_type": "execute_result",
          "execution_count": 45,
          "data": {
            "text/html": "<div>\n<style scoped>\n    .dataframe tbody tr th:only-of-type {\n        vertical-align: middle;\n    }\n\n    .dataframe tbody tr th {\n        vertical-align: top;\n    }\n\n    .dataframe thead th {\n        text-align: right;\n    }\n</style>\n<table border=\"1\" class=\"dataframe\">\n  <thead>\n    <tr style=\"text-align: right;\">\n      <th></th>\n      <th>0</th>\n    </tr>\n  </thead>\n  <tbody>\n    <tr>\n      <th>Intercept</th>\n      <td>23.587249</td>\n    </tr>\n    <tr>\n      <th>triceps</th>\n      <td>1.504154</td>\n    </tr>\n    <tr>\n      <th>thigh</th>\n      <td>-0.435138</td>\n    </tr>\n    <tr>\n      <th>midarm</th>\n      <td>-0.694745</td>\n    </tr>\n  </tbody>\n</table>\n</div>",
            "text/plain": "                   0\nIntercept  23.587249\ntriceps     1.504154\nthigh      -0.435138\nmidarm     -0.694745"
          },
          "metadata": {}
        }
      ]
    },
    {
      "metadata": {},
      "cell_type": "markdown",
      "source": " Now let us compare these results with those obtained by standard regression (without regularization)\n\n Hand calculation of coefficients, since we know the theory:"
    },
    {
      "metadata": {
        "trusted": true
      },
      "cell_type": "code",
      "source": "X= np.concatenate((np.ones((bodyfat_data.shape[0],1)), bodyfat_data.loc[:,'triceps':'midarm']), axis=1).T\nw = pinv(X) @ bodyfat_data.bodyfat\npd.DataFrame(w, index=['Intercept','triceps','thigh','midarm'])",
      "execution_count": 46,
      "outputs": [
        {
          "output_type": "execute_result",
          "execution_count": 46,
          "data": {
            "text/html": "<div>\n<style scoped>\n    .dataframe tbody tr th:only-of-type {\n        vertical-align: middle;\n    }\n\n    .dataframe tbody tr th {\n        vertical-align: top;\n    }\n\n    .dataframe thead th {\n        text-align: right;\n    }\n</style>\n<table border=\"1\" class=\"dataframe\">\n  <thead>\n    <tr style=\"text-align: right;\">\n      <th></th>\n      <th>0</th>\n    </tr>\n  </thead>\n  <tbody>\n    <tr>\n      <th>Intercept</th>\n      <td>117.084695</td>\n    </tr>\n    <tr>\n      <th>triceps</th>\n      <td>4.334092</td>\n    </tr>\n    <tr>\n      <th>thigh</th>\n      <td>-2.856848</td>\n    </tr>\n    <tr>\n      <th>midarm</th>\n      <td>-2.186060</td>\n    </tr>\n  </tbody>\n</table>\n</div>",
            "text/plain": "                    0\nIntercept  117.084695\ntriceps      4.334092\nthigh       -2.856848\nmidarm      -2.186060"
          },
          "metadata": {}
        }
      ]
    },
    {
      "metadata": {},
      "cell_type": "markdown",
      "source": "they should coincide with the results of GLM"
    },
    {
      "metadata": {
        "trusted": true
      },
      "cell_type": "code",
      "source": "result.params",
      "execution_count": 47,
      "outputs": [
        {
          "output_type": "execute_result",
          "execution_count": 47,
          "data": {
            "text/plain": "Intercept    117.084695\ntriceps        4.334092\nthigh         -2.856848\nmidarm        -2.186060\ndtype: float64"
          },
          "metadata": {}
        }
      ]
    },
    {
      "metadata": {},
      "cell_type": "markdown",
      "source": " Notice that the regularized weights are smaller (in absolute value), one by one\n\n Now we calculate the corresponding prediction errors\n First by standard regression (without regularization, we already did this)"
    },
    {
      "metadata": {
        "trusted": true
      },
      "cell_type": "code",
      "source": "R2_LOOCV",
      "execution_count": 48,
      "outputs": [
        {
          "output_type": "execute_result",
          "execution_count": 48,
          "data": {
            "text/plain": "65.84578806568557"
          },
          "metadata": {}
        }
      ]
    },
    {
      "metadata": {},
      "cell_type": "markdown",
      "source": " Now those with ridge regression (with regularization):"
    },
    {
      "metadata": {
        "trusted": true
      },
      "cell_type": "code",
      "source": "resid = bodyfat_ridge_reg.predict(bodyfat_data.loc[:,'triceps':'midarm'])-bodyfat_data.bodyfat\nLOOCV_ridge = np.sum( (resid/(1-H))**2) / N\nLOOCV_ridge\nR2_LOOCV_ridge = (1 - LOOCV_ridge*N/((N-1)*np.var(bodyfat_data.bodyfat)))*100\nR2_LOOCV_ridge",
      "execution_count": 49,
      "outputs": [
        {
          "output_type": "execute_result",
          "execution_count": 49,
          "data": {
            "text/plain": "8.42217337787714"
          },
          "metadata": {}
        },
        {
          "output_type": "execute_result",
          "execution_count": 49,
          "data": {
            "text/plain": "64.20818099324549"
          },
          "metadata": {}
        }
      ]
    },
    {
      "metadata": {},
      "cell_type": "markdown",
      "source": " The prediction errors are quite close and the model is way simpler: \n we would probably prefer the regularized one"
    },
    {
      "metadata": {},
      "cell_type": "markdown",
      "source": "***"
    },
    {
      "metadata": {},
      "cell_type": "markdown",
      "source": "Now we use the LASSO: here the coefficients are penalized by the L1 norm. The \n optimal value for lambda is again chosen by cross-validation"
    },
    {
      "metadata": {
        "trusted": true
      },
      "cell_type": "code",
      "source": "from sklearn.linear_model import LassoCV, Lasso",
      "execution_count": 50,
      "outputs": []
    },
    {
      "metadata": {
        "trusted": true
      },
      "cell_type": "code",
      "source": "lasso =LassoCV(max_iter=5000)\nlasso.fit(bodyfat_data.loc[:,'triceps':'midarm'],bodyfat_data.bodyfat)\nprint('LAMBDA=',lasso.alpha_)\nfig, ax = plt.subplots(figsize=(8,8))\nplt.plot(lasso.alphas_,lasso.mse_path_.mean(axis=1),'k-')\nplt.plot(lasso.alphas_,lasso.mse_path_.max(axis=1),'r--')\nplt.plot(lasso.alphas_,lasso.mse_path_.min(axis=1),'r--');",
      "execution_count": 51,
      "outputs": [
        {
          "output_type": "stream",
          "text": "LAMBDA= 1.0349280998473906\n",
          "name": "stdout"
        },
        {
          "output_type": "display_data",
          "data": {
            "image/png": "[encoded data removed]",
            "text/plain": "<matplotlib.figure.Figure at 0x7f35c329eac8>"
          },
          "metadata": {}
        }
      ]
    },
    {
      "metadata": {},
      "cell_type": "markdown",
      "source": "Predictions can be made based on the fitted object; for instance, this would be the TR error with the *optimal* lambda as chosen by LOOCV\n"
    },
    {
      "metadata": {
        "trusted": true
      },
      "cell_type": "code",
      "source": "bodyfat_lasso_reg =Lasso(alpha=1.0349, max_iter=5000)\nbodyfat_lasso_reg.fit(bodyfat_data.loc[:,'triceps':'midarm'],bodyfat_data.bodyfat)\nprint('Intercept:', bodyfat_lasso_reg.intercept_)\nprint('triceps:', bodyfat_lasso_reg.coef_[0])\nprint('thigh:', bodyfat_lasso_reg.coef_[1])\nprint('midarm:', bodyfat_lasso_reg.coef_[2]);",
      "execution_count": 52,
      "outputs": [
        {
          "output_type": "stream",
          "text": "Intercept: -17.803172901893376\ntriceps: 0.18928783908462435\nthigh: 0.6489787792428563\nmidarm: 0.0\n",
          "name": "stdout"
        }
      ]
    },
    {
      "metadata": {
        "trusted": true
      },
      "cell_type": "code",
      "source": " pd.DataFrame(bodyfat_lasso_reg.predict(bodyfat_data.loc[:,'triceps':'midarm']))",
      "execution_count": 53,
      "outputs": [
        {
          "output_type": "execute_result",
          "execution_count": 53,
          "data": {
            "text/html": "<div>\n<style scoped>\n    .dataframe tbody tr th:only-of-type {\n        vertical-align: middle;\n    }\n\n    .dataframe tbody tr th {\n        vertical-align: top;\n    }\n\n    .dataframe thead th {\n        text-align: right;\n    }\n</style>\n<table border=\"1\" class=\"dataframe\">\n  <thead>\n    <tr style=\"text-align: right;\">\n      <th></th>\n      <th>0</th>\n    </tr>\n  </thead>\n  <tbody>\n    <tr>\n      <th>0</th>\n      <td>13.858925</td>\n    </tr>\n    <tr>\n      <th>1</th>\n      <td>19.191380</td>\n    </tr>\n    <tr>\n      <th>2</th>\n      <td>21.689962</td>\n    </tr>\n    <tr>\n      <th>3</th>\n      <td>23.077152</td>\n    </tr>\n    <tr>\n      <th>4</th>\n      <td>13.199129</td>\n    </tr>\n    <tr>\n      <th>5</th>\n      <td>22.022552</td>\n    </tr>\n    <tr>\n      <th>6</th>\n      <td>26.105724</td>\n    </tr>\n    <tr>\n      <th>7</th>\n      <td>21.289752</td>\n    </tr>\n    <tr>\n      <th>8</th>\n      <td>18.764129</td>\n    </tr>\n    <tr>\n      <th>9</th>\n      <td>21.744032</td>\n    </tr>\n    <tr>\n      <th>10</th>\n      <td>24.815878</td>\n    </tr>\n    <tr>\n      <th>11</th>\n      <td>24.748274</td>\n    </tr>\n    <tr>\n      <th>12</th>\n      <td>15.914023</td>\n    </tr>\n    <tr>\n      <th>13</th>\n      <td>14.610660</td>\n    </tr>\n    <tr>\n      <th>14</th>\n      <td>12.671823</td>\n    </tr>\n    <tr>\n      <th>15</th>\n      <td>23.085264</td>\n    </tr>\n    <tr>\n      <th>16</th>\n      <td>23.328627</td>\n    </tr>\n    <tr>\n      <th>17</th>\n      <td>25.943476</td>\n    </tr>\n    <tr>\n      <th>18</th>\n      <td>17.774438</td>\n    </tr>\n    <tr>\n      <th>19</th>\n      <td>20.064798</td>\n    </tr>\n  </tbody>\n</table>\n</div>",
            "text/plain": "            0\n0   13.858925\n1   19.191380\n2   21.689962\n3   23.077152\n4   13.199129\n5   22.022552\n6   26.105724\n7   21.289752\n8   18.764129\n9   21.744032\n10  24.815878\n11  24.748274\n12  15.914023\n13  14.610660\n14  12.671823\n15  23.085264\n16  23.328627\n17  25.943476\n18  17.774438\n19  20.064798"
          },
          "metadata": {}
        }
      ]
    },
    {
      "metadata": {},
      "cell_type": "markdown",
      "source": "And this would be corresponding LOOCV  and the corresponding predictive R-square "
    },
    {
      "metadata": {
        "trusted": true
      },
      "cell_type": "code",
      "source": "resid = bodyfat_lasso_reg.predict(bodyfat_data.loc[:,'triceps':'midarm'])-bodyfat_data.bodyfat\nLOOCV_lasso = np.sum( (resid/(1-H))**2) / N\nLOOCV_lasso\nR2_LOOCV_lasso = (1 - LOOCV_lasso*N/((N-1)*np.var(bodyfat_data.bodyfat)))*100\nR2_LOOCV_lasso",
      "execution_count": 54,
      "outputs": [
        {
          "output_type": "execute_result",
          "execution_count": 54,
          "data": {
            "text/plain": "9.023634611598926"
          },
          "metadata": {}
        },
        {
          "output_type": "execute_result",
          "execution_count": 54,
          "data": {
            "text/plain": "61.652143418253715"
          },
          "metadata": {}
        }
      ]
    }
  ],
  "metadata": {
    "kernelspec": {
      "name": "python36",
      "display_name": "Python 3.6",
      "language": "python"
    },
    "language_info": {
      "mimetype": "text/x-python",
      "nbconvert_exporter": "python",
      "name": "python",
      "pygments_lexer": "ipython3",
      "version": "3.6.3",
      "file_extension": ".py",
      "codemirror_mode": {
        "version": 3,
        "name": "ipython"
      }
    },
    "toc": {
      "base_numbering": 1,
      "nav_menu": {},
      "number_sections": true,
      "sideBar": true,
      "skip_h1_title": false,
      "title_cell": "Table of Contents",
      "title_sidebar": "Contents",
      "toc_cell": false,
      "toc_position": {
        "height": "calc(100% - 180px)",
        "left": "10px",
        "top": "150px",
        "width": "345px"
      },
      "toc_section_display": true,
      "toc_window_display": true
    }
  },
  "nbformat": 4,
  "nbformat_minor": 2
}