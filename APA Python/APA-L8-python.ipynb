{
  "cells": [
    {
      "metadata": {},
      "cell_type": "markdown",
      "source": "# APA Laboratori 8 - Random Forests             "
    },
    {
      "metadata": {
        "trusted": true
      },
      "cell_type": "code",
      "source": "# Uncomment to upgrade packages\n# !pip install pandas --upgrade \n# !pip install numpy --upgrade\n# !pip install scipy --upgrade\n# !pip install statsmodels --upgrade\n# !pip install scikit-learn --upgrade\n!pip install imblearn --upgrade\n%load_ext autoreload",
      "execution_count": 56,
      "outputs": [
        {
          "output_type": "stream",
          "text": "Requirement already up-to-date: imblearn in /home/nbuser/anaconda3_501/lib/python3.6/site-packages (0.0)\nRequirement already satisfied, skipping upgrade: imbalanced-learn in /home/nbuser/anaconda3_501/lib/python3.6/site-packages (from imblearn) (0.3.3)\nRequirement already satisfied, skipping upgrade: numpy in /home/nbuser/anaconda3_501/lib/python3.6/site-packages (from imbalanced-learn->imblearn) (1.15.1)\nRequirement already satisfied, skipping upgrade: scikit-learn in /home/nbuser/anaconda3_501/lib/python3.6/site-packages (from imbalanced-learn->imblearn) (0.19.2)\nRequirement already satisfied, skipping upgrade: scipy in /home/nbuser/anaconda3_501/lib/python3.6/site-packages (from imbalanced-learn->imblearn) (1.1.0)\nThe autoreload extension is already loaded. To reload it, use:\n  %reload_ext autoreload\n",
          "name": "stdout"
        }
      ]
    },
    {
      "metadata": {
        "trusted": true
      },
      "cell_type": "code",
      "source": "import numpy as np\nimport matplotlib.pyplot as plt\nimport seaborn as sn\nimport pandas as pd\nfrom IPython.core.interactiveshell import InteractiveShell\nInteractiveShell.ast_node_interactivity = \"all\"\nfrom sklearn.metrics import confusion_matrix, classification_report, accuracy_score\n\ndef confusion(true, pred, classes):\n    \"\"\"\n    Function for pretty printing confusion matrices\n    \"\"\"\n    cm =pd.DataFrame(confusion_matrix(true, pred), index=classes,\n                 columns=classes)\n    cm.index.name = 'Actual'\n    cm.columns.name = 'Predicted'\n    return cm.style.highlight_max()\n\n\nnp.random.seed(6046)",
      "execution_count": 57,
      "outputs": []
    },
    {
      "metadata": {},
      "cell_type": "markdown",
      "source": "## Financial Example: classification model for deposit subscription"
    },
    {
      "metadata": {},
      "cell_type": "markdown",
      "source": "Direct marketing campaigns (phone calls) of a Portuguese banking institution. \n The classification goal is to predict if the client will subscribe a term deposit"
    },
    {
      "metadata": {
        "trusted": true
      },
      "cell_type": "code",
      "source": "from pandas import read_csv\n\ndeposit = read_csv(\"bank-full.csv.gz\", header=0, delimiter=';')\ndeposit.shape",
      "execution_count": 58,
      "outputs": [
        {
          "output_type": "execute_result",
          "execution_count": 58,
          "data": {
            "text/plain": "(45211, 17)"
          },
          "metadata": {}
        }
      ]
    },
    {
      "metadata": {
        "trusted": true
      },
      "cell_type": "code",
      "source": "deposit.describe(include='all')",
      "execution_count": 59,
      "outputs": [
        {
          "output_type": "execute_result",
          "execution_count": 59,
          "data": {
            "text/html": "<div>\n<style scoped>\n    .dataframe tbody tr th:only-of-type {\n        vertical-align: middle;\n    }\n\n    .dataframe tbody tr th {\n        vertical-align: top;\n    }\n\n    .dataframe thead th {\n        text-align: right;\n    }\n</style>\n<table border=\"1\" class=\"dataframe\">\n  <thead>\n    <tr style=\"text-align: right;\">\n      <th></th>\n      <th>age</th>\n      <th>job</th>\n      <th>marital</th>\n      <th>education</th>\n      <th>default</th>\n      <th>balance</th>\n      <th>housing</th>\n      <th>loan</th>\n      <th>contact</th>\n      <th>day</th>\n      <th>month</th>\n      <th>duration</th>\n      <th>campaign</th>\n      <th>pdays</th>\n      <th>previous</th>\n      <th>poutcome</th>\n      <th>y</th>\n    </tr>\n  </thead>\n  <tbody>\n    <tr>\n      <th>count</th>\n      <td>45211.000000</td>\n      <td>45211</td>\n      <td>45211</td>\n      <td>45211</td>\n      <td>45211</td>\n      <td>45211.000000</td>\n      <td>45211</td>\n      <td>45211</td>\n      <td>45211</td>\n      <td>45211.000000</td>\n      <td>45211</td>\n      <td>45211.000000</td>\n      <td>45211.000000</td>\n      <td>45211.000000</td>\n      <td>45211.000000</td>\n      <td>45211</td>\n      <td>45211</td>\n    </tr>\n    <tr>\n      <th>unique</th>\n      <td>NaN</td>\n      <td>12</td>\n      <td>3</td>\n      <td>4</td>\n      <td>2</td>\n      <td>NaN</td>\n      <td>2</td>\n      <td>2</td>\n      <td>3</td>\n      <td>NaN</td>\n      <td>12</td>\n      <td>NaN</td>\n      <td>NaN</td>\n      <td>NaN</td>\n      <td>NaN</td>\n      <td>4</td>\n      <td>2</td>\n    </tr>\n    <tr>\n      <th>top</th>\n      <td>NaN</td>\n      <td>blue-collar</td>\n      <td>married</td>\n      <td>secondary</td>\n      <td>no</td>\n      <td>NaN</td>\n      <td>yes</td>\n      <td>no</td>\n      <td>cellular</td>\n      <td>NaN</td>\n      <td>may</td>\n      <td>NaN</td>\n      <td>NaN</td>\n      <td>NaN</td>\n      <td>NaN</td>\n      <td>unknown</td>\n      <td>no</td>\n    </tr>\n    <tr>\n      <th>freq</th>\n      <td>NaN</td>\n      <td>9732</td>\n      <td>27214</td>\n      <td>23202</td>\n      <td>44396</td>\n      <td>NaN</td>\n      <td>25130</td>\n      <td>37967</td>\n      <td>29285</td>\n      <td>NaN</td>\n      <td>13766</td>\n      <td>NaN</td>\n      <td>NaN</td>\n      <td>NaN</td>\n      <td>NaN</td>\n      <td>36959</td>\n      <td>39922</td>\n    </tr>\n    <tr>\n      <th>mean</th>\n      <td>40.936210</td>\n      <td>NaN</td>\n      <td>NaN</td>\n      <td>NaN</td>\n      <td>NaN</td>\n      <td>1362.272058</td>\n      <td>NaN</td>\n      <td>NaN</td>\n      <td>NaN</td>\n      <td>15.806419</td>\n      <td>NaN</td>\n      <td>258.163080</td>\n      <td>2.763841</td>\n      <td>40.197828</td>\n      <td>0.580323</td>\n      <td>NaN</td>\n      <td>NaN</td>\n    </tr>\n    <tr>\n      <th>std</th>\n      <td>10.618762</td>\n      <td>NaN</td>\n      <td>NaN</td>\n      <td>NaN</td>\n      <td>NaN</td>\n      <td>3044.765829</td>\n      <td>NaN</td>\n      <td>NaN</td>\n      <td>NaN</td>\n      <td>8.322476</td>\n      <td>NaN</td>\n      <td>257.527812</td>\n      <td>3.098021</td>\n      <td>100.128746</td>\n      <td>2.303441</td>\n      <td>NaN</td>\n      <td>NaN</td>\n    </tr>\n    <tr>\n      <th>min</th>\n      <td>18.000000</td>\n      <td>NaN</td>\n      <td>NaN</td>\n      <td>NaN</td>\n      <td>NaN</td>\n      <td>-8019.000000</td>\n      <td>NaN</td>\n      <td>NaN</td>\n      <td>NaN</td>\n      <td>1.000000</td>\n      <td>NaN</td>\n      <td>0.000000</td>\n      <td>1.000000</td>\n      <td>-1.000000</td>\n      <td>0.000000</td>\n      <td>NaN</td>\n      <td>NaN</td>\n    </tr>\n    <tr>\n      <th>25%</th>\n      <td>33.000000</td>\n      <td>NaN</td>\n      <td>NaN</td>\n      <td>NaN</td>\n      <td>NaN</td>\n      <td>72.000000</td>\n      <td>NaN</td>\n      <td>NaN</td>\n      <td>NaN</td>\n      <td>8.000000</td>\n      <td>NaN</td>\n      <td>103.000000</td>\n      <td>1.000000</td>\n      <td>-1.000000</td>\n      <td>0.000000</td>\n      <td>NaN</td>\n      <td>NaN</td>\n    </tr>\n    <tr>\n      <th>50%</th>\n      <td>39.000000</td>\n      <td>NaN</td>\n      <td>NaN</td>\n      <td>NaN</td>\n      <td>NaN</td>\n      <td>448.000000</td>\n      <td>NaN</td>\n      <td>NaN</td>\n      <td>NaN</td>\n      <td>16.000000</td>\n      <td>NaN</td>\n      <td>180.000000</td>\n      <td>2.000000</td>\n      <td>-1.000000</td>\n      <td>0.000000</td>\n      <td>NaN</td>\n      <td>NaN</td>\n    </tr>\n    <tr>\n      <th>75%</th>\n      <td>48.000000</td>\n      <td>NaN</td>\n      <td>NaN</td>\n      <td>NaN</td>\n      <td>NaN</td>\n      <td>1428.000000</td>\n      <td>NaN</td>\n      <td>NaN</td>\n      <td>NaN</td>\n      <td>21.000000</td>\n      <td>NaN</td>\n      <td>319.000000</td>\n      <td>3.000000</td>\n      <td>-1.000000</td>\n      <td>0.000000</td>\n      <td>NaN</td>\n      <td>NaN</td>\n    </tr>\n    <tr>\n      <th>max</th>\n      <td>95.000000</td>\n      <td>NaN</td>\n      <td>NaN</td>\n      <td>NaN</td>\n      <td>NaN</td>\n      <td>102127.000000</td>\n      <td>NaN</td>\n      <td>NaN</td>\n      <td>NaN</td>\n      <td>31.000000</td>\n      <td>NaN</td>\n      <td>4918.000000</td>\n      <td>63.000000</td>\n      <td>871.000000</td>\n      <td>275.000000</td>\n      <td>NaN</td>\n      <td>NaN</td>\n    </tr>\n  </tbody>\n</table>\n</div>",
            "text/plain": "                 age          job  marital  education default        balance  \\\ncount   45211.000000        45211    45211      45211   45211   45211.000000   \nunique           NaN           12        3          4       2            NaN   \ntop              NaN  blue-collar  married  secondary      no            NaN   \nfreq             NaN         9732    27214      23202   44396            NaN   \nmean       40.936210          NaN      NaN        NaN     NaN    1362.272058   \nstd        10.618762          NaN      NaN        NaN     NaN    3044.765829   \nmin        18.000000          NaN      NaN        NaN     NaN   -8019.000000   \n25%        33.000000          NaN      NaN        NaN     NaN      72.000000   \n50%        39.000000          NaN      NaN        NaN     NaN     448.000000   \n75%        48.000000          NaN      NaN        NaN     NaN    1428.000000   \nmax        95.000000          NaN      NaN        NaN     NaN  102127.000000   \n\n       housing   loan   contact           day  month      duration  \\\ncount    45211  45211     45211  45211.000000  45211  45211.000000   \nunique       2      2         3           NaN     12           NaN   \ntop        yes     no  cellular           NaN    may           NaN   \nfreq     25130  37967     29285           NaN  13766           NaN   \nmean       NaN    NaN       NaN     15.806419    NaN    258.163080   \nstd        NaN    NaN       NaN      8.322476    NaN    257.527812   \nmin        NaN    NaN       NaN      1.000000    NaN      0.000000   \n25%        NaN    NaN       NaN      8.000000    NaN    103.000000   \n50%        NaN    NaN       NaN     16.000000    NaN    180.000000   \n75%        NaN    NaN       NaN     21.000000    NaN    319.000000   \nmax        NaN    NaN       NaN     31.000000    NaN   4918.000000   \n\n            campaign         pdays      previous poutcome      y  \ncount   45211.000000  45211.000000  45211.000000    45211  45211  \nunique           NaN           NaN           NaN        4      2  \ntop              NaN           NaN           NaN  unknown     no  \nfreq             NaN           NaN           NaN    36959  39922  \nmean        2.763841     40.197828      0.580323      NaN    NaN  \nstd         3.098021    100.128746      2.303441      NaN    NaN  \nmin         1.000000     -1.000000      0.000000      NaN    NaN  \n25%         1.000000     -1.000000      0.000000      NaN    NaN  \n50%         2.000000     -1.000000      0.000000      NaN    NaN  \n75%         3.000000     -1.000000      0.000000      NaN    NaN  \nmax        63.000000    871.000000    275.000000      NaN    NaN  "
          },
          "metadata": {}
        }
      ]
    },
    {
      "metadata": {},
      "cell_type": "markdown",
      "source": " This dataset needs a lot of pre-processing ... also it displays a good mixture of categorical and numeric variables\n\n age seems OK\n job has 12 values, let's check their frequency\n\n seems OK"
    },
    {
      "metadata": {
        "trusted": true
      },
      "cell_type": "code",
      "source": "deposit.job.value_counts()",
      "execution_count": 60,
      "outputs": [
        {
          "output_type": "execute_result",
          "execution_count": 60,
          "data": {
            "text/plain": "blue-collar      9732\nmanagement       9458\ntechnician       7597\nadmin.           5171\nservices         4154\nretired          2264\nself-employed    1579\nentrepreneur     1487\nunemployed       1303\nhousemaid        1240\nstudent           938\nunknown           288\nName: job, dtype: int64"
          },
          "metadata": {}
        }
      ]
    },
    {
      "metadata": {},
      "cell_type": "markdown",
      "source": "education has 4 values, let's check their frequency\n\n seems OK"
    },
    {
      "metadata": {
        "trusted": true
      },
      "cell_type": "code",
      "source": "deposit.education.value_counts()",
      "execution_count": 61,
      "outputs": [
        {
          "output_type": "execute_result",
          "execution_count": 61,
          "data": {
            "text/plain": "secondary    23202\ntertiary     13301\nprimary       6851\nunknown       1857\nName: education, dtype: int64"
          },
          "metadata": {}
        }
      ]
    },
    {
      "metadata": {},
      "cell_type": "markdown",
      "source": " month looks very suspicious ... but is OK"
    },
    {
      "metadata": {
        "trusted": true
      },
      "cell_type": "code",
      "source": "deposit.month.value_counts()",
      "execution_count": 62,
      "outputs": [
        {
          "output_type": "execute_result",
          "execution_count": 62,
          "data": {
            "text/plain": "may    13766\njul     6895\naug     6247\njun     5341\nnov     3970\napr     2932\nfeb     2649\njan     1403\noct      738\nsep      579\nmar      477\ndec      214\nName: month, dtype: int64"
          },
          "metadata": {}
        }
      ]
    },
    {
      "metadata": {},
      "cell_type": "markdown",
      "source": "Duration is highly skewed ..."
    },
    {
      "metadata": {
        "trusted": true
      },
      "cell_type": "code",
      "source": "deposit.duration.plot.hist(figsize=(8,6));",
      "execution_count": 63,
      "outputs": [
        {
          "output_type": "display_data",
          "data": {
            "image/png": "[encoded data removed]",
            "text/plain": "<matplotlib.figure.Figure at 0x7fa7d33e9c88>"
          },
          "metadata": {}
        }
      ]
    },
    {
      "metadata": {
        "trusted": true
      },
      "cell_type": "code",
      "source": "pd.set_option('use_inf_as_na', True)\nax = deposit.duration.apply('log').dropna().plot.hist(figsize=(8,6))\nplt.xlabel('log(duration)');\n",
      "execution_count": 64,
      "outputs": [
        {
          "output_type": "stream",
          "text": "/home/nbuser/anaconda3_501/lib/python3.6/site-packages/pandas/core/base.py:315: RuntimeWarning: divide by zero encountered in log\n  return f(self, *args, **kwargs)\n",
          "name": "stderr"
        },
        {
          "output_type": "display_data",
          "data": {
            "image/png": "[encoded data removed]",
            "text/plain": "<matplotlib.figure.Figure at 0x7fa7d33f2400>"
          },
          "metadata": {}
        }
      ]
    },
    {
      "metadata": {
        "trusted": true
      },
      "cell_type": "code",
      "source": "deposit['duration'] = deposit.duration.apply(lambda x: np.log(x+0.001))",
      "execution_count": 65,
      "outputs": []
    },
    {
      "metadata": {},
      "cell_type": "markdown",
      "source": " what to do with 'pdays' and 'previous'? it is not clear how to best pre-process them; we shall need\n some financial expertise... we leave them as they are\n\n The rest seem OK (but it would take a careful analysis, and a lot of domain knowledge)\n\nLet's rename the target ..."
    },
    {
      "metadata": {
        "trusted": true
      },
      "cell_type": "code",
      "source": "deposit.rename({'y':'subscribe'}, axis='columns',inplace=True)\ndeposit.shape",
      "execution_count": 66,
      "outputs": [
        {
          "output_type": "execute_result",
          "execution_count": 66,
          "data": {
            "text/plain": "(45211, 17)"
          },
          "metadata": {}
        }
      ]
    },
    {
      "metadata": {
        "trusted": true
      },
      "cell_type": "code",
      "source": "deposit.describe(include='all')",
      "execution_count": 67,
      "outputs": [
        {
          "output_type": "execute_result",
          "execution_count": 67,
          "data": {
            "text/html": "<div>\n<style scoped>\n    .dataframe tbody tr th:only-of-type {\n        vertical-align: middle;\n    }\n\n    .dataframe tbody tr th {\n        vertical-align: top;\n    }\n\n    .dataframe thead th {\n        text-align: right;\n    }\n</style>\n<table border=\"1\" class=\"dataframe\">\n  <thead>\n    <tr style=\"text-align: right;\">\n      <th></th>\n      <th>age</th>\n      <th>job</th>\n      <th>marital</th>\n      <th>education</th>\n      <th>default</th>\n      <th>balance</th>\n      <th>housing</th>\n      <th>loan</th>\n      <th>contact</th>\n      <th>day</th>\n      <th>month</th>\n      <th>duration</th>\n      <th>campaign</th>\n      <th>pdays</th>\n      <th>previous</th>\n      <th>poutcome</th>\n      <th>subscribe</th>\n    </tr>\n  </thead>\n  <tbody>\n    <tr>\n      <th>count</th>\n      <td>45211.000000</td>\n      <td>45211</td>\n      <td>45211</td>\n      <td>45211</td>\n      <td>45211</td>\n      <td>45211.000000</td>\n      <td>45211</td>\n      <td>45211</td>\n      <td>45211</td>\n      <td>45211.000000</td>\n      <td>45211</td>\n      <td>45211.000000</td>\n      <td>45211.000000</td>\n      <td>45211.000000</td>\n      <td>45211.000000</td>\n      <td>45211</td>\n      <td>45211</td>\n    </tr>\n    <tr>\n      <th>unique</th>\n      <td>NaN</td>\n      <td>12</td>\n      <td>3</td>\n      <td>4</td>\n      <td>2</td>\n      <td>NaN</td>\n      <td>2</td>\n      <td>2</td>\n      <td>3</td>\n      <td>NaN</td>\n      <td>12</td>\n      <td>NaN</td>\n      <td>NaN</td>\n      <td>NaN</td>\n      <td>NaN</td>\n      <td>4</td>\n      <td>2</td>\n    </tr>\n    <tr>\n      <th>top</th>\n      <td>NaN</td>\n      <td>blue-collar</td>\n      <td>married</td>\n      <td>secondary</td>\n      <td>no</td>\n      <td>NaN</td>\n      <td>yes</td>\n      <td>no</td>\n      <td>cellular</td>\n      <td>NaN</td>\n      <td>may</td>\n      <td>NaN</td>\n      <td>NaN</td>\n      <td>NaN</td>\n      <td>NaN</td>\n      <td>unknown</td>\n      <td>no</td>\n    </tr>\n    <tr>\n      <th>freq</th>\n      <td>NaN</td>\n      <td>9732</td>\n      <td>27214</td>\n      <td>23202</td>\n      <td>44396</td>\n      <td>NaN</td>\n      <td>25130</td>\n      <td>37967</td>\n      <td>29285</td>\n      <td>NaN</td>\n      <td>13766</td>\n      <td>NaN</td>\n      <td>NaN</td>\n      <td>NaN</td>\n      <td>NaN</td>\n      <td>36959</td>\n      <td>39922</td>\n    </tr>\n    <tr>\n      <th>mean</th>\n      <td>40.936210</td>\n      <td>NaN</td>\n      <td>NaN</td>\n      <td>NaN</td>\n      <td>NaN</td>\n      <td>1362.272058</td>\n      <td>NaN</td>\n      <td>NaN</td>\n      <td>NaN</td>\n      <td>15.806419</td>\n      <td>NaN</td>\n      <td>5.161771</td>\n      <td>2.763841</td>\n      <td>40.197828</td>\n      <td>0.580323</td>\n      <td>NaN</td>\n      <td>NaN</td>\n    </tr>\n    <tr>\n      <th>std</th>\n      <td>10.618762</td>\n      <td>NaN</td>\n      <td>NaN</td>\n      <td>NaN</td>\n      <td>NaN</td>\n      <td>3044.765829</td>\n      <td>NaN</td>\n      <td>NaN</td>\n      <td>NaN</td>\n      <td>8.322476</td>\n      <td>NaN</td>\n      <td>0.937958</td>\n      <td>3.098021</td>\n      <td>100.128746</td>\n      <td>2.303441</td>\n      <td>NaN</td>\n      <td>NaN</td>\n    </tr>\n    <tr>\n      <th>min</th>\n      <td>18.000000</td>\n      <td>NaN</td>\n      <td>NaN</td>\n      <td>NaN</td>\n      <td>NaN</td>\n      <td>-8019.000000</td>\n      <td>NaN</td>\n      <td>NaN</td>\n      <td>NaN</td>\n      <td>1.000000</td>\n      <td>NaN</td>\n      <td>-6.907755</td>\n      <td>1.000000</td>\n      <td>-1.000000</td>\n      <td>0.000000</td>\n      <td>NaN</td>\n      <td>NaN</td>\n    </tr>\n    <tr>\n      <th>25%</th>\n      <td>33.000000</td>\n      <td>NaN</td>\n      <td>NaN</td>\n      <td>NaN</td>\n      <td>NaN</td>\n      <td>72.000000</td>\n      <td>NaN</td>\n      <td>NaN</td>\n      <td>NaN</td>\n      <td>8.000000</td>\n      <td>NaN</td>\n      <td>4.634739</td>\n      <td>1.000000</td>\n      <td>-1.000000</td>\n      <td>0.000000</td>\n      <td>NaN</td>\n      <td>NaN</td>\n    </tr>\n    <tr>\n      <th>50%</th>\n      <td>39.000000</td>\n      <td>NaN</td>\n      <td>NaN</td>\n      <td>NaN</td>\n      <td>NaN</td>\n      <td>448.000000</td>\n      <td>NaN</td>\n      <td>NaN</td>\n      <td>NaN</td>\n      <td>16.000000</td>\n      <td>NaN</td>\n      <td>5.192962</td>\n      <td>2.000000</td>\n      <td>-1.000000</td>\n      <td>0.000000</td>\n      <td>NaN</td>\n      <td>NaN</td>\n    </tr>\n    <tr>\n      <th>75%</th>\n      <td>48.000000</td>\n      <td>NaN</td>\n      <td>NaN</td>\n      <td>NaN</td>\n      <td>NaN</td>\n      <td>1428.000000</td>\n      <td>NaN</td>\n      <td>NaN</td>\n      <td>NaN</td>\n      <td>21.000000</td>\n      <td>NaN</td>\n      <td>5.765194</td>\n      <td>3.000000</td>\n      <td>-1.000000</td>\n      <td>0.000000</td>\n      <td>NaN</td>\n      <td>NaN</td>\n    </tr>\n    <tr>\n      <th>max</th>\n      <td>95.000000</td>\n      <td>NaN</td>\n      <td>NaN</td>\n      <td>NaN</td>\n      <td>NaN</td>\n      <td>102127.000000</td>\n      <td>NaN</td>\n      <td>NaN</td>\n      <td>NaN</td>\n      <td>31.000000</td>\n      <td>NaN</td>\n      <td>8.500657</td>\n      <td>63.000000</td>\n      <td>871.000000</td>\n      <td>275.000000</td>\n      <td>NaN</td>\n      <td>NaN</td>\n    </tr>\n  </tbody>\n</table>\n</div>",
            "text/plain": "                 age          job  marital  education default        balance  \\\ncount   45211.000000        45211    45211      45211   45211   45211.000000   \nunique           NaN           12        3          4       2            NaN   \ntop              NaN  blue-collar  married  secondary      no            NaN   \nfreq             NaN         9732    27214      23202   44396            NaN   \nmean       40.936210          NaN      NaN        NaN     NaN    1362.272058   \nstd        10.618762          NaN      NaN        NaN     NaN    3044.765829   \nmin        18.000000          NaN      NaN        NaN     NaN   -8019.000000   \n25%        33.000000          NaN      NaN        NaN     NaN      72.000000   \n50%        39.000000          NaN      NaN        NaN     NaN     448.000000   \n75%        48.000000          NaN      NaN        NaN     NaN    1428.000000   \nmax        95.000000          NaN      NaN        NaN     NaN  102127.000000   \n\n       housing   loan   contact           day  month      duration  \\\ncount    45211  45211     45211  45211.000000  45211  45211.000000   \nunique       2      2         3           NaN     12           NaN   \ntop        yes     no  cellular           NaN    may           NaN   \nfreq     25130  37967     29285           NaN  13766           NaN   \nmean       NaN    NaN       NaN     15.806419    NaN      5.161771   \nstd        NaN    NaN       NaN      8.322476    NaN      0.937958   \nmin        NaN    NaN       NaN      1.000000    NaN     -6.907755   \n25%        NaN    NaN       NaN      8.000000    NaN      4.634739   \n50%        NaN    NaN       NaN     16.000000    NaN      5.192962   \n75%        NaN    NaN       NaN     21.000000    NaN      5.765194   \nmax        NaN    NaN       NaN     31.000000    NaN      8.500657   \n\n            campaign         pdays      previous poutcome subscribe  \ncount   45211.000000  45211.000000  45211.000000    45211     45211  \nunique           NaN           NaN           NaN        4         2  \ntop              NaN           NaN           NaN  unknown        no  \nfreq             NaN           NaN           NaN    36959     39922  \nmean        2.763841     40.197828      0.580323      NaN       NaN  \nstd         3.098021    100.128746      2.303441      NaN       NaN  \nmin         1.000000     -1.000000      0.000000      NaN       NaN  \n25%         1.000000     -1.000000      0.000000      NaN       NaN  \n50%         2.000000     -1.000000      0.000000      NaN       NaN  \n75%         3.000000     -1.000000      0.000000      NaN       NaN  \nmax        63.000000    871.000000    275.000000      NaN       NaN  "
          },
          "metadata": {}
        }
      ]
    },
    {
      "metadata": {},
      "cell_type": "markdown",
      "source": "Scikit learn decision trees classifier do not handle categorical attributes so we have to transform them to numerical"
    },
    {
      "metadata": {
        "trusted": true
      },
      "cell_type": "code",
      "source": "from sklearn.preprocessing import LabelEncoder\n\nfor v in deposit.columns:\n    if deposit[v].dtype.kind == 'O':\n        deposit[v] = LabelEncoder().fit_transform(deposit[v])\n\ndeposit.head()",
      "execution_count": 68,
      "outputs": [
        {
          "output_type": "execute_result",
          "execution_count": 68,
          "data": {
            "text/html": "<div>\n<style scoped>\n    .dataframe tbody tr th:only-of-type {\n        vertical-align: middle;\n    }\n\n    .dataframe tbody tr th {\n        vertical-align: top;\n    }\n\n    .dataframe thead th {\n        text-align: right;\n    }\n</style>\n<table border=\"1\" class=\"dataframe\">\n  <thead>\n    <tr style=\"text-align: right;\">\n      <th></th>\n      <th>age</th>\n      <th>job</th>\n      <th>marital</th>\n      <th>education</th>\n      <th>default</th>\n      <th>balance</th>\n      <th>housing</th>\n      <th>loan</th>\n      <th>contact</th>\n      <th>day</th>\n      <th>month</th>\n      <th>duration</th>\n      <th>campaign</th>\n      <th>pdays</th>\n      <th>previous</th>\n      <th>poutcome</th>\n      <th>subscribe</th>\n    </tr>\n  </thead>\n  <tbody>\n    <tr>\n      <th>0</th>\n      <td>58</td>\n      <td>4</td>\n      <td>1</td>\n      <td>2</td>\n      <td>0</td>\n      <td>2143</td>\n      <td>1</td>\n      <td>0</td>\n      <td>2</td>\n      <td>5</td>\n      <td>8</td>\n      <td>5.564524</td>\n      <td>1</td>\n      <td>-1</td>\n      <td>0</td>\n      <td>3</td>\n      <td>0</td>\n    </tr>\n    <tr>\n      <th>1</th>\n      <td>44</td>\n      <td>9</td>\n      <td>2</td>\n      <td>1</td>\n      <td>0</td>\n      <td>29</td>\n      <td>1</td>\n      <td>0</td>\n      <td>2</td>\n      <td>5</td>\n      <td>8</td>\n      <td>5.017286</td>\n      <td>1</td>\n      <td>-1</td>\n      <td>0</td>\n      <td>3</td>\n      <td>0</td>\n    </tr>\n    <tr>\n      <th>2</th>\n      <td>33</td>\n      <td>2</td>\n      <td>1</td>\n      <td>1</td>\n      <td>0</td>\n      <td>2</td>\n      <td>1</td>\n      <td>1</td>\n      <td>2</td>\n      <td>5</td>\n      <td>8</td>\n      <td>4.330746</td>\n      <td>1</td>\n      <td>-1</td>\n      <td>0</td>\n      <td>3</td>\n      <td>0</td>\n    </tr>\n    <tr>\n      <th>3</th>\n      <td>47</td>\n      <td>1</td>\n      <td>1</td>\n      <td>3</td>\n      <td>0</td>\n      <td>1506</td>\n      <td>1</td>\n      <td>0</td>\n      <td>2</td>\n      <td>5</td>\n      <td>8</td>\n      <td>4.521799</td>\n      <td>1</td>\n      <td>-1</td>\n      <td>0</td>\n      <td>3</td>\n      <td>0</td>\n    </tr>\n    <tr>\n      <th>4</th>\n      <td>33</td>\n      <td>11</td>\n      <td>2</td>\n      <td>3</td>\n      <td>0</td>\n      <td>1</td>\n      <td>0</td>\n      <td>0</td>\n      <td>2</td>\n      <td>5</td>\n      <td>8</td>\n      <td>5.288272</td>\n      <td>1</td>\n      <td>-1</td>\n      <td>0</td>\n      <td>3</td>\n      <td>0</td>\n    </tr>\n  </tbody>\n</table>\n</div>",
            "text/plain": "   age  job  marital  education  default  balance  housing  loan  contact  \\\n0   58    4        1          2        0     2143        1     0        2   \n1   44    9        2          1        0       29        1     0        2   \n2   33    2        1          1        0        2        1     1        2   \n3   47    1        1          3        0     1506        1     0        2   \n4   33   11        2          3        0        1        0     0        2   \n\n   day  month  duration  campaign  pdays  previous  poutcome  subscribe  \n0    5      8  5.564524         1     -1         0         3          0  \n1    5      8  5.017286         1     -1         0         3          0  \n2    5      8  4.330746         1     -1         0         3          0  \n3    5      8  4.521799         1     -1         0         3          0  \n4    5      8  5.288272         1     -1         0         3          0  "
          },
          "metadata": {}
        }
      ]
    },
    {
      "metadata": {},
      "cell_type": "markdown",
      "source": "precalculate the TR/TE partition and the cross-validation partitions on the TR part"
    },
    {
      "metadata": {
        "trusted": true
      },
      "cell_type": "code",
      "source": "from sklearn.model_selection import train_test_split\n\ntrain, test = train_test_split(deposit, test_size=1/3)",
      "execution_count": 69,
      "outputs": []
    },
    {
      "metadata": {},
      "cell_type": "markdown",
      "source": "First try a standard decision tree. \n"
    },
    {
      "metadata": {
        "trusted": true
      },
      "cell_type": "code",
      "source": "from sklearn.tree import DecisionTreeClassifier\n\nmodel_tree = DecisionTreeClassifier().fit(train.loc[:,:'poutcome'], train.subscribe)\n",
      "execution_count": 70,
      "outputs": []
    },
    {
      "metadata": {
        "trusted": true
      },
      "cell_type": "code",
      "source": "import graphviz\nfrom sklearn.tree import export_graphviz\n\ndot_data = export_graphviz(model_tree, out_file=None, \n                         feature_names=deposit.columns[:-1],  \n                         class_names=['no', 'yes'],  \n                         filled=True, rounded=True,  \n                         special_characters=True, rotate=True,proportion=True,\n                           max_depth=3)  \ngraph = graphviz.Source(dot_data)  \ngraph ",
      "execution_count": 71,
      "outputs": [
        {
          "output_type": "execute_result",
          "execution_count": 71,
          "data": {
            "text/plain": "<graphviz.files.Source at 0x7fa7d33d6630>",
            "image/svg+xml": "<?xml version=\"1.0\" encoding=\"UTF-8\" standalone=\"no\"?>\n<!DOCTYPE svg PUBLIC \"-//W3C//DTD SVG 1.1//EN\"\n \"http://www.w3.org/Graphics/SVG/1.1/DTD/svg11.dtd\">\n<!-- Generated by graphviz version 2.38.0 (20140413.2041)\n -->\n<!-- Title: Tree Pages: 1 -->\n<svg width=\"794pt\" height=\"856pt\"\n viewBox=\"0.00 0.00 794.00 856.00\" xmlns=\"http://www.w3.org/2000/svg\" xmlns:xlink=\"http://www.w3.org/1999/xlink\">\n<g id=\"graph0\" class=\"graph\" transform=\"scale(1 1) rotate(0) translate(4 852)\">\n<title>Tree</title>\n<polygon fill=\"white\" stroke=\"none\" points=\"-4,4 -4,-852 790,-852 790,4 -4,4\"/>\n<!-- 0 -->\n<g id=\"node1\" class=\"node\"><title>0</title>\n<path fill=\"#e58139\" fill-opacity=\"0.866667\" stroke=\"black\" d=\"M135,-465.5C135,-465.5 12,-465.5 12,-465.5 6,-465.5 0,-459.5 0,-453.5 0,-453.5 0,-394.5 0,-394.5 0,-388.5 6,-382.5 12,-382.5 12,-382.5 135,-382.5 135,-382.5 141,-382.5 147,-388.5 147,-394.5 147,-394.5 147,-453.5 147,-453.5 147,-459.5 141,-465.5 135,-465.5\"/>\n<text text-anchor=\"start\" x=\"24\" y=\"-450.3\" font-family=\"Helvetica,sans-Serif\" font-size=\"14.00\">duration ≤ 6.222</text>\n<text text-anchor=\"start\" x=\"38\" y=\"-435.3\" font-family=\"Helvetica,sans-Serif\" font-size=\"14.00\">gini = 0.206</text>\n<text text-anchor=\"start\" x=\"16.5\" y=\"-420.3\" font-family=\"Helvetica,sans-Serif\" font-size=\"14.00\">samples = 100.0%</text>\n<text text-anchor=\"start\" x=\"8\" y=\"-405.3\" font-family=\"Helvetica,sans-Serif\" font-size=\"14.00\">value = [0.884, 0.116]</text>\n<text text-anchor=\"start\" x=\"42.5\" y=\"-390.3\" font-family=\"Helvetica,sans-Serif\" font-size=\"14.00\">class = no</text>\n</g>\n<!-- 1 -->\n<g id=\"node2\" class=\"node\"><title>1</title>\n<path fill=\"#e58139\" fill-opacity=\"0.917647\" stroke=\"black\" d=\"M318,-541.5C318,-541.5 195,-541.5 195,-541.5 189,-541.5 183,-535.5 183,-529.5 183,-529.5 183,-470.5 183,-470.5 183,-464.5 189,-458.5 195,-458.5 195,-458.5 318,-458.5 318,-458.5 324,-458.5 330,-464.5 330,-470.5 330,-470.5 330,-529.5 330,-529.5 330,-535.5 324,-541.5 318,-541.5\"/>\n<text text-anchor=\"start\" x=\"220\" y=\"-526.3\" font-family=\"Helvetica,sans-Serif\" font-size=\"14.00\">month ≤ 9.5</text>\n<text text-anchor=\"start\" x=\"221\" y=\"-511.3\" font-family=\"Helvetica,sans-Serif\" font-size=\"14.00\">gini = 0.138</text>\n<text text-anchor=\"start\" x=\"203.5\" y=\"-496.3\" font-family=\"Helvetica,sans-Serif\" font-size=\"14.00\">samples = 88.3%</text>\n<text text-anchor=\"start\" x=\"191\" y=\"-481.3\" font-family=\"Helvetica,sans-Serif\" font-size=\"14.00\">value = [0.925, 0.075]</text>\n<text text-anchor=\"start\" x=\"225.5\" y=\"-466.3\" font-family=\"Helvetica,sans-Serif\" font-size=\"14.00\">class = no</text>\n</g>\n<!-- 0&#45;&gt;1 -->\n<g id=\"edge1\" class=\"edge\"><title>0&#45;&gt;1</title>\n<path fill=\"none\" stroke=\"black\" d=\"M147.077,-454.474C155.744,-458.113 164.64,-461.849 173.428,-465.539\"/>\n<polygon fill=\"black\" stroke=\"black\" points=\"172.332,-468.875 182.907,-469.519 175.042,-462.42 172.332,-468.875\"/>\n<text text-anchor=\"middle\" x=\"159.764\" y=\"-475.274\" font-family=\"Helvetica,sans-Serif\" font-size=\"14.00\">True</text>\n</g>\n<!-- 3270 -->\n<g id=\"node17\" class=\"node\"><title>3270</title>\n<path fill=\"#e58139\" fill-opacity=\"0.235294\" stroke=\"black\" d=\"M318,-390.5C318,-390.5 195,-390.5 195,-390.5 189,-390.5 183,-384.5 183,-378.5 183,-378.5 183,-319.5 183,-319.5 183,-313.5 189,-307.5 195,-307.5 195,-307.5 318,-307.5 318,-307.5 324,-307.5 330,-313.5 330,-319.5 330,-319.5 330,-378.5 330,-378.5 330,-384.5 324,-390.5 318,-390.5\"/>\n<text text-anchor=\"start\" x=\"207\" y=\"-375.3\" font-family=\"Helvetica,sans-Serif\" font-size=\"14.00\">duration ≤ 6.718</text>\n<text text-anchor=\"start\" x=\"221\" y=\"-360.3\" font-family=\"Helvetica,sans-Serif\" font-size=\"14.00\">gini = 0.491</text>\n<text text-anchor=\"start\" x=\"203.5\" y=\"-345.3\" font-family=\"Helvetica,sans-Serif\" font-size=\"14.00\">samples = 11.7%</text>\n<text text-anchor=\"start\" x=\"191\" y=\"-330.3\" font-family=\"Helvetica,sans-Serif\" font-size=\"14.00\">value = [0.567, 0.433]</text>\n<text text-anchor=\"start\" x=\"225.5\" y=\"-315.3\" font-family=\"Helvetica,sans-Serif\" font-size=\"14.00\">class = no</text>\n</g>\n<!-- 0&#45;&gt;3270 -->\n<g id=\"edge16\" class=\"edge\"><title>0&#45;&gt;3270</title>\n<path fill=\"none\" stroke=\"black\" d=\"M147.077,-393.927C155.744,-390.335 164.64,-386.649 173.428,-383.008\"/>\n<polygon fill=\"black\" stroke=\"black\" points=\"175.009,-386.141 182.907,-379.08 172.329,-379.675 175.009,-386.141\"/>\n<text text-anchor=\"middle\" x=\"159.809\" y=\"-365.816\" font-family=\"Helvetica,sans-Serif\" font-size=\"14.00\">False</text>\n</g>\n<!-- 2 -->\n<g id=\"node3\" class=\"node\"><title>2</title>\n<path fill=\"#e58139\" fill-opacity=\"0.929412\" stroke=\"black\" d=\"M501,-718.5C501,-718.5 378,-718.5 378,-718.5 372,-718.5 366,-712.5 366,-706.5 366,-706.5 366,-647.5 366,-647.5 366,-641.5 372,-635.5 378,-635.5 378,-635.5 501,-635.5 501,-635.5 507,-635.5 513,-641.5 513,-647.5 513,-647.5 513,-706.5 513,-706.5 513,-712.5 507,-718.5 501,-718.5\"/>\n<text text-anchor=\"start\" x=\"407\" y=\"-703.3\" font-family=\"Helvetica,sans-Serif\" font-size=\"14.00\">age ≤ 60.5</text>\n<text text-anchor=\"start\" x=\"404\" y=\"-688.3\" font-family=\"Helvetica,sans-Serif\" font-size=\"14.00\">gini = 0.121</text>\n<text text-anchor=\"start\" x=\"386.5\" y=\"-673.3\" font-family=\"Helvetica,sans-Serif\" font-size=\"14.00\">samples = 85.8%</text>\n<text text-anchor=\"start\" x=\"374\" y=\"-658.3\" font-family=\"Helvetica,sans-Serif\" font-size=\"14.00\">value = [0.936, 0.064]</text>\n<text text-anchor=\"start\" x=\"408.5\" y=\"-643.3\" font-family=\"Helvetica,sans-Serif\" font-size=\"14.00\">class = no</text>\n</g>\n<!-- 1&#45;&gt;2 -->\n<g id=\"edge2\" class=\"edge\"><title>1&#45;&gt;2</title>\n<path fill=\"none\" stroke=\"black\" d=\"M300.394,-541.947C326.88,-567.847 360.971,-601.185 388.655,-628.257\"/>\n<polygon fill=\"black\" stroke=\"black\" points=\"386.317,-630.865 395.913,-635.355 391.211,-625.861 386.317,-630.865\"/>\n</g>\n<!-- 2961 -->\n<g id=\"node10\" class=\"node\"><title>2961</title>\n<path fill=\"#e58139\" fill-opacity=\"0.266667\" stroke=\"black\" d=\"M501,-541.5C501,-541.5 378,-541.5 378,-541.5 372,-541.5 366,-535.5 366,-529.5 366,-529.5 366,-470.5 366,-470.5 366,-464.5 372,-458.5 378,-458.5 378,-458.5 501,-458.5 501,-458.5 507,-458.5 513,-464.5 513,-470.5 513,-470.5 513,-529.5 513,-529.5 513,-535.5 507,-541.5 501,-541.5\"/>\n<text text-anchor=\"start\" x=\"390\" y=\"-526.3\" font-family=\"Helvetica,sans-Serif\" font-size=\"14.00\">duration ≤ 4.916</text>\n<text text-anchor=\"start\" x=\"404\" y=\"-511.3\" font-family=\"Helvetica,sans-Serif\" font-size=\"14.00\">gini = 0.488</text>\n<text text-anchor=\"start\" x=\"390\" y=\"-496.3\" font-family=\"Helvetica,sans-Serif\" font-size=\"14.00\">samples = 2.5%</text>\n<text text-anchor=\"start\" x=\"374\" y=\"-481.3\" font-family=\"Helvetica,sans-Serif\" font-size=\"14.00\">value = [0.577, 0.423]</text>\n<text text-anchor=\"start\" x=\"408.5\" y=\"-466.3\" font-family=\"Helvetica,sans-Serif\" font-size=\"14.00\">class = no</text>\n</g>\n<!-- 1&#45;&gt;2961 -->\n<g id=\"edge9\" class=\"edge\"><title>1&#45;&gt;2961</title>\n<path fill=\"none\" stroke=\"black\" d=\"M330.077,-500C338.559,-500 347.261,-500 355.867,-500\"/>\n<polygon fill=\"black\" stroke=\"black\" points=\"355.907,-503.5 365.907,-500 355.907,-496.5 355.907,-503.5\"/>\n</g>\n<!-- 3 -->\n<g id=\"node4\" class=\"node\"><title>3</title>\n<path fill=\"#e58139\" fill-opacity=\"0.937255\" stroke=\"black\" d=\"M684,-819.5C684,-819.5 561,-819.5 561,-819.5 555,-819.5 549,-813.5 549,-807.5 549,-807.5 549,-748.5 549,-748.5 549,-742.5 555,-736.5 561,-736.5 561,-736.5 684,-736.5 684,-736.5 690,-736.5 696,-742.5 696,-748.5 696,-748.5 696,-807.5 696,-807.5 696,-813.5 690,-819.5 684,-819.5\"/>\n<text text-anchor=\"start\" x=\"583\" y=\"-804.3\" font-family=\"Helvetica,sans-Serif\" font-size=\"14.00\">pdays ≤ 12.5</text>\n<text text-anchor=\"start\" x=\"587\" y=\"-789.3\" font-family=\"Helvetica,sans-Serif\" font-size=\"14.00\">gini = 0.109</text>\n<text text-anchor=\"start\" x=\"569.5\" y=\"-774.3\" font-family=\"Helvetica,sans-Serif\" font-size=\"14.00\">samples = 84.2%</text>\n<text text-anchor=\"start\" x=\"557\" y=\"-759.3\" font-family=\"Helvetica,sans-Serif\" font-size=\"14.00\">value = [0.942, 0.058]</text>\n<text text-anchor=\"start\" x=\"591.5\" y=\"-744.3\" font-family=\"Helvetica,sans-Serif\" font-size=\"14.00\">class = no</text>\n</g>\n<!-- 2&#45;&gt;3 -->\n<g id=\"edge3\" class=\"edge\"><title>2&#45;&gt;3</title>\n<path fill=\"none\" stroke=\"black\" d=\"M513.077,-717.499C521.928,-722.438 531.018,-727.51 539.989,-732.516\"/>\n<polygon fill=\"black\" stroke=\"black\" points=\"538.469,-735.676 548.907,-737.492 541.88,-729.563 538.469,-735.676\"/>\n</g>\n<!-- 2720 -->\n<g id=\"node7\" class=\"node\"><title>2720</title>\n<path fill=\"#e58139\" fill-opacity=\"0.352941\" stroke=\"black\" d=\"M684,-718.5C684,-718.5 561,-718.5 561,-718.5 555,-718.5 549,-712.5 549,-706.5 549,-706.5 549,-647.5 549,-647.5 549,-641.5 555,-635.5 561,-635.5 561,-635.5 684,-635.5 684,-635.5 690,-635.5 696,-641.5 696,-647.5 696,-647.5 696,-706.5 696,-706.5 696,-712.5 690,-718.5 684,-718.5\"/>\n<text text-anchor=\"start\" x=\"577\" y=\"-703.3\" font-family=\"Helvetica,sans-Serif\" font-size=\"14.00\">duration ≤ 5.33</text>\n<text text-anchor=\"start\" x=\"587\" y=\"-688.3\" font-family=\"Helvetica,sans-Serif\" font-size=\"14.00\">gini = 0.477</text>\n<text text-anchor=\"start\" x=\"573\" y=\"-673.3\" font-family=\"Helvetica,sans-Serif\" font-size=\"14.00\">samples = 1.7%</text>\n<text text-anchor=\"start\" x=\"557\" y=\"-658.3\" font-family=\"Helvetica,sans-Serif\" font-size=\"14.00\">value = [0.608, 0.392]</text>\n<text text-anchor=\"start\" x=\"591.5\" y=\"-643.3\" font-family=\"Helvetica,sans-Serif\" font-size=\"14.00\">class = no</text>\n</g>\n<!-- 2&#45;&gt;2720 -->\n<g id=\"edge6\" class=\"edge\"><title>2&#45;&gt;2720</title>\n<path fill=\"none\" stroke=\"black\" d=\"M513.077,-677C521.559,-677 530.261,-677 538.867,-677\"/>\n<polygon fill=\"black\" stroke=\"black\" points=\"538.907,-680.5 548.907,-677 538.907,-673.5 538.907,-680.5\"/>\n</g>\n<!-- 4 -->\n<g id=\"node5\" class=\"node\"><title>4</title>\n<path fill=\"#c0c0c0\" stroke=\"black\" d=\"M774,-848C774,-848 744,-848 744,-848 738,-848 732,-842 732,-836 732,-836 732,-824 732,-824 732,-818 738,-812 744,-812 744,-812 774,-812 774,-812 780,-812 786,-818 786,-824 786,-824 786,-836 786,-836 786,-842 780,-848 774,-848\"/>\n<text text-anchor=\"middle\" x=\"759\" y=\"-826.3\" font-family=\"Helvetica,sans-Serif\" font-size=\"14.00\">(...)</text>\n</g>\n<!-- 3&#45;&gt;4 -->\n<g id=\"edge4\" class=\"edge\"><title>3&#45;&gt;4</title>\n<path fill=\"none\" stroke=\"black\" d=\"M696.261,-806.131C705.326,-809.635 714.257,-813.088 722.388,-816.232\"/>\n<polygon fill=\"black\" stroke=\"black\" points=\"721.276,-819.554 731.865,-819.896 723.8,-813.025 721.276,-819.554\"/>\n</g>\n<!-- 1939 -->\n<g id=\"node6\" class=\"node\"><title>1939</title>\n<path fill=\"#c0c0c0\" stroke=\"black\" d=\"M774,-794C774,-794 744,-794 744,-794 738,-794 732,-788 732,-782 732,-782 732,-770 732,-770 732,-764 738,-758 744,-758 744,-758 774,-758 774,-758 780,-758 786,-764 786,-770 786,-770 786,-782 786,-782 786,-788 780,-794 774,-794\"/>\n<text text-anchor=\"middle\" x=\"759\" y=\"-772.3\" font-family=\"Helvetica,sans-Serif\" font-size=\"14.00\">(...)</text>\n</g>\n<!-- 3&#45;&gt;1939 -->\n<g id=\"edge5\" class=\"edge\"><title>3&#45;&gt;1939</title>\n<path fill=\"none\" stroke=\"black\" d=\"M696.261,-776.918C705.127,-776.786 713.864,-776.656 721.851,-776.538\"/>\n<polygon fill=\"black\" stroke=\"black\" points=\"721.918,-780.037 731.865,-776.389 721.814,-773.038 721.918,-780.037\"/>\n</g>\n<!-- 2721 -->\n<g id=\"node8\" class=\"node\"><title>2721</title>\n<path fill=\"#c0c0c0\" stroke=\"black\" d=\"M774,-740C774,-740 744,-740 744,-740 738,-740 732,-734 732,-728 732,-728 732,-716 732,-716 732,-710 738,-704 744,-704 744,-704 774,-704 774,-704 780,-704 786,-710 786,-716 786,-716 786,-728 786,-728 786,-734 780,-740 774,-740\"/>\n<text text-anchor=\"middle\" x=\"759\" y=\"-718.3\" font-family=\"Helvetica,sans-Serif\" font-size=\"14.00\">(...)</text>\n</g>\n<!-- 2720&#45;&gt;2721 -->\n<g id=\"edge7\" class=\"edge\"><title>2720&#45;&gt;2721</title>\n<path fill=\"none\" stroke=\"black\" d=\"M696.261,-701.344C705.226,-704.343 714.06,-707.299 722.119,-709.995\"/>\n<polygon fill=\"black\" stroke=\"black\" points=\"721.271,-713.402 731.865,-713.256 723.492,-706.764 721.271,-713.402\"/>\n</g>\n<!-- 2818 -->\n<g id=\"node9\" class=\"node\"><title>2818</title>\n<path fill=\"#c0c0c0\" stroke=\"black\" d=\"M774,-686C774,-686 744,-686 744,-686 738,-686 732,-680 732,-674 732,-674 732,-662 732,-662 732,-656 738,-650 744,-650 744,-650 774,-650 774,-650 780,-650 786,-656 786,-662 786,-662 786,-674 786,-674 786,-680 780,-686 774,-686\"/>\n<text text-anchor=\"middle\" x=\"759\" y=\"-664.3\" font-family=\"Helvetica,sans-Serif\" font-size=\"14.00\">(...)</text>\n</g>\n<!-- 2720&#45;&gt;2818 -->\n<g id=\"edge8\" class=\"edge\"><title>2720&#45;&gt;2818</title>\n<path fill=\"none\" stroke=\"black\" d=\"M696.261,-672.131C705.127,-671.538 713.864,-670.953 721.851,-670.419\"/>\n<polygon fill=\"black\" stroke=\"black\" points=\"722.121,-673.909 731.865,-669.749 721.654,-666.924 722.121,-673.909\"/>\n</g>\n<!-- 2962 -->\n<g id=\"node11\" class=\"node\"><title>2962</title>\n<path fill=\"#e58139\" fill-opacity=\"0.862745\" stroke=\"black\" d=\"M684,-617.5C684,-617.5 561,-617.5 561,-617.5 555,-617.5 549,-611.5 549,-605.5 549,-605.5 549,-546.5 549,-546.5 549,-540.5 555,-534.5 561,-534.5 561,-534.5 684,-534.5 684,-534.5 690,-534.5 696,-540.5 696,-546.5 696,-546.5 696,-605.5 696,-605.5 696,-611.5 690,-617.5 684,-617.5\"/>\n<text text-anchor=\"start\" x=\"584.5\" y=\"-602.3\" font-family=\"Helvetica,sans-Serif\" font-size=\"14.00\">marital ≤ 0.5</text>\n<text text-anchor=\"start\" x=\"587\" y=\"-587.3\" font-family=\"Helvetica,sans-Serif\" font-size=\"14.00\">gini = 0.212</text>\n<text text-anchor=\"start\" x=\"573\" y=\"-572.3\" font-family=\"Helvetica,sans-Serif\" font-size=\"14.00\">samples = 0.8%</text>\n<text text-anchor=\"start\" x=\"557\" y=\"-557.3\" font-family=\"Helvetica,sans-Serif\" font-size=\"14.00\">value = [0.879, 0.121]</text>\n<text text-anchor=\"start\" x=\"591.5\" y=\"-542.3\" font-family=\"Helvetica,sans-Serif\" font-size=\"14.00\">class = no</text>\n</g>\n<!-- 2961&#45;&gt;2962 -->\n<g id=\"edge10\" class=\"edge\"><title>2961&#45;&gt;2962</title>\n<path fill=\"none\" stroke=\"black\" d=\"M513.077,-530.474C521.744,-534.113 530.64,-537.849 539.428,-541.539\"/>\n<polygon fill=\"black\" stroke=\"black\" points=\"538.332,-544.875 548.907,-545.519 541.042,-538.42 538.332,-544.875\"/>\n</g>\n<!-- 3021 -->\n<g id=\"node14\" class=\"node\"><title>3021</title>\n<path fill=\"#399de5\" fill-opacity=\"0.223529\" stroke=\"black\" d=\"M684,-516.5C684,-516.5 561,-516.5 561,-516.5 555,-516.5 549,-510.5 549,-504.5 549,-504.5 549,-445.5 549,-445.5 549,-439.5 555,-433.5 561,-433.5 561,-433.5 684,-433.5 684,-433.5 690,-433.5 696,-439.5 696,-445.5 696,-445.5 696,-504.5 696,-504.5 696,-510.5 690,-516.5 684,-516.5\"/>\n<text text-anchor=\"start\" x=\"590.5\" y=\"-501.3\" font-family=\"Helvetica,sans-Serif\" font-size=\"14.00\">day ≤ 15.5</text>\n<text text-anchor=\"start\" x=\"587\" y=\"-486.3\" font-family=\"Helvetica,sans-Serif\" font-size=\"14.00\">gini = 0.492</text>\n<text text-anchor=\"start\" x=\"573\" y=\"-471.3\" font-family=\"Helvetica,sans-Serif\" font-size=\"14.00\">samples = 1.7%</text>\n<text text-anchor=\"start\" x=\"557\" y=\"-456.3\" font-family=\"Helvetica,sans-Serif\" font-size=\"14.00\">value = [0.437, 0.563]</text>\n<text text-anchor=\"start\" x=\"588.5\" y=\"-441.3\" font-family=\"Helvetica,sans-Serif\" font-size=\"14.00\">class = yes</text>\n</g>\n<!-- 2961&#45;&gt;3021 -->\n<g id=\"edge13\" class=\"edge\"><title>2961&#45;&gt;3021</title>\n<path fill=\"none\" stroke=\"black\" d=\"M513.077,-489.976C521.559,-488.804 530.261,-487.602 538.867,-486.413\"/>\n<polygon fill=\"black\" stroke=\"black\" points=\"539.48,-489.862 548.907,-485.027 538.522,-482.928 539.48,-489.862\"/>\n</g>\n<!-- 2963 -->\n<g id=\"node12\" class=\"node\"><title>2963</title>\n<path fill=\"#c0c0c0\" stroke=\"black\" d=\"M774,-632C774,-632 744,-632 744,-632 738,-632 732,-626 732,-620 732,-620 732,-608 732,-608 732,-602 738,-596 744,-596 744,-596 774,-596 774,-596 780,-596 786,-602 786,-608 786,-608 786,-620 786,-620 786,-626 780,-632 774,-632\"/>\n<text text-anchor=\"middle\" x=\"759\" y=\"-610.3\" font-family=\"Helvetica,sans-Serif\" font-size=\"14.00\">(...)</text>\n</g>\n<!-- 2962&#45;&gt;2963 -->\n<g id=\"edge11\" class=\"edge\"><title>2962&#45;&gt;2963</title>\n<path fill=\"none\" stroke=\"black\" d=\"M696.261,-596.557C705.226,-599.09 714.06,-601.586 722.119,-603.863\"/>\n<polygon fill=\"black\" stroke=\"black\" points=\"721.29,-607.265 731.865,-606.616 723.193,-600.529 721.29,-607.265\"/>\n</g>\n<!-- 2974 -->\n<g id=\"node13\" class=\"node\"><title>2974</title>\n<path fill=\"#c0c0c0\" stroke=\"black\" d=\"M774,-578C774,-578 744,-578 744,-578 738,-578 732,-572 732,-566 732,-566 732,-554 732,-554 732,-548 738,-542 744,-542 744,-542 774,-542 774,-542 780,-542 786,-548 786,-554 786,-554 786,-566 786,-566 786,-572 780,-578 774,-578\"/>\n<text text-anchor=\"middle\" x=\"759\" y=\"-556.3\" font-family=\"Helvetica,sans-Serif\" font-size=\"14.00\">(...)</text>\n</g>\n<!-- 2962&#45;&gt;2974 -->\n<g id=\"edge12\" class=\"edge\"><title>2962&#45;&gt;2974</title>\n<path fill=\"none\" stroke=\"black\" d=\"M696.261,-567.344C705.127,-566.29 713.864,-565.25 721.851,-564.3\"/>\n<polygon fill=\"black\" stroke=\"black\" points=\"722.349,-567.766 731.865,-563.109 721.522,-560.815 722.349,-567.766\"/>\n</g>\n<!-- 3022 -->\n<g id=\"node15\" class=\"node\"><title>3022</title>\n<path fill=\"#c0c0c0\" stroke=\"black\" d=\"M774,-524C774,-524 744,-524 744,-524 738,-524 732,-518 732,-512 732,-512 732,-500 732,-500 732,-494 738,-488 744,-488 744,-488 774,-488 774,-488 780,-488 786,-494 786,-500 786,-500 786,-512 786,-512 786,-518 780,-524 774,-524\"/>\n<text text-anchor=\"middle\" x=\"759\" y=\"-502.3\" font-family=\"Helvetica,sans-Serif\" font-size=\"14.00\">(...)</text>\n</g>\n<!-- 3021&#45;&gt;3022 -->\n<g id=\"edge14\" class=\"edge\"><title>3021&#45;&gt;3022</title>\n<path fill=\"none\" stroke=\"black\" d=\"M696.261,-491.77C705.226,-493.837 714.06,-495.873 722.119,-497.73\"/>\n<polygon fill=\"black\" stroke=\"black\" points=\"721.335,-501.141 731.865,-499.976 722.907,-494.32 721.335,-501.141\"/>\n</g>\n<!-- 3143 -->\n<g id=\"node16\" class=\"node\"><title>3143</title>\n<path fill=\"#c0c0c0\" stroke=\"black\" d=\"M774,-470C774,-470 744,-470 744,-470 738,-470 732,-464 732,-458 732,-458 732,-446 732,-446 732,-440 738,-434 744,-434 744,-434 774,-434 774,-434 780,-434 786,-440 786,-446 786,-446 786,-458 786,-458 786,-464 780,-470 774,-470\"/>\n<text text-anchor=\"middle\" x=\"759\" y=\"-448.3\" font-family=\"Helvetica,sans-Serif\" font-size=\"14.00\">(...)</text>\n</g>\n<!-- 3021&#45;&gt;3143 -->\n<g id=\"edge15\" class=\"edge\"><title>3021&#45;&gt;3143</title>\n<path fill=\"none\" stroke=\"black\" d=\"M696.261,-462.558C705.127,-461.042 713.864,-459.547 721.851,-458.182\"/>\n<polygon fill=\"black\" stroke=\"black\" points=\"722.598,-461.605 731.865,-456.469 721.418,-454.705 722.598,-461.605\"/>\n</g>\n<!-- 3271 -->\n<g id=\"node18\" class=\"node\"><title>3271</title>\n<path fill=\"#e58139\" fill-opacity=\"0.447059\" stroke=\"black\" d=\"M501,-390.5C501,-390.5 378,-390.5 378,-390.5 372,-390.5 366,-384.5 366,-378.5 366,-378.5 366,-319.5 366,-319.5 366,-313.5 372,-307.5 378,-307.5 378,-307.5 501,-307.5 501,-307.5 507,-307.5 513,-313.5 513,-319.5 513,-319.5 513,-378.5 513,-378.5 513,-384.5 507,-390.5 501,-390.5\"/>\n<text text-anchor=\"start\" x=\"400\" y=\"-375.3\" font-family=\"Helvetica,sans-Serif\" font-size=\"14.00\">contact ≤ 1.5</text>\n<text text-anchor=\"start\" x=\"404\" y=\"-360.3\" font-family=\"Helvetica,sans-Serif\" font-size=\"14.00\">gini = 0.459</text>\n<text text-anchor=\"start\" x=\"390\" y=\"-345.3\" font-family=\"Helvetica,sans-Serif\" font-size=\"14.00\">samples = 7.8%</text>\n<text text-anchor=\"start\" x=\"374\" y=\"-330.3\" font-family=\"Helvetica,sans-Serif\" font-size=\"14.00\">value = [0.644, 0.356]</text>\n<text text-anchor=\"start\" x=\"408.5\" y=\"-315.3\" font-family=\"Helvetica,sans-Serif\" font-size=\"14.00\">class = no</text>\n</g>\n<!-- 3270&#45;&gt;3271 -->\n<g id=\"edge17\" class=\"edge\"><title>3270&#45;&gt;3271</title>\n<path fill=\"none\" stroke=\"black\" d=\"M330.077,-349C338.559,-349 347.261,-349 355.867,-349\"/>\n<polygon fill=\"black\" stroke=\"black\" points=\"355.907,-352.5 365.907,-349 355.907,-345.5 355.907,-352.5\"/>\n</g>\n<!-- 4396 -->\n<g id=\"node25\" class=\"node\"><title>4396</title>\n<path fill=\"#399de5\" fill-opacity=\"0.298039\" stroke=\"black\" d=\"M501,-213.5C501,-213.5 378,-213.5 378,-213.5 372,-213.5 366,-207.5 366,-201.5 366,-201.5 366,-142.5 366,-142.5 366,-136.5 372,-130.5 378,-130.5 378,-130.5 501,-130.5 501,-130.5 507,-130.5 513,-136.5 513,-142.5 513,-142.5 513,-201.5 513,-201.5 513,-207.5 507,-213.5 501,-213.5\"/>\n<text text-anchor=\"start\" x=\"400\" y=\"-198.3\" font-family=\"Helvetica,sans-Serif\" font-size=\"14.00\">contact ≤ 0.5</text>\n<text text-anchor=\"start\" x=\"404\" y=\"-183.3\" font-family=\"Helvetica,sans-Serif\" font-size=\"14.00\">gini = 0.485</text>\n<text text-anchor=\"start\" x=\"390\" y=\"-168.3\" font-family=\"Helvetica,sans-Serif\" font-size=\"14.00\">samples = 3.9%</text>\n<text text-anchor=\"start\" x=\"374\" y=\"-153.3\" font-family=\"Helvetica,sans-Serif\" font-size=\"14.00\">value = [0.412, 0.588]</text>\n<text text-anchor=\"start\" x=\"405.5\" y=\"-138.3\" font-family=\"Helvetica,sans-Serif\" font-size=\"14.00\">class = yes</text>\n</g>\n<!-- 3270&#45;&gt;4396 -->\n<g id=\"edge24\" class=\"edge\"><title>3270&#45;&gt;4396</title>\n<path fill=\"none\" stroke=\"black\" d=\"M300.394,-307.053C326.88,-281.153 360.971,-247.815 388.655,-220.743\"/>\n<polygon fill=\"black\" stroke=\"black\" points=\"391.211,-223.139 395.913,-213.645 386.317,-218.135 391.211,-223.139\"/>\n</g>\n<!-- 3272 -->\n<g id=\"node19\" class=\"node\"><title>3272</title>\n<path fill=\"#e58139\" fill-opacity=\"0.313725\" stroke=\"black\" d=\"M684,-415.5C684,-415.5 561,-415.5 561,-415.5 555,-415.5 549,-409.5 549,-403.5 549,-403.5 549,-344.5 549,-344.5 549,-338.5 555,-332.5 561,-332.5 561,-332.5 684,-332.5 684,-332.5 690,-332.5 696,-338.5 696,-344.5 696,-344.5 696,-403.5 696,-403.5 696,-409.5 690,-415.5 684,-415.5\"/>\n<text text-anchor=\"start\" x=\"573\" y=\"-400.3\" font-family=\"Helvetica,sans-Serif\" font-size=\"14.00\">duration ≤ 6.454</text>\n<text text-anchor=\"start\" x=\"587\" y=\"-385.3\" font-family=\"Helvetica,sans-Serif\" font-size=\"14.00\">gini = 0.483</text>\n<text text-anchor=\"start\" x=\"573\" y=\"-370.3\" font-family=\"Helvetica,sans-Serif\" font-size=\"14.00\">samples = 5.7%</text>\n<text text-anchor=\"start\" x=\"557\" y=\"-355.3\" font-family=\"Helvetica,sans-Serif\" font-size=\"14.00\">value = [0.593, 0.407]</text>\n<text text-anchor=\"start\" x=\"591.5\" y=\"-340.3\" font-family=\"Helvetica,sans-Serif\" font-size=\"14.00\">class = no</text>\n</g>\n<!-- 3271&#45;&gt;3272 -->\n<g id=\"edge18\" class=\"edge\"><title>3271&#45;&gt;3272</title>\n<path fill=\"none\" stroke=\"black\" d=\"M513.077,-359.024C521.559,-360.196 530.261,-361.398 538.867,-362.587\"/>\n<polygon fill=\"black\" stroke=\"black\" points=\"538.522,-366.072 548.907,-363.973 539.48,-359.138 538.522,-366.072\"/>\n</g>\n<!-- 4105 -->\n<g id=\"node22\" class=\"node\"><title>4105</title>\n<path fill=\"#e58139\" fill-opacity=\"0.721569\" stroke=\"black\" d=\"M684,-314.5C684,-314.5 561,-314.5 561,-314.5 555,-314.5 549,-308.5 549,-302.5 549,-302.5 549,-243.5 549,-243.5 549,-237.5 555,-231.5 561,-231.5 561,-231.5 684,-231.5 684,-231.5 690,-231.5 696,-237.5 696,-243.5 696,-243.5 696,-302.5 696,-302.5 696,-308.5 690,-314.5 684,-314.5\"/>\n<text text-anchor=\"start\" x=\"573\" y=\"-299.3\" font-family=\"Helvetica,sans-Serif\" font-size=\"14.00\">duration ≤ 6.507</text>\n<text text-anchor=\"start\" x=\"590.5\" y=\"-284.3\" font-family=\"Helvetica,sans-Serif\" font-size=\"14.00\">gini = 0.34</text>\n<text text-anchor=\"start\" x=\"573\" y=\"-269.3\" font-family=\"Helvetica,sans-Serif\" font-size=\"14.00\">samples = 2.1%</text>\n<text text-anchor=\"start\" x=\"557\" y=\"-254.3\" font-family=\"Helvetica,sans-Serif\" font-size=\"14.00\">value = [0.783, 0.217]</text>\n<text text-anchor=\"start\" x=\"591.5\" y=\"-239.3\" font-family=\"Helvetica,sans-Serif\" font-size=\"14.00\">class = no</text>\n</g>\n<!-- 3271&#45;&gt;4105 -->\n<g id=\"edge21\" class=\"edge\"><title>3271&#45;&gt;4105</title>\n<path fill=\"none\" stroke=\"black\" d=\"M513.077,-318.526C521.744,-314.887 530.64,-311.151 539.428,-307.461\"/>\n<polygon fill=\"black\" stroke=\"black\" points=\"541.042,-310.58 548.907,-303.481 538.332,-304.125 541.042,-310.58\"/>\n</g>\n<!-- 3273 -->\n<g id=\"node20\" class=\"node\"><title>3273</title>\n<path fill=\"#c0c0c0\" stroke=\"black\" d=\"M774,-416C774,-416 744,-416 744,-416 738,-416 732,-410 732,-404 732,-404 732,-392 732,-392 732,-386 738,-380 744,-380 744,-380 774,-380 774,-380 780,-380 786,-386 786,-392 786,-392 786,-404 786,-404 786,-410 780,-416 774,-416\"/>\n<text text-anchor=\"middle\" x=\"759\" y=\"-394.3\" font-family=\"Helvetica,sans-Serif\" font-size=\"14.00\">(...)</text>\n</g>\n<!-- 3272&#45;&gt;3273 -->\n<g id=\"edge19\" class=\"edge\"><title>3272&#45;&gt;3273</title>\n<path fill=\"none\" stroke=\"black\" d=\"M696.261,-386.983C705.127,-388.565 713.864,-390.124 721.851,-391.55\"/>\n<polygon fill=\"black\" stroke=\"black\" points=\"721.406,-395.025 731.865,-393.337 722.635,-388.134 721.406,-395.025\"/>\n</g>\n<!-- 3734 -->\n<g id=\"node21\" class=\"node\"><title>3734</title>\n<path fill=\"#c0c0c0\" stroke=\"black\" d=\"M774,-362C774,-362 744,-362 744,-362 738,-362 732,-356 732,-350 732,-350 732,-338 732,-338 732,-332 738,-326 744,-326 744,-326 774,-326 774,-326 780,-326 786,-332 786,-338 786,-338 786,-350 786,-350 786,-356 780,-362 774,-362\"/>\n<text text-anchor=\"middle\" x=\"759\" y=\"-340.3\" font-family=\"Helvetica,sans-Serif\" font-size=\"14.00\">(...)</text>\n</g>\n<!-- 3272&#45;&gt;3734 -->\n<g id=\"edge20\" class=\"edge\"><title>3272&#45;&gt;3734</title>\n<path fill=\"none\" stroke=\"black\" d=\"M696.261,-357.771C705.127,-355.793 713.864,-353.844 721.851,-352.063\"/>\n<polygon fill=\"black\" stroke=\"black\" points=\"722.867,-355.422 731.865,-349.829 721.343,-348.59 722.867,-355.422\"/>\n</g>\n<!-- 4106 -->\n<g id=\"node23\" class=\"node\"><title>4106</title>\n<path fill=\"#c0c0c0\" stroke=\"black\" d=\"M774,-308C774,-308 744,-308 744,-308 738,-308 732,-302 732,-296 732,-296 732,-284 732,-284 732,-278 738,-272 744,-272 744,-272 774,-272 774,-272 780,-272 786,-278 786,-284 786,-284 786,-296 786,-296 786,-302 780,-308 774,-308\"/>\n<text text-anchor=\"middle\" x=\"759\" y=\"-286.3\" font-family=\"Helvetica,sans-Serif\" font-size=\"14.00\">(...)</text>\n</g>\n<!-- 4105&#45;&gt;4106 -->\n<g id=\"edge22\" class=\"edge\"><title>4105&#45;&gt;4106</title>\n<path fill=\"none\" stroke=\"black\" d=\"M696.261,-282.197C705.127,-283.317 713.864,-284.421 721.851,-285.431\"/>\n<polygon fill=\"black\" stroke=\"black\" points=\"721.505,-288.915 731.865,-286.697 722.383,-281.97 721.505,-288.915\"/>\n</g>\n<!-- 4285 -->\n<g id=\"node24\" class=\"node\"><title>4285</title>\n<path fill=\"#c0c0c0\" stroke=\"black\" d=\"M774,-254C774,-254 744,-254 744,-254 738,-254 732,-248 732,-242 732,-242 732,-230 732,-230 732,-224 738,-218 744,-218 744,-218 774,-218 774,-218 780,-218 786,-224 786,-230 786,-230 786,-242 786,-242 786,-248 780,-254 774,-254\"/>\n<text text-anchor=\"middle\" x=\"759\" y=\"-232.3\" font-family=\"Helvetica,sans-Serif\" font-size=\"14.00\">(...)</text>\n</g>\n<!-- 4105&#45;&gt;4285 -->\n<g id=\"edge23\" class=\"edge\"><title>4105&#45;&gt;4285</title>\n<path fill=\"none\" stroke=\"black\" d=\"M696.261,-252.984C705.226,-250.518 714.06,-248.088 722.119,-245.87\"/>\n<polygon fill=\"black\" stroke=\"black\" points=\"723.152,-249.217 731.865,-243.19 721.295,-242.467 723.152,-249.217\"/>\n</g>\n<!-- 4397 -->\n<g id=\"node26\" class=\"node\"><title>4397</title>\n<path fill=\"#399de5\" fill-opacity=\"0.400000\" stroke=\"black\" d=\"M684,-213.5C684,-213.5 561,-213.5 561,-213.5 555,-213.5 549,-207.5 549,-201.5 549,-201.5 549,-142.5 549,-142.5 549,-136.5 555,-130.5 561,-130.5 561,-130.5 684,-130.5 684,-130.5 690,-130.5 696,-136.5 696,-142.5 696,-142.5 696,-201.5 696,-201.5 696,-207.5 690,-213.5 684,-213.5\"/>\n<text text-anchor=\"start\" x=\"584.5\" y=\"-198.3\" font-family=\"Helvetica,sans-Serif\" font-size=\"14.00\">marital ≤ 1.5</text>\n<text text-anchor=\"start\" x=\"587\" y=\"-183.3\" font-family=\"Helvetica,sans-Serif\" font-size=\"14.00\">gini = 0.469</text>\n<text text-anchor=\"start\" x=\"573\" y=\"-168.3\" font-family=\"Helvetica,sans-Serif\" font-size=\"14.00\">samples = 2.6%</text>\n<text text-anchor=\"start\" x=\"557\" y=\"-153.3\" font-family=\"Helvetica,sans-Serif\" font-size=\"14.00\">value = [0.375, 0.625]</text>\n<text text-anchor=\"start\" x=\"588.5\" y=\"-138.3\" font-family=\"Helvetica,sans-Serif\" font-size=\"14.00\">class = yes</text>\n</g>\n<!-- 4396&#45;&gt;4397 -->\n<g id=\"edge25\" class=\"edge\"><title>4396&#45;&gt;4397</title>\n<path fill=\"none\" stroke=\"black\" d=\"M513.077,-172C521.559,-172 530.261,-172 538.867,-172\"/>\n<polygon fill=\"black\" stroke=\"black\" points=\"538.907,-175.5 548.907,-172 538.907,-168.5 538.907,-175.5\"/>\n</g>\n<!-- 4828 -->\n<g id=\"node29\" class=\"node\"><title>4828</title>\n<path fill=\"#399de5\" fill-opacity=\"0.047059\" stroke=\"black\" d=\"M684,-112.5C684,-112.5 561,-112.5 561,-112.5 555,-112.5 549,-106.5 549,-100.5 549,-100.5 549,-41.5 549,-41.5 549,-35.5 555,-29.5 561,-29.5 561,-29.5 684,-29.5 684,-29.5 690,-29.5 696,-35.5 696,-41.5 696,-41.5 696,-100.5 696,-100.5 696,-106.5 690,-112.5 684,-112.5\"/>\n<text text-anchor=\"start\" x=\"573\" y=\"-97.3\" font-family=\"Helvetica,sans-Serif\" font-size=\"14.00\">duration ≤ 7.128</text>\n<text text-anchor=\"start\" x=\"594.5\" y=\"-82.3\" font-family=\"Helvetica,sans-Serif\" font-size=\"14.00\">gini = 0.5</text>\n<text text-anchor=\"start\" x=\"573\" y=\"-67.3\" font-family=\"Helvetica,sans-Serif\" font-size=\"14.00\">samples = 1.3%</text>\n<text text-anchor=\"start\" x=\"557\" y=\"-52.3\" font-family=\"Helvetica,sans-Serif\" font-size=\"14.00\">value = [0.488, 0.512]</text>\n<text text-anchor=\"start\" x=\"588.5\" y=\"-37.3\" font-family=\"Helvetica,sans-Serif\" font-size=\"14.00\">class = yes</text>\n</g>\n<!-- 4396&#45;&gt;4828 -->\n<g id=\"edge28\" class=\"edge\"><title>4396&#45;&gt;4828</title>\n<path fill=\"none\" stroke=\"black\" d=\"M513.077,-131.501C521.928,-126.562 531.018,-121.49 539.989,-116.484\"/>\n<polygon fill=\"black\" stroke=\"black\" points=\"541.88,-119.437 548.907,-111.508 538.469,-113.324 541.88,-119.437\"/>\n</g>\n<!-- 4398 -->\n<g id=\"node27\" class=\"node\"><title>4398</title>\n<path fill=\"#c0c0c0\" stroke=\"black\" d=\"M774,-199C774,-199 744,-199 744,-199 738,-199 732,-193 732,-187 732,-187 732,-175 732,-175 732,-169 738,-163 744,-163 744,-163 774,-163 774,-163 780,-163 786,-169 786,-175 786,-175 786,-187 786,-187 786,-193 780,-199 774,-199\"/>\n<text text-anchor=\"middle\" x=\"759\" y=\"-177.3\" font-family=\"Helvetica,sans-Serif\" font-size=\"14.00\">(...)</text>\n</g>\n<!-- 4397&#45;&gt;4398 -->\n<g id=\"edge26\" class=\"edge\"><title>4397&#45;&gt;4398</title>\n<path fill=\"none\" stroke=\"black\" d=\"M696.261,-176.869C705.127,-177.462 713.864,-178.047 721.851,-178.581\"/>\n<polygon fill=\"black\" stroke=\"black\" points=\"721.654,-182.076 731.865,-179.251 722.121,-175.091 721.654,-182.076\"/>\n</g>\n<!-- 4699 -->\n<g id=\"node28\" class=\"node\"><title>4699</title>\n<path fill=\"#c0c0c0\" stroke=\"black\" d=\"M774,-145C774,-145 744,-145 744,-145 738,-145 732,-139 732,-133 732,-133 732,-121 732,-121 732,-115 738,-109 744,-109 744,-109 774,-109 774,-109 780,-109 786,-115 786,-121 786,-121 786,-133 786,-133 786,-139 780,-145 774,-145\"/>\n<text text-anchor=\"middle\" x=\"759\" y=\"-123.3\" font-family=\"Helvetica,sans-Serif\" font-size=\"14.00\">(...)</text>\n</g>\n<!-- 4397&#45;&gt;4699 -->\n<g id=\"edge27\" class=\"edge\"><title>4397&#45;&gt;4699</title>\n<path fill=\"none\" stroke=\"black\" d=\"M696.261,-147.656C705.226,-144.657 714.06,-141.701 722.119,-139.005\"/>\n<polygon fill=\"black\" stroke=\"black\" points=\"723.492,-142.236 731.865,-135.744 721.271,-135.598 723.492,-142.236\"/>\n</g>\n<!-- 4829 -->\n<g id=\"node30\" class=\"node\"><title>4829</title>\n<path fill=\"#c0c0c0\" stroke=\"black\" d=\"M774,-90C774,-90 744,-90 744,-90 738,-90 732,-84 732,-78 732,-78 732,-66 732,-66 732,-60 738,-54 744,-54 744,-54 774,-54 774,-54 780,-54 786,-60 786,-66 786,-66 786,-78 786,-78 786,-84 780,-90 774,-90\"/>\n<text text-anchor=\"middle\" x=\"759\" y=\"-68.3\" font-family=\"Helvetica,sans-Serif\" font-size=\"14.00\">(...)</text>\n</g>\n<!-- 4828&#45;&gt;4829 -->\n<g id=\"edge29\" class=\"edge\"><title>4828&#45;&gt;4829</title>\n<path fill=\"none\" stroke=\"black\" d=\"M696.261,-71.541C705.127,-71.6069 713.864,-71.6719 721.851,-71.7312\"/>\n<polygon fill=\"black\" stroke=\"black\" points=\"721.839,-75.2311 731.865,-71.8057 721.891,-68.2313 721.839,-75.2311\"/>\n</g>\n<!-- 4968 -->\n<g id=\"node31\" class=\"node\"><title>4968</title>\n<path fill=\"#c0c0c0\" stroke=\"black\" d=\"M774,-36C774,-36 744,-36 744,-36 738,-36 732,-30 732,-24 732,-24 732,-12 732,-12 732,-6 738,-0 744,-0 744,-0 774,-0 774,-0 780,-0 786,-6 786,-12 786,-12 786,-24 786,-24 786,-30 780,-36 774,-36\"/>\n<text text-anchor=\"middle\" x=\"759\" y=\"-14.3\" font-family=\"Helvetica,sans-Serif\" font-size=\"14.00\">(...)</text>\n</g>\n<!-- 4828&#45;&gt;4968 -->\n<g id=\"edge30\" class=\"edge\"><title>4828&#45;&gt;4968</title>\n<path fill=\"none\" stroke=\"black\" d=\"M696.261,-42.3283C705.326,-38.7563 714.257,-35.2372 722.388,-32.033\"/>\n<polygon fill=\"black\" stroke=\"black\" points=\"723.845,-35.221 731.865,-28.2985 721.278,-28.7084 723.845,-35.221\"/>\n</g>\n</g>\n</svg>\n"
          },
          "metadata": {}
        }
      ]
    },
    {
      "metadata": {
        "trusted": true
      },
      "cell_type": "code",
      "source": "from sklearn.metrics import confusion_matrix, accuracy_score, classification_report, f1_score\n\npred = model_tree.predict(test.loc[:,:'poutcome'])\n\nconfusion(test.subscribe,pred,['no','yes'])\n",
      "execution_count": 72,
      "outputs": [
        {
          "output_type": "execute_result",
          "execution_count": 72,
          "data": {
            "text/html": "<style  type=\"text/css\" >\n    #T_41f84ace_ae69_11e8_a4ca_00155d446823row0_col0 {\n            background-color:  yellow;\n        }    #T_41f84ace_ae69_11e8_a4ca_00155d446823row0_col1 {\n            background-color:  yellow;\n        }</style>  \n<table id=\"T_41f84ace_ae69_11e8_a4ca_00155d446823\" > \n<thead>    <tr> \n        <th class=\"index_name level0\" >Predicted</th> \n        <th class=\"col_heading level0 col0\" >no</th> \n        <th class=\"col_heading level0 col1\" >yes</th> \n    </tr>    <tr> \n        <th class=\"index_name level0\" >Actual</th> \n        <th class=\"blank\" ></th> \n        <th class=\"blank\" ></th> \n    </tr></thead> \n<tbody>    <tr> \n        <th id=\"T_41f84ace_ae69_11e8_a4ca_00155d446823level0_row0\" class=\"row_heading level0 row0\" >no</th> \n        <td id=\"T_41f84ace_ae69_11e8_a4ca_00155d446823row0_col0\" class=\"data row0 col0\" >12216</td> \n        <td id=\"T_41f84ace_ae69_11e8_a4ca_00155d446823row0_col1\" class=\"data row0 col1\" >1073</td> \n    </tr>    <tr> \n        <th id=\"T_41f84ace_ae69_11e8_a4ca_00155d446823level0_row1\" class=\"row_heading level0 row1\" >yes</th> \n        <td id=\"T_41f84ace_ae69_11e8_a4ca_00155d446823row1_col0\" class=\"data row1 col0\" >943</td> \n        <td id=\"T_41f84ace_ae69_11e8_a4ca_00155d446823row1_col1\" class=\"data row1 col1\" >839</td> \n    </tr></tbody> \n</table> ",
            "text/plain": "<pandas.io.formats.style.Styler at 0x7fa7d33d6940>"
          },
          "metadata": {}
        }
      ]
    },
    {
      "metadata": {},
      "cell_type": "markdown",
      "source": "prediction error"
    },
    {
      "metadata": {
        "trusted": true
      },
      "cell_type": "code",
      "source": "(1-accuracy_score(test.subscribe,pred))*100",
      "execution_count": 73,
      "outputs": [
        {
          "output_type": "execute_result",
          "execution_count": 73,
          "data": {
            "text/plain": "13.376683697166747"
          },
          "metadata": {}
        }
      ]
    },
    {
      "metadata": {},
      "cell_type": "markdown",
      "source": "F1 score"
    },
    {
      "metadata": {
        "trusted": true
      },
      "cell_type": "code",
      "source": "f1_score(test.subscribe,pred)",
      "execution_count": 74,
      "outputs": [
        {
          "output_type": "execute_result",
          "execution_count": 74,
          "data": {
            "text/plain": "0.45425013535462916"
          },
          "metadata": {}
        }
      ]
    },
    {
      "metadata": {},
      "cell_type": "markdown",
      "source": "From the detailed report we can see that the classification for the class `yes` is not very good"
    },
    {
      "metadata": {
        "trusted": true
      },
      "cell_type": "code",
      "source": "print(classification_report(test.subscribe,pred,target_names=['no', 'yes'],))",
      "execution_count": 75,
      "outputs": [
        {
          "output_type": "stream",
          "text": "             precision    recall  f1-score   support\n\n         no       0.93      0.92      0.92     13289\n        yes       0.44      0.47      0.45      1782\n\navg / total       0.87      0.87      0.87     15071\n\n",
          "name": "stdout"
        }
      ]
    },
    {
      "metadata": {},
      "cell_type": "markdown",
      "source": "***"
    },
    {
      "metadata": {},
      "cell_type": "markdown",
      "source": " Now a random Forest"
    },
    {
      "metadata": {
        "trusted": true
      },
      "cell_type": "code",
      "source": "from sklearn.ensemble import RandomForestClassifier\n\nmodel_rf1 = RandomForestClassifier(oob_score=True).fit(train.loc[:,:'poutcome'], train.subscribe)\n\npred = model_rf1.predict(train.loc[:,:'poutcome'])\n\nconfusion(train.subscribe,pred, ['no','yes'])\n\nprint(classification_report(train.subscribe,pred,target_names=['no', 'yes'],))\n\nprint('OOB error=', 1-model_rf1.oob_score_)",
      "execution_count": 76,
      "outputs": [
        {
          "output_type": "stream",
          "text": "/home/nbuser/anaconda3_501/lib/python3.6/site-packages/sklearn/ensemble/forest.py:453: UserWarning: Some inputs do not have OOB scores. This probably means too few trees were used to compute any reliable oob estimates.\n  warn(\"Some inputs do not have OOB scores. \"\n/home/nbuser/anaconda3_501/lib/python3.6/site-packages/sklearn/ensemble/forest.py:458: RuntimeWarning: invalid value encountered in true_divide\n  predictions[k].sum(axis=1)[:, np.newaxis])\n",
          "name": "stderr"
        },
        {
          "output_type": "execute_result",
          "execution_count": 76,
          "data": {
            "text/html": "<style  type=\"text/css\" >\n    #T_432439e4_ae69_11e8_a4ca_00155d446823row0_col0 {\n            background-color:  yellow;\n        }    #T_432439e4_ae69_11e8_a4ca_00155d446823row1_col1 {\n            background-color:  yellow;\n        }</style>  \n<table id=\"T_432439e4_ae69_11e8_a4ca_00155d446823\" > \n<thead>    <tr> \n        <th class=\"index_name level0\" >Predicted</th> \n        <th class=\"col_heading level0 col0\" >no</th> \n        <th class=\"col_heading level0 col1\" >yes</th> \n    </tr>    <tr> \n        <th class=\"index_name level0\" >Actual</th> \n        <th class=\"blank\" ></th> \n        <th class=\"blank\" ></th> \n    </tr></thead> \n<tbody>    <tr> \n        <th id=\"T_432439e4_ae69_11e8_a4ca_00155d446823level0_row0\" class=\"row_heading level0 row0\" >no</th> \n        <td id=\"T_432439e4_ae69_11e8_a4ca_00155d446823row0_col0\" class=\"data row0 col0\" >26628</td> \n        <td id=\"T_432439e4_ae69_11e8_a4ca_00155d446823row0_col1\" class=\"data row0 col1\" >5</td> \n    </tr>    <tr> \n        <th id=\"T_432439e4_ae69_11e8_a4ca_00155d446823level0_row1\" class=\"row_heading level0 row1\" >yes</th> \n        <td id=\"T_432439e4_ae69_11e8_a4ca_00155d446823row1_col0\" class=\"data row1 col0\" >247</td> \n        <td id=\"T_432439e4_ae69_11e8_a4ca_00155d446823row1_col1\" class=\"data row1 col1\" >3260</td> \n    </tr></tbody> \n</table> ",
            "text/plain": "<pandas.io.formats.style.Styler at 0x7fa7d3f7d7f0>"
          },
          "metadata": {}
        },
        {
          "output_type": "stream",
          "text": "             precision    recall  f1-score   support\n\n         no       0.99      1.00      1.00     26633\n        yes       1.00      0.93      0.96      3507\n\navg / total       0.99      0.99      0.99     30140\n\nOOB error= 0.10776376907763774\n",
          "name": "stdout"
        }
      ]
    },
    {
      "metadata": {},
      "cell_type": "markdown",
      "source": "We get now a better estimated test error (OOB)\n\nlet's compute the real test error:"
    },
    {
      "metadata": {
        "trusted": true
      },
      "cell_type": "code",
      "source": "pred = model_rf1.predict(test.loc[:,:'poutcome'])\n\nconfusion(test.subscribe,pred, ['no','yes'])",
      "execution_count": 77,
      "outputs": [
        {
          "output_type": "execute_result",
          "execution_count": 77,
          "data": {
            "text/html": "<style  type=\"text/css\" >\n    #T_43452078_ae69_11e8_a4ca_00155d446823row0_col0 {\n            background-color:  yellow;\n        }    #T_43452078_ae69_11e8_a4ca_00155d446823row1_col1 {\n            background-color:  yellow;\n        }</style>  \n<table id=\"T_43452078_ae69_11e8_a4ca_00155d446823\" > \n<thead>    <tr> \n        <th class=\"index_name level0\" >Predicted</th> \n        <th class=\"col_heading level0 col0\" >no</th> \n        <th class=\"col_heading level0 col1\" >yes</th> \n    </tr>    <tr> \n        <th class=\"index_name level0\" >Actual</th> \n        <th class=\"blank\" ></th> \n        <th class=\"blank\" ></th> \n    </tr></thead> \n<tbody>    <tr> \n        <th id=\"T_43452078_ae69_11e8_a4ca_00155d446823level0_row0\" class=\"row_heading level0 row0\" >no</th> \n        <td id=\"T_43452078_ae69_11e8_a4ca_00155d446823row0_col0\" class=\"data row0 col0\" >12890</td> \n        <td id=\"T_43452078_ae69_11e8_a4ca_00155d446823row0_col1\" class=\"data row0 col1\" >399</td> \n    </tr>    <tr> \n        <th id=\"T_43452078_ae69_11e8_a4ca_00155d446823level0_row1\" class=\"row_heading level0 row1\" >yes</th> \n        <td id=\"T_43452078_ae69_11e8_a4ca_00155d446823row1_col0\" class=\"data row1 col0\" >1095</td> \n        <td id=\"T_43452078_ae69_11e8_a4ca_00155d446823row1_col1\" class=\"data row1 col1\" >687</td> \n    </tr></tbody> \n</table> ",
            "text/plain": "<pandas.io.formats.style.Styler at 0x7fa7d32fbe10>"
          },
          "metadata": {}
        }
      ]
    },
    {
      "metadata": {},
      "cell_type": "markdown",
      "source": "Error"
    },
    {
      "metadata": {
        "trusted": true
      },
      "cell_type": "code",
      "source": "(1-accuracy_score(test.subscribe,pred))*100",
      "execution_count": 78,
      "outputs": [
        {
          "output_type": "execute_result",
          "execution_count": 78,
          "data": {
            "text/plain": "9.9130780970075"
          },
          "metadata": {}
        }
      ]
    },
    {
      "metadata": {},
      "cell_type": "markdown",
      "source": "F1 score"
    },
    {
      "metadata": {
        "trusted": true
      },
      "cell_type": "code",
      "source": "f1_score(test.subscribe,pred)",
      "execution_count": 79,
      "outputs": [
        {
          "output_type": "execute_result",
          "execution_count": 79,
          "data": {
            "text/plain": "0.4790794979079498"
          },
          "metadata": {}
        }
      ]
    },
    {
      "metadata": {
        "trusted": true
      },
      "cell_type": "code",
      "source": "print(classification_report(test.subscribe,pred,target_names=['no', 'yes'],))",
      "execution_count": 80,
      "outputs": [
        {
          "output_type": "stream",
          "text": "             precision    recall  f1-score   support\n\n         no       0.92      0.97      0.95     13289\n        yes       0.63      0.39      0.48      1782\n\navg / total       0.89      0.90      0.89     15071\n\n",
          "name": "stdout"
        }
      ]
    },
    {
      "metadata": {},
      "cell_type": "markdown",
      "source": "So OOB really works in estimating prediction error and the RF is better than a single tree; \n however, there is a big issue in unbalanced classes\n\n one way to deal with this is to include class weights"
    },
    {
      "metadata": {
        "trusted": true
      },
      "cell_type": "code",
      "source": "model_rf2 = RandomForestClassifier(n_estimators=100, oob_score=True, class_weight={0:1,1:10}).fit(train.loc[:,:'poutcome'], train.subscribe)\n\n\npred = model_rf2.predict(train.loc[:,:'poutcome'])\n\nconfusion(train.subscribe,pred, ['no','yes'])\n\nprint(classification_report(train.subscribe,pred,target_names=['no', 'yes'],))\n\nprint('OOB error=', 1- model_rf2.oob_score_)",
      "execution_count": 81,
      "outputs": [
        {
          "output_type": "execute_result",
          "execution_count": 81,
          "data": {
            "text/html": "<style  type=\"text/css\" >\n    #T_4aa7e94a_ae69_11e8_a4ca_00155d446823row0_col0 {\n            background-color:  yellow;\n        }    #T_4aa7e94a_ae69_11e8_a4ca_00155d446823row1_col1 {\n            background-color:  yellow;\n        }</style>  \n<table id=\"T_4aa7e94a_ae69_11e8_a4ca_00155d446823\" > \n<thead>    <tr> \n        <th class=\"index_name level0\" >Predicted</th> \n        <th class=\"col_heading level0 col0\" >no</th> \n        <th class=\"col_heading level0 col1\" >yes</th> \n    </tr>    <tr> \n        <th class=\"index_name level0\" >Actual</th> \n        <th class=\"blank\" ></th> \n        <th class=\"blank\" ></th> \n    </tr></thead> \n<tbody>    <tr> \n        <th id=\"T_4aa7e94a_ae69_11e8_a4ca_00155d446823level0_row0\" class=\"row_heading level0 row0\" >no</th> \n        <td id=\"T_4aa7e94a_ae69_11e8_a4ca_00155d446823row0_col0\" class=\"data row0 col0\" >26633</td> \n        <td id=\"T_4aa7e94a_ae69_11e8_a4ca_00155d446823row0_col1\" class=\"data row0 col1\" >0</td> \n    </tr>    <tr> \n        <th id=\"T_4aa7e94a_ae69_11e8_a4ca_00155d446823level0_row1\" class=\"row_heading level0 row1\" >yes</th> \n        <td id=\"T_4aa7e94a_ae69_11e8_a4ca_00155d446823row1_col0\" class=\"data row1 col0\" >1</td> \n        <td id=\"T_4aa7e94a_ae69_11e8_a4ca_00155d446823row1_col1\" class=\"data row1 col1\" >3506</td> \n    </tr></tbody> \n</table> ",
            "text/plain": "<pandas.io.formats.style.Styler at 0x7fa7d32f4be0>"
          },
          "metadata": {}
        },
        {
          "output_type": "stream",
          "text": "             precision    recall  f1-score   support\n\n         no       1.00      1.00      1.00     26633\n        yes       1.00      1.00      1.00      3507\n\navg / total       1.00      1.00      1.00     30140\n\nOOB error= 0.10066357000663573\n",
          "name": "stdout"
        }
      ]
    },
    {
      "metadata": {},
      "cell_type": "markdown",
      "source": "which helps a little bit, but not much:  with a better balance; let's compute the real test error:"
    },
    {
      "metadata": {
        "trusted": true
      },
      "cell_type": "code",
      "source": "pred = model_rf2.predict(test.loc[:,:'poutcome'])\n\nconfusion(test.subscribe,pred,['no','yes'])",
      "execution_count": 82,
      "outputs": [
        {
          "output_type": "execute_result",
          "execution_count": 82,
          "data": {
            "text/html": "<style  type=\"text/css\" >\n    #T_4b14f3aa_ae69_11e8_a4ca_00155d446823row0_col0 {\n            background-color:  yellow;\n        }    #T_4b14f3aa_ae69_11e8_a4ca_00155d446823row1_col1 {\n            background-color:  yellow;\n        }</style>  \n<table id=\"T_4b14f3aa_ae69_11e8_a4ca_00155d446823\" > \n<thead>    <tr> \n        <th class=\"index_name level0\" >Predicted</th> \n        <th class=\"col_heading level0 col0\" >no</th> \n        <th class=\"col_heading level0 col1\" >yes</th> \n    </tr>    <tr> \n        <th class=\"index_name level0\" >Actual</th> \n        <th class=\"blank\" ></th> \n        <th class=\"blank\" ></th> \n    </tr></thead> \n<tbody>    <tr> \n        <th id=\"T_4b14f3aa_ae69_11e8_a4ca_00155d446823level0_row0\" class=\"row_heading level0 row0\" >no</th> \n        <td id=\"T_4b14f3aa_ae69_11e8_a4ca_00155d446823row0_col0\" class=\"data row0 col0\" >12996</td> \n        <td id=\"T_4b14f3aa_ae69_11e8_a4ca_00155d446823row0_col1\" class=\"data row0 col1\" >293</td> \n    </tr>    <tr> \n        <th id=\"T_4b14f3aa_ae69_11e8_a4ca_00155d446823level0_row1\" class=\"row_heading level0 row1\" >yes</th> \n        <td id=\"T_4b14f3aa_ae69_11e8_a4ca_00155d446823row1_col0\" class=\"data row1 col0\" >1178</td> \n        <td id=\"T_4b14f3aa_ae69_11e8_a4ca_00155d446823row1_col1\" class=\"data row1 col1\" >604</td> \n    </tr></tbody> \n</table> ",
            "text/plain": "<pandas.io.formats.style.Styler at 0x7fa7d3bdcf28>"
          },
          "metadata": {}
        }
      ]
    },
    {
      "metadata": {
        "trusted": true
      },
      "cell_type": "code",
      "source": "(1-accuracy_score(test.subscribe,pred))*100",
      "execution_count": 83,
      "outputs": [
        {
          "output_type": "execute_result",
          "execution_count": 83,
          "data": {
            "text/plain": "9.760467122287842"
          },
          "metadata": {}
        }
      ]
    },
    {
      "metadata": {
        "trusted": true
      },
      "cell_type": "code",
      "source": "f1_score(test.subscribe,pred)",
      "execution_count": 84,
      "outputs": [
        {
          "output_type": "execute_result",
          "execution_count": 84,
          "data": {
            "text/plain": "0.4509145203434118"
          },
          "metadata": {}
        }
      ]
    },
    {
      "metadata": {
        "trusted": true
      },
      "cell_type": "code",
      "source": "print(classification_report(test.subscribe,pred,target_names=['no', 'yes'],))",
      "execution_count": 85,
      "outputs": [
        {
          "output_type": "stream",
          "text": "             precision    recall  f1-score   support\n\n         no       0.92      0.98      0.95     13289\n        yes       0.67      0.34      0.45      1782\n\navg / total       0.89      0.90      0.89     15071\n\n",
          "name": "stdout"
        }
      ]
    },
    {
      "metadata": {},
      "cell_type": "markdown",
      "source": " another way is to balance the sampling in the boostrap resamples\n\n 'no' is the more represented class, so we down sample it\n \nscikit-learn does not provide resample algorithms, but we can use the imbalanced-learn library that provides many strategies for kind of problem."
    },
    {
      "metadata": {},
      "cell_type": "markdown",
      "source": "We resample the training so the number of `yes` examples equals the number of `no` examples"
    },
    {
      "metadata": {
        "trusted": true
      },
      "cell_type": "code",
      "source": "from imblearn.under_sampling import RandomUnderSampler\n\nrus = RandomUnderSampler()\nX_resampled, y_resampled = rus.fit_sample(train.loc[:,:'poutcome'], train.subscribe)\nX_resampled.shape",
      "execution_count": 86,
      "outputs": [
        {
          "output_type": "execute_result",
          "execution_count": 86,
          "data": {
            "text/plain": "(7014, 16)"
          },
          "metadata": {}
        }
      ]
    },
    {
      "metadata": {
        "trusted": true
      },
      "cell_type": "code",
      "source": "model_rf3 = RandomForestClassifier(n_estimators=100, oob_score=True).fit(X_resampled, y_resampled)\n\npred = model_rf3.predict(train.loc[:,:'poutcome'])\n\nconfusion(train.subscribe,pred, ['no','yes'])\n\nprint(classification_report(train.subscribe,pred,target_names=['no', 'yes'],))\n\nprint('OOB error=', 1- model_rf3.oob_score_)",
      "execution_count": 87,
      "outputs": [
        {
          "output_type": "execute_result",
          "execution_count": 87,
          "data": {
            "text/html": "<style  type=\"text/css\" >\n    #T_4dae9710_ae69_11e8_a4ca_00155d446823row0_col0 {\n            background-color:  yellow;\n        }    #T_4dae9710_ae69_11e8_a4ca_00155d446823row0_col1 {\n            background-color:  yellow;\n        }</style>  \n<table id=\"T_4dae9710_ae69_11e8_a4ca_00155d446823\" > \n<thead>    <tr> \n        <th class=\"index_name level0\" >Predicted</th> \n        <th class=\"col_heading level0 col0\" >no</th> \n        <th class=\"col_heading level0 col1\" >yes</th> \n    </tr>    <tr> \n        <th class=\"index_name level0\" >Actual</th> \n        <th class=\"blank\" ></th> \n        <th class=\"blank\" ></th> \n    </tr></thead> \n<tbody>    <tr> \n        <th id=\"T_4dae9710_ae69_11e8_a4ca_00155d446823level0_row0\" class=\"row_heading level0 row0\" >no</th> \n        <td id=\"T_4dae9710_ae69_11e8_a4ca_00155d446823row0_col0\" class=\"data row0 col0\" >22574</td> \n        <td id=\"T_4dae9710_ae69_11e8_a4ca_00155d446823row0_col1\" class=\"data row0 col1\" >4059</td> \n    </tr>    <tr> \n        <th id=\"T_4dae9710_ae69_11e8_a4ca_00155d446823level0_row1\" class=\"row_heading level0 row1\" >yes</th> \n        <td id=\"T_4dae9710_ae69_11e8_a4ca_00155d446823row1_col0\" class=\"data row1 col0\" >0</td> \n        <td id=\"T_4dae9710_ae69_11e8_a4ca_00155d446823row1_col1\" class=\"data row1 col1\" >3507</td> \n    </tr></tbody> \n</table> ",
            "text/plain": "<pandas.io.formats.style.Styler at 0x7fa7d4909f60>"
          },
          "metadata": {}
        },
        {
          "output_type": "stream",
          "text": "             precision    recall  f1-score   support\n\n         no       1.00      0.85      0.92     26633\n        yes       0.46      1.00      0.63      3507\n\navg / total       0.94      0.87      0.88     30140\n\nOOB error= 0.14556601083547194\n",
          "name": "stdout"
        }
      ]
    },
    {
      "metadata": {},
      "cell_type": "markdown",
      "source": "which seems to help much more for balancing the `yes` class\n\n let's compute the real test error:"
    },
    {
      "metadata": {
        "trusted": true
      },
      "cell_type": "code",
      "source": "pred = model_rf3.predict(test.loc[:,:'poutcome'])\n\nconfusion(test.subscribe,pred, ['no','yes'])",
      "execution_count": 88,
      "outputs": [
        {
          "output_type": "execute_result",
          "execution_count": 88,
          "data": {
            "text/html": "<style  type=\"text/css\" >\n    #T_4e0eb050_ae69_11e8_a4ca_00155d446823row0_col0 {\n            background-color:  yellow;\n        }    #T_4e0eb050_ae69_11e8_a4ca_00155d446823row0_col1 {\n            background-color:  yellow;\n        }</style>  \n<table id=\"T_4e0eb050_ae69_11e8_a4ca_00155d446823\" > \n<thead>    <tr> \n        <th class=\"index_name level0\" >Predicted</th> \n        <th class=\"col_heading level0 col0\" >no</th> \n        <th class=\"col_heading level0 col1\" >yes</th> \n    </tr>    <tr> \n        <th class=\"index_name level0\" >Actual</th> \n        <th class=\"blank\" ></th> \n        <th class=\"blank\" ></th> \n    </tr></thead> \n<tbody>    <tr> \n        <th id=\"T_4e0eb050_ae69_11e8_a4ca_00155d446823level0_row0\" class=\"row_heading level0 row0\" >no</th> \n        <td id=\"T_4e0eb050_ae69_11e8_a4ca_00155d446823row0_col0\" class=\"data row0 col0\" >10921</td> \n        <td id=\"T_4e0eb050_ae69_11e8_a4ca_00155d446823row0_col1\" class=\"data row0 col1\" >2368</td> \n    </tr>    <tr> \n        <th id=\"T_4e0eb050_ae69_11e8_a4ca_00155d446823level0_row1\" class=\"row_heading level0 row1\" >yes</th> \n        <td id=\"T_4e0eb050_ae69_11e8_a4ca_00155d446823row1_col0\" class=\"data row1 col0\" >200</td> \n        <td id=\"T_4e0eb050_ae69_11e8_a4ca_00155d446823row1_col1\" class=\"data row1 col1\" >1582</td> \n    </tr></tbody> \n</table> ",
            "text/plain": "<pandas.io.formats.style.Styler at 0x7fa7d3aa3358>"
          },
          "metadata": {}
        }
      ]
    },
    {
      "metadata": {
        "trusted": true
      },
      "cell_type": "code",
      "source": "(1-accuracy_score(test.subscribe,pred))*100",
      "execution_count": 89,
      "outputs": [
        {
          "output_type": "execute_result",
          "execution_count": 89,
          "data": {
            "text/plain": "17.039347090438596"
          },
          "metadata": {}
        }
      ]
    },
    {
      "metadata": {
        "trusted": true
      },
      "cell_type": "code",
      "source": "f1_score(test.subscribe,pred)",
      "execution_count": 90,
      "outputs": [
        {
          "output_type": "execute_result",
          "execution_count": 90,
          "data": {
            "text/plain": "0.5519888346127005"
          },
          "metadata": {}
        }
      ]
    },
    {
      "metadata": {
        "trusted": true
      },
      "cell_type": "code",
      "source": "print(classification_report(test.subscribe,pred,target_names=['no', 'yes'],))",
      "execution_count": 91,
      "outputs": [
        {
          "output_type": "stream",
          "text": "             precision    recall  f1-score   support\n\n         no       0.98      0.82      0.89     13289\n        yes       0.40      0.89      0.55      1782\n\navg / total       0.91      0.83      0.85     15071\n\n",
          "name": "stdout"
        }
      ]
    },
    {
      "metadata": {},
      "cell_type": "markdown",
      "source": " Now we can try to optimize the number of trees, guided by OOB:"
    },
    {
      "metadata": {
        "trusted": true
      },
      "cell_type": "code",
      "source": "ntrees = np.array(np.round(10**np.arange(1,3.1,0.2)),dtype=int)\nntrees",
      "execution_count": 92,
      "outputs": [
        {
          "output_type": "execute_result",
          "execution_count": 92,
          "data": {
            "text/plain": "array([  10,   16,   25,   40,   63,  100,  158,  251,  398,  631, 1000])"
          },
          "metadata": {}
        }
      ]
    },
    {
      "metadata": {
        "trusted": true
      },
      "cell_type": "code",
      "source": "rf_results= []\nfor nt in ntrees:\n    model_rf = RandomForestClassifier(n_estimators=nt, oob_score=True).fit(X_resampled, y_resampled)\n    rf_results.append(1-model_rf.oob_score_)\n\nrf_results = pd.DataFrame({'ntrees':ntrees, 'OOB':rf_results})",
      "execution_count": 93,
      "outputs": [
        {
          "output_type": "stream",
          "text": "/home/nbuser/anaconda3_501/lib/python3.6/site-packages/sklearn/ensemble/forest.py:453: UserWarning: Some inputs do not have OOB scores. This probably means too few trees were used to compute any reliable oob estimates.\n  warn(\"Some inputs do not have OOB scores. \"\n/home/nbuser/anaconda3_501/lib/python3.6/site-packages/sklearn/ensemble/forest.py:458: RuntimeWarning: invalid value encountered in true_divide\n  predictions[k].sum(axis=1)[:, np.newaxis])\n/home/nbuser/anaconda3_501/lib/python3.6/site-packages/sklearn/ensemble/forest.py:453: UserWarning: Some inputs do not have OOB scores. This probably means too few trees were used to compute any reliable oob estimates.\n  warn(\"Some inputs do not have OOB scores. \"\n/home/nbuser/anaconda3_501/lib/python3.6/site-packages/sklearn/ensemble/forest.py:458: RuntimeWarning: invalid value encountered in true_divide\n  predictions[k].sum(axis=1)[:, np.newaxis])\n",
          "name": "stderr"
        }
      ]
    },
    {
      "metadata": {
        "trusted": true
      },
      "cell_type": "code",
      "source": "rf_results.style.highlight_min(subset=['OOB'])",
      "execution_count": 94,
      "outputs": [
        {
          "output_type": "execute_result",
          "execution_count": 94,
          "data": {
            "text/html": "<style  type=\"text/css\" >\n    #T_7cf8c928_ae69_11e8_a4ca_00155d446823row9_col1 {\n            background-color:  yellow;\n        }</style>  \n<table id=\"T_7cf8c928_ae69_11e8_a4ca_00155d446823\" > \n<thead>    <tr> \n        <th class=\"blank level0\" ></th> \n        <th class=\"col_heading level0 col0\" >ntrees</th> \n        <th class=\"col_heading level0 col1\" >OOB</th> \n    </tr></thead> \n<tbody>    <tr> \n        <th id=\"T_7cf8c928_ae69_11e8_a4ca_00155d446823level0_row0\" class=\"row_heading level0 row0\" >0</th> \n        <td id=\"T_7cf8c928_ae69_11e8_a4ca_00155d446823row0_col0\" class=\"data row0 col0\" >10</td> \n        <td id=\"T_7cf8c928_ae69_11e8_a4ca_00155d446823row0_col1\" class=\"data row0 col1\" >0.210009</td> \n    </tr>    <tr> \n        <th id=\"T_7cf8c928_ae69_11e8_a4ca_00155d446823level0_row1\" class=\"row_heading level0 row1\" >1</th> \n        <td id=\"T_7cf8c928_ae69_11e8_a4ca_00155d446823row1_col0\" class=\"data row1 col0\" >16</td> \n        <td id=\"T_7cf8c928_ae69_11e8_a4ca_00155d446823row1_col1\" class=\"data row1 col1\" >0.174793</td> \n    </tr>    <tr> \n        <th id=\"T_7cf8c928_ae69_11e8_a4ca_00155d446823level0_row2\" class=\"row_heading level0 row2\" >2</th> \n        <td id=\"T_7cf8c928_ae69_11e8_a4ca_00155d446823row2_col0\" class=\"data row2 col0\" >25</td> \n        <td id=\"T_7cf8c928_ae69_11e8_a4ca_00155d446823row2_col1\" class=\"data row2 col1\" >0.171657</td> \n    </tr>    <tr> \n        <th id=\"T_7cf8c928_ae69_11e8_a4ca_00155d446823level0_row3\" class=\"row_heading level0 row3\" >3</th> \n        <td id=\"T_7cf8c928_ae69_11e8_a4ca_00155d446823row3_col0\" class=\"data row3 col0\" >40</td> \n        <td id=\"T_7cf8c928_ae69_11e8_a4ca_00155d446823row3_col1\" class=\"data row3 col1\" >0.156972</td> \n    </tr>    <tr> \n        <th id=\"T_7cf8c928_ae69_11e8_a4ca_00155d446823level0_row4\" class=\"row_heading level0 row4\" >4</th> \n        <td id=\"T_7cf8c928_ae69_11e8_a4ca_00155d446823row4_col0\" class=\"data row4 col0\" >63</td> \n        <td id=\"T_7cf8c928_ae69_11e8_a4ca_00155d446823row4_col1\" class=\"data row4 col1\" >0.149701</td> \n    </tr>    <tr> \n        <th id=\"T_7cf8c928_ae69_11e8_a4ca_00155d446823level0_row5\" class=\"row_heading level0 row5\" >5</th> \n        <td id=\"T_7cf8c928_ae69_11e8_a4ca_00155d446823row5_col0\" class=\"data row5 col0\" >100</td> \n        <td id=\"T_7cf8c928_ae69_11e8_a4ca_00155d446823row5_col1\" class=\"data row5 col1\" >0.150271</td> \n    </tr>    <tr> \n        <th id=\"T_7cf8c928_ae69_11e8_a4ca_00155d446823level0_row6\" class=\"row_heading level0 row6\" >6</th> \n        <td id=\"T_7cf8c928_ae69_11e8_a4ca_00155d446823row6_col0\" class=\"data row6 col0\" >158</td> \n        <td id=\"T_7cf8c928_ae69_11e8_a4ca_00155d446823row6_col1\" class=\"data row6 col1\" >0.147705</td> \n    </tr>    <tr> \n        <th id=\"T_7cf8c928_ae69_11e8_a4ca_00155d446823level0_row7\" class=\"row_heading level0 row7\" >7</th> \n        <td id=\"T_7cf8c928_ae69_11e8_a4ca_00155d446823row7_col0\" class=\"data row7 col0\" >251</td> \n        <td id=\"T_7cf8c928_ae69_11e8_a4ca_00155d446823row7_col1\" class=\"data row7 col1\" >0.147277</td> \n    </tr>    <tr> \n        <th id=\"T_7cf8c928_ae69_11e8_a4ca_00155d446823level0_row8\" class=\"row_heading level0 row8\" >8</th> \n        <td id=\"T_7cf8c928_ae69_11e8_a4ca_00155d446823row8_col0\" class=\"data row8 col0\" >398</td> \n        <td id=\"T_7cf8c928_ae69_11e8_a4ca_00155d446823row8_col1\" class=\"data row8 col1\" >0.146136</td> \n    </tr>    <tr> \n        <th id=\"T_7cf8c928_ae69_11e8_a4ca_00155d446823level0_row9\" class=\"row_heading level0 row9\" >9</th> \n        <td id=\"T_7cf8c928_ae69_11e8_a4ca_00155d446823row9_col0\" class=\"data row9 col0\" >631</td> \n        <td id=\"T_7cf8c928_ae69_11e8_a4ca_00155d446823row9_col1\" class=\"data row9 col1\" >0.144711</td> \n    </tr>    <tr> \n        <th id=\"T_7cf8c928_ae69_11e8_a4ca_00155d446823level0_row10\" class=\"row_heading level0 row10\" >10</th> \n        <td id=\"T_7cf8c928_ae69_11e8_a4ca_00155d446823row10_col0\" class=\"data row10 col0\" >1000</td> \n        <td id=\"T_7cf8c928_ae69_11e8_a4ca_00155d446823row10_col1\" class=\"data row10 col1\" >0.144853</td> \n    </tr></tbody> \n</table> ",
            "text/plain": "<pandas.io.formats.style.Styler at 0x7fa7d33c2b70>"
          },
          "metadata": {}
        }
      ]
    },
    {
      "metadata": {},
      "cell_type": "markdown",
      "source": " choose best value of 'ntrees'"
    },
    {
      "metadata": {
        "trusted": true
      },
      "cell_type": "code",
      "source": "rf_results.loc[rf_results.OOB.idxmin]",
      "execution_count": 95,
      "outputs": [
        {
          "output_type": "execute_result",
          "execution_count": 95,
          "data": {
            "text/plain": "ntrees    631.000000\nOOB         0.144711\nName: 9, dtype: float64"
          },
          "metadata": {}
        }
      ]
    },
    {
      "metadata": {},
      "cell_type": "markdown",
      "source": "we could also try to optimize the number of variables in the same way, though the default values work quite well in general\n\nNow refit the RF with the best value of 'ntrees'"
    },
    {
      "metadata": {
        "trusted": true
      },
      "cell_type": "code",
      "source": "model_rf = RandomForestClassifier(n_estimators=rf_results.ntrees.loc[rf_results.OOB.idxmin], oob_score=True).fit(X_resampled, y_resampled)",
      "execution_count": 96,
      "outputs": []
    },
    {
      "metadata": {},
      "cell_type": "markdown",
      "source": " let's compute the real test error:"
    },
    {
      "metadata": {
        "trusted": true
      },
      "cell_type": "code",
      "source": "pred = model_rf.predict(test.loc[:,:'poutcome'])\n\nconfusion(test.subscribe,pred, ['no','yes'])",
      "execution_count": 97,
      "outputs": [
        {
          "output_type": "execute_result",
          "execution_count": 97,
          "data": {
            "text/html": "<style  type=\"text/css\" >\n    #T_89f21670_ae69_11e8_a4ca_00155d446823row0_col0 {\n            background-color:  yellow;\n        }    #T_89f21670_ae69_11e8_a4ca_00155d446823row0_col1 {\n            background-color:  yellow;\n        }</style>  \n<table id=\"T_89f21670_ae69_11e8_a4ca_00155d446823\" > \n<thead>    <tr> \n        <th class=\"index_name level0\" >Predicted</th> \n        <th class=\"col_heading level0 col0\" >no</th> \n        <th class=\"col_heading level0 col1\" >yes</th> \n    </tr>    <tr> \n        <th class=\"index_name level0\" >Actual</th> \n        <th class=\"blank\" ></th> \n        <th class=\"blank\" ></th> \n    </tr></thead> \n<tbody>    <tr> \n        <th id=\"T_89f21670_ae69_11e8_a4ca_00155d446823level0_row0\" class=\"row_heading level0 row0\" >no</th> \n        <td id=\"T_89f21670_ae69_11e8_a4ca_00155d446823row0_col0\" class=\"data row0 col0\" >10883</td> \n        <td id=\"T_89f21670_ae69_11e8_a4ca_00155d446823row0_col1\" class=\"data row0 col1\" >2406</td> \n    </tr>    <tr> \n        <th id=\"T_89f21670_ae69_11e8_a4ca_00155d446823level0_row1\" class=\"row_heading level0 row1\" >yes</th> \n        <td id=\"T_89f21670_ae69_11e8_a4ca_00155d446823row1_col0\" class=\"data row1 col0\" >198</td> \n        <td id=\"T_89f21670_ae69_11e8_a4ca_00155d446823row1_col1\" class=\"data row1 col1\" >1584</td> \n    </tr></tbody> \n</table> ",
            "text/plain": "<pandas.io.formats.style.Styler at 0x7fa7d37f2860>"
          },
          "metadata": {}
        }
      ]
    },
    {
      "metadata": {
        "trusted": true
      },
      "cell_type": "code",
      "source": "(1-accuracy_score(test.subscribe,pred))*100",
      "execution_count": 98,
      "outputs": [
        {
          "output_type": "execute_result",
          "execution_count": 98,
          "data": {
            "text/plain": "17.27821644217371"
          },
          "metadata": {}
        }
      ]
    },
    {
      "metadata": {
        "trusted": true
      },
      "cell_type": "code",
      "source": "f1_score(test.subscribe,pred)",
      "execution_count": 99,
      "outputs": [
        {
          "output_type": "execute_result",
          "execution_count": 99,
          "data": {
            "text/plain": "0.5488565488565488"
          },
          "metadata": {}
        }
      ]
    },
    {
      "metadata": {
        "trusted": true
      },
      "cell_type": "code",
      "source": "print(classification_report(test.subscribe,pred,target_names=['no', 'yes'],))",
      "execution_count": 100,
      "outputs": [
        {
          "output_type": "stream",
          "text": "             precision    recall  f1-score   support\n\n         no       0.98      0.82      0.89     13289\n        yes       0.40      0.89      0.55      1782\n\navg / total       0.91      0.83      0.85     15071\n\n",
          "name": "stdout"
        }
      ]
    },
    {
      "metadata": {},
      "cell_type": "markdown",
      "source": " The importance of variables"
    },
    {
      "metadata": {
        "trusted": true
      },
      "cell_type": "code",
      "source": "var_imp = pd.DataFrame({'importance': model_rf.feature_importances_},index=deposit.columns[:-1])",
      "execution_count": 101,
      "outputs": []
    },
    {
      "metadata": {
        "trusted": true
      },
      "cell_type": "code",
      "source": "var_imp.sort_values(by='importance').plot.barh(figsize=(8,8),legend=False);",
      "execution_count": 102,
      "outputs": [
        {
          "output_type": "display_data",
          "data": {
            "image/png": "[encoded data removed]",
            "text/plain": "<matplotlib.figure.Figure at 0x7fa7d36cbc18>"
          },
          "metadata": {}
        }
      ]
    },
    {
      "metadata": {},
      "cell_type": "markdown",
      "source": " 'duration' is the most important variable\n\n plot error rate: black = out of bag (OOB), red = label 1 ('no'), green  = label 2 ('yes')\n as a function of the number of trees used"
    },
    {
      "metadata": {
        "trusted": true
      },
      "cell_type": "code",
      "source": "rf_results.plot(x='ntrees',y='OOB',figsize=(8,8));",
      "execution_count": 103,
      "outputs": [
        {
          "output_type": "display_data",
          "data": {
            "image/png": "[encoded data removed]",
            "text/plain": "<matplotlib.figure.Figure at 0x7fa7d3285198>"
          },
          "metadata": {}
        }
      ]
    }
  ],
  "metadata": {
    "kernelspec": {
      "name": "python36",
      "display_name": "Python 3.6",
      "language": "python"
    },
    "language_info": {
      "mimetype": "text/x-python",
      "nbconvert_exporter": "python",
      "name": "python",
      "pygments_lexer": "ipython3",
      "version": "3.6.3",
      "file_extension": ".py",
      "codemirror_mode": {
        "version": 3,
        "name": "ipython"
      }
    },
    "toc": {
      "base_numbering": 1,
      "nav_menu": {},
      "number_sections": true,
      "sideBar": true,
      "skip_h1_title": false,
      "title_cell": "Table of Contents",
      "title_sidebar": "Contents",
      "toc_cell": false,
      "toc_position": {},
      "toc_section_display": true,
      "toc_window_display": true
    }
  },
  "nbformat": 4,
  "nbformat_minor": 2
}